{
 "cells": [
  {
   "cell_type": "code",
   "execution_count": 2,
   "metadata": {
    "collapsed": true
   },
   "outputs": [],
   "source": [
    "import pandas as pd\n",
    "from MutiprocessDataframe import callfunction\n",
    "import numpy as np"
   ]
  },
  {
   "cell_type": "code",
   "execution_count": 3,
   "metadata": {
    "collapsed": false
   },
   "outputs": [
    {
     "name": "stdout",
     "output_type": "stream",
     "text": [
      "Calling MultiProcess\n"
     ]
    },
    {
     "data": {
      "text/plain": [
       "(417436, 16)"
      ]
     },
     "execution_count": 3,
     "metadata": {},
     "output_type": "execute_result"
    }
   ],
   "source": [
    "basefolder=r'C:\\Users\\amac\\Documents\\Development\\0117-DaiAnalysis\\Upwork\\api'\n",
    "print (\"Calling MultiProcess\")\n",
    "resourceslist = callfunction(basefolder)\n",
    "resourceslist.shape"
   ]
  },
  {
   "cell_type": "code",
   "execution_count": null,
   "metadata": {
    "collapsed": true
   },
   "outputs": [],
   "source": []
  },
  {
   "cell_type": "code",
   "execution_count": 10,
   "metadata": {
    "collapsed": false
   },
   "outputs": [],
   "source": [
    "#READING PANDAS\n",
    "# csvname='upworkResourceCSV_10k'\n",
    "# dfsample = pd.read_csv(csvname+'.csv',delimiter=\";\")\n",
    "# dfsample.shape"
   ]
  },
  {
   "cell_type": "code",
   "execution_count": 11,
   "metadata": {
    "collapsed": false
   },
   "outputs": [],
   "source": [
    "# sample=dfsample.sample(20)\n",
    "# sample.head()"
   ]
  },
  {
   "cell_type": "code",
   "execution_count": 16,
   "metadata": {
    "collapsed": false
   },
   "outputs": [
    {
     "name": "stdout",
     "output_type": "stream",
     "text": [
      "(63337, 16)\n",
      "(354099, 16)\n"
     ]
    },
    {
     "ename": "NameError",
     "evalue": "name 'np' is not defined",
     "output_type": "error",
     "traceback": [
      "\u001b[0;31m---------------------------------------------------------------------------\u001b[0m",
      "\u001b[0;31mNameError\u001b[0m                                 Traceback (most recent call last)",
      "\u001b[0;32m<ipython-input-16-10bdc43d5b33>\u001b[0m in \u001b[0;36m<module>\u001b[0;34m()\u001b[0m\n\u001b[1;32m      2\u001b[0m \u001b[0mdf2\u001b[0m\u001b[1;33m=\u001b[0m\u001b[0mresourceslist\u001b[0m\u001b[1;33m.\u001b[0m\u001b[0mdrop_duplicates\u001b[0m\u001b[1;33m(\u001b[0m\u001b[1;33m)\u001b[0m\u001b[1;33m\u001b[0m\u001b[0m\n\u001b[1;32m      3\u001b[0m \u001b[0mprint\u001b[0m\u001b[1;33m(\u001b[0m\u001b[0mdf2\u001b[0m\u001b[1;33m.\u001b[0m\u001b[0mshape\u001b[0m\u001b[1;33m)\u001b[0m\u001b[1;33m\u001b[0m\u001b[0m\n\u001b[0;32m----> 4\u001b[0;31m \u001b[0mdf2\u001b[0m\u001b[1;33m=\u001b[0m\u001b[0mdf2\u001b[0m\u001b[1;33m.\u001b[0m\u001b[0mreplace\u001b[0m\u001b[1;33m(\u001b[0m\u001b[1;34m\"-\"\u001b[0m\u001b[1;33m,\u001b[0m\u001b[0mnp\u001b[0m\u001b[1;33m.\u001b[0m\u001b[0mnan\u001b[0m\u001b[1;33m)\u001b[0m\u001b[1;33m\u001b[0m\u001b[0m\n\u001b[0m",
      "\u001b[0;31mNameError\u001b[0m: name 'np' is not defined"
     ]
    }
   ],
   "source": [
    "print(resourceslist[resourceslist.duplicated()].shape)\n",
    "df2=resourceslist.drop_duplicates()\n",
    "print(df2.shape)"
   ]
  },
  {
   "cell_type": "code",
   "execution_count": 30,
   "metadata": {
    "collapsed": false
   },
   "outputs": [
    {
     "data": {
      "text/plain": [
       "0                        NaN\n",
       "1          February 26, 2017\n",
       "2              March 1, 2017\n",
       "3              March 1, 2017\n",
       "4              March 2, 2017\n",
       "5              March 1, 2017\n",
       "6              March 2, 2017\n",
       "7          February 27, 2017\n",
       "8          February 27, 2017\n",
       "9          February 28, 2017\n",
       "10         February 28, 2017\n",
       "11             March 2, 2017\n",
       "12         February 25, 2017\n",
       "13             March 1, 2017\n",
       "14             March 1, 2017\n",
       "15         February 27, 2017\n",
       "16             March 1, 2017\n",
       "17             March 1, 2017\n",
       "18         February 27, 2017\n",
       "19         February 28, 2017\n",
       "20             March 1, 2017\n",
       "21             March 2, 2017\n",
       "22         February 25, 2017\n",
       "23             March 2, 2017\n",
       "24         February 18, 2017\n",
       "25             March 2, 2017\n",
       "26             March 1, 2017\n",
       "27         February 24, 2017\n",
       "28         February 27, 2017\n",
       "29         February 21, 2017\n",
       "                 ...        \n",
       "417286       January 6, 2016\n",
       "417287          July 8, 2015\n",
       "417289      November 9, 2015\n",
       "417290     February 26, 2015\n",
       "417291        March 21, 2016\n",
       "417292     February 25, 2016\n",
       "417293      October 19, 2013\n",
       "417294      February 8, 2016\n",
       "417295         July 12, 2016\n",
       "417307      October 21, 2014\n",
       "417317       August 29, 2016\n",
       "417319       January 7, 2015\n",
       "417324    September 26, 2016\n",
       "417325     February 15, 2016\n",
       "417326     November 15, 2014\n",
       "417343          May 11, 2014\n",
       "417344     February 27, 2014\n",
       "417354      December 4, 2016\n",
       "417358          May 31, 2016\n",
       "417372    September 21, 2016\n",
       "417376       August 13, 2015\n",
       "417377         April 5, 2016\n",
       "417378         July 14, 2016\n",
       "417379      January 19, 2016\n",
       "417380      January 16, 2016\n",
       "417397       August 26, 2016\n",
       "417398      December 4, 2015\n",
       "417427    September 22, 2015\n",
       "417431     November 22, 2015\n",
       "417433     November 16, 2016\n",
       "Name: last_activity, dtype: object"
      ]
     },
     "execution_count": 30,
     "metadata": {},
     "output_type": "execute_result"
    }
   ],
   "source": [
    "df2=df2.replace(\"-\",np.nan)\n",
    "df2=df2.replace(\"0\",np.nan)\n",
    "df2=df2.replace(\"2\",np.nan)\n",
    "df2['last_activity']"
   ]
  },
  {
   "cell_type": "code",
   "execution_count": 31,
   "metadata": {
    "collapsed": false
   },
   "outputs": [],
   "source": [
    "df2['last_activity']=pd.to_datetime(df2.last_activity,format=\"%B %d, %Y\")"
   ]
  },
  {
   "cell_type": "code",
   "execution_count": 33,
   "metadata": {
    "collapsed": false
   },
   "outputs": [],
   "source": [
    "df3=df2[df2.last_activity>'2017-02-14']"
   ]
  },
  {
   "cell_type": "code",
   "execution_count": 37,
   "metadata": {
    "collapsed": false
   },
   "outputs": [
    {
     "name": "stderr",
     "output_type": "stream",
     "text": [
      "C:\\Users\\amac\\Anaconda3\\lib\\site-packages\\ipykernel\\__main__.py:1: SettingWithCopyWarning: \n",
      "A value is trying to be set on a copy of a slice from a DataFrame.\n",
      "Try using .loc[row_indexer,col_indexer] = value instead\n",
      "\n",
      "See the caveats in the documentation: http://pandas.pydata.org/pandas-docs/stable/indexing.html#indexing-view-versus-copy\n",
      "  if __name__ == '__main__':\n"
     ]
    },
    {
     "data": {
      "text/plain": [
       "portrait_50                      object\n",
       "categories2                      object\n",
       "profile_type                     object\n",
       "title                            object\n",
       "skills                           object\n",
       "country                          object\n",
       "description                      object\n",
       "name                             object\n",
       "last_activity            datetime64[ns]\n",
       "rate                            float64\n",
       "member_since                     object\n",
       "portfolio_items_count            object\n",
       "id                               object\n",
       "test_passed_count                object\n",
       "feedback                         object\n",
       "filename                         object\n",
       "dtype: object"
      ]
     },
     "execution_count": 37,
     "metadata": {},
     "output_type": "execute_result"
    }
   ],
   "source": [
    "df3['rate']=df3.rate.astype('float')\n",
    "df3.dtypes"
   ]
  },
  {
   "cell_type": "code",
   "execution_count": 46,
   "metadata": {
    "collapsed": false
   },
   "outputs": [
    {
     "data": {
      "text/plain": [
       "(17516, 16)"
      ]
     },
     "execution_count": 46,
     "metadata": {},
     "output_type": "execute_result"
    }
   ],
   "source": [
    "df4=df3[(df3.rate>=10) & (df3.rate<=30)].copy()\n",
    "df4.shape"
   ]
  },
  {
   "cell_type": "code",
   "execution_count": 63,
   "metadata": {
    "collapsed": true
   },
   "outputs": [],
   "source": [
    "#merge in used accounts\n",
    "used1=r'2_24_sampele_75.csv'\n",
    "used2=r'pretest_09-2.csv'\n",
    "used1 = pd.read_csv(used1)\n",
    "used2 = pd.read_csv(used2)"
   ]
  },
  {
   "cell_type": "code",
   "execution_count": 64,
   "metadata": {
    "collapsed": false
   },
   "outputs": [
    {
     "data": {
      "text/plain": [
       "(25, 2)"
      ]
     },
     "execution_count": 64,
     "metadata": {},
     "output_type": "execute_result"
    }
   ],
   "source": [
    "used2.shape"
   ]
  },
  {
   "cell_type": "code",
   "execution_count": 66,
   "metadata": {
    "collapsed": false
   },
   "outputs": [],
   "source": [
    "used1['alreadyMessaged']=\"T\"\n",
    "used2['alreadyMessaged']=\"T\""
   ]
  },
  {
   "cell_type": "code",
   "execution_count": 67,
   "metadata": {
    "collapsed": false
   },
   "outputs": [],
   "source": [
    "url1=used1[['id','alreadyMessaged']]\n",
    "url2=used2[['id','alreadyMessaged']]\n",
    "url3=url1.append(url2)\n"
   ]
  },
  {
   "cell_type": "code",
   "execution_count": 68,
   "metadata": {
    "collapsed": false
   },
   "outputs": [
    {
     "data": {
      "text/plain": [
       "(102, 2)"
      ]
     },
     "execution_count": 68,
     "metadata": {},
     "output_type": "execute_result"
    }
   ],
   "source": [
    "url3.shape"
   ]
  },
  {
   "cell_type": "code",
   "execution_count": 69,
   "metadata": {
    "collapsed": true
   },
   "outputs": [],
   "source": [
    "df5=df4.merge(url3,on=['id'],how=\"left\")"
   ]
  },
  {
   "cell_type": "code",
   "execution_count": 73,
   "metadata": {
    "collapsed": false
   },
   "outputs": [
    {
     "data": {
      "text/plain": [
       "(52, 17)"
      ]
     },
     "execution_count": 73,
     "metadata": {},
     "output_type": "execute_result"
    }
   ],
   "source": [
    "df5[df5.alreadyMessaged=='T'].shape"
   ]
  },
  {
   "cell_type": "code",
   "execution_count": 74,
   "metadata": {
    "collapsed": true
   },
   "outputs": [],
   "source": [
    "df5.to_csv(\"All_Writers_18k.csv\")"
   ]
  },
  {
   "cell_type": "code",
   "execution_count": 76,
   "metadata": {
    "collapsed": true
   },
   "outputs": [],
   "source": [
    "i=350\n",
    "sample=df5.sample(i)\n",
    "sample.to_csv(\"3_02_sampele_\"+str(i)+\".csv\")"
   ]
  },
  {
   "cell_type": "code",
   "execution_count": 32,
   "metadata": {
    "collapsed": false
   },
   "outputs": [
    {
     "name": "stdout",
     "output_type": "stream",
     "text": [
      "Calling MultiProcess\n"
     ]
    },
    {
     "data": {
      "text/plain": [
       "(350, 32)"
      ]
     },
     "execution_count": 32,
     "metadata": {},
     "output_type": "execute_result"
    }
   ],
   "source": [
    "basefolder=r'C:\\Users\\amac\\Documents\\GoogleDrive\\Washu\\01-17-Dai\\Upwork\\UpworkShared\\Batch1\\Batch1results'\n",
    "print (\"Calling MultiProcess\")\n",
    "resourceslist = callfunction(basefolder)\n",
    "resourceslist.shape"
   ]
  },
  {
   "cell_type": "code",
   "execution_count": 28,
   "metadata": {
    "collapsed": false
   },
   "outputs": [
    {
     "data": {
      "text/html": [
       "<div>\n",
       "<table border=\"1\" class=\"dataframe\">\n",
       "  <thead>\n",
       "    <tr style=\"text-align: right;\">\n",
       "      <th></th>\n",
       "      <th>Unnamed: 0</th>\n",
       "      <th>Unnamed: 0.1</th>\n",
       "      <th>portrait_50</th>\n",
       "      <th>categories2</th>\n",
       "      <th>profile_type</th>\n",
       "      <th>title</th>\n",
       "      <th>skills</th>\n",
       "      <th>country</th>\n",
       "      <th>description</th>\n",
       "      <th>name</th>\n",
       "      <th>...</th>\n",
       "      <th>worked</th>\n",
       "      <th>jobs</th>\n",
       "      <th>earned</th>\n",
       "      <th>accolade</th>\n",
       "      <th>success</th>\n",
       "      <th>availability</th>\n",
       "      <th>messaged</th>\n",
       "      <th>job_in_progress</th>\n",
       "      <th>scraped_rate</th>\n",
       "      <th>language</th>\n",
       "    </tr>\n",
       "  </thead>\n",
       "  <tbody>\n",
       "    <tr>\n",
       "      <th>345</th>\n",
       "      <td>145</td>\n",
       "      <td>6044</td>\n",
       "      <td>https://odesk-prod-portraits.s3.amazonaws.com/...</td>\n",
       "      <td>Admin Support--Web, Mobile &amp; Software Dev--Acc...</td>\n",
       "      <td>Independent</td>\n",
       "      <td>Expert Technical Writer with Cloud Computing, ...</td>\n",
       "      <td>virtualization--windows-administration--networ...</td>\n",
       "      <td>India</td>\n",
       "      <td>I am a System Administrator, Writer, and Edito...</td>\n",
       "      <td>Saroj Kar</td>\n",
       "      <td>...</td>\n",
       "      <td>5,091</td>\n",
       "      <td>74.0</td>\n",
       "      <td>$40k+</td>\n",
       "      <td>NaN</td>\n",
       "      <td>83% Job Success</td>\n",
       "      <td>AvailableLess than 30 hrs/weekAvailableLess th...</td>\n",
       "      <td>Y</td>\n",
       "      <td>14</td>\n",
       "      <td>$12.50</td>\n",
       "      <td>English: Fluent</td>\n",
       "    </tr>\n",
       "    <tr>\n",
       "      <th>346</th>\n",
       "      <td>146</td>\n",
       "      <td>6012</td>\n",
       "      <td>https://odesk-prod-portraits.s3.amazonaws.com/...</td>\n",
       "      <td>Translation--Writing--Admin Support--Customer ...</td>\n",
       "      <td>Independent</td>\n",
       "      <td>Global Linguistic Solutions - German/English B...</td>\n",
       "      <td>translation-german-english--translation-englis...</td>\n",
       "      <td>Germany</td>\n",
       "      <td>Looking for a translator and proofreader that ...</td>\n",
       "      <td>Jakob S.</td>\n",
       "      <td>...</td>\n",
       "      <td>68</td>\n",
       "      <td>38.0</td>\n",
       "      <td>$2k+</td>\n",
       "      <td>TOP RATED</td>\n",
       "      <td>97% Job Success</td>\n",
       "      <td>AvailableMore than 30 hrs/weekAvailableMore th...</td>\n",
       "      <td>Y</td>\n",
       "      <td>8</td>\n",
       "      <td>$20.00</td>\n",
       "      <td>English: Native or Bilingual</td>\n",
       "    </tr>\n",
       "    <tr>\n",
       "      <th>347</th>\n",
       "      <td>147</td>\n",
       "      <td>216</td>\n",
       "      <td>https://odesk-prod-portraits.s3.amazonaws.com/...</td>\n",
       "      <td>Writing</td>\n",
       "      <td>Independent</td>\n",
       "      <td>Creative Blog and Article Writer</td>\n",
       "      <td>creative-writing--blog-writing--article-writin...</td>\n",
       "      <td>United States</td>\n",
       "      <td>Writing is like sipping a pumpkin spice latte ...</td>\n",
       "      <td>Sarah George</td>\n",
       "      <td>...</td>\n",
       "      <td>20</td>\n",
       "      <td>11.0</td>\n",
       "      <td>$4k+</td>\n",
       "      <td>NaN</td>\n",
       "      <td>81% Job Success</td>\n",
       "      <td>AvailableMore than 30 hrs/weekAvailableMore th...</td>\n",
       "      <td>Y</td>\n",
       "      <td>5</td>\n",
       "      <td>$25.00</td>\n",
       "      <td>English: Native or Bilingual</td>\n",
       "    </tr>\n",
       "    <tr>\n",
       "      <th>348</th>\n",
       "      <td>148</td>\n",
       "      <td>2486</td>\n",
       "      <td>https://odesk-prod-portraits.s3.amazonaws.com/...</td>\n",
       "      <td>Writing</td>\n",
       "      <td>Independent</td>\n",
       "      <td>Psychologist &amp; Writer</td>\n",
       "      <td>counseling-psychology--academic-writing--human...</td>\n",
       "      <td>Serbia</td>\n",
       "      <td>In love with writing and psychology. Having an...</td>\n",
       "      <td>Ina Borenovic</td>\n",
       "      <td>...</td>\n",
       "      <td>4</td>\n",
       "      <td>25.0</td>\n",
       "      <td>$1k+</td>\n",
       "      <td>NaN</td>\n",
       "      <td>88% Job Success</td>\n",
       "      <td>AvailableLess than 30 hrs/weekAvailableLess th...</td>\n",
       "      <td>Y</td>\n",
       "      <td>0</td>\n",
       "      <td>$23.33</td>\n",
       "      <td>English: Fluent</td>\n",
       "    </tr>\n",
       "    <tr>\n",
       "      <th>349</th>\n",
       "      <td>149</td>\n",
       "      <td>1591</td>\n",
       "      <td>https://odesk-prod-portraits.s3.amazonaws.com/...</td>\n",
       "      <td>Translation--Writing--Design &amp; Creative--Sales...</td>\n",
       "      <td>Independent</td>\n",
       "      <td>Re- writer, Article writer, Content Writer, SE...</td>\n",
       "      <td>seo--ebook-writing--microsoft-word--editorial-...</td>\n",
       "      <td>Kenya</td>\n",
       "      <td>Actions speak louder than words. I walk the ta...</td>\n",
       "      <td>Grace N.</td>\n",
       "      <td>...</td>\n",
       "      <td>8</td>\n",
       "      <td>94.0</td>\n",
       "      <td>$6k+</td>\n",
       "      <td>NaN</td>\n",
       "      <td>100% Job Success</td>\n",
       "      <td>AvailableMore than 30 hrs/weekAvailableMore th...</td>\n",
       "      <td>Y</td>\n",
       "      <td>10</td>\n",
       "      <td>$12.50</td>\n",
       "      <td>English: Fluent</td>\n",
       "    </tr>\n",
       "  </tbody>\n",
       "</table>\n",
       "<p>5 rows × 32 columns</p>\n",
       "</div>"
      ],
      "text/plain": [
       "     Unnamed: 0  Unnamed: 0.1  \\\n",
       "345         145          6044   \n",
       "346         146          6012   \n",
       "347         147           216   \n",
       "348         148          2486   \n",
       "349         149          1591   \n",
       "\n",
       "                                           portrait_50  \\\n",
       "345  https://odesk-prod-portraits.s3.amazonaws.com/...   \n",
       "346  https://odesk-prod-portraits.s3.amazonaws.com/...   \n",
       "347  https://odesk-prod-portraits.s3.amazonaws.com/...   \n",
       "348  https://odesk-prod-portraits.s3.amazonaws.com/...   \n",
       "349  https://odesk-prod-portraits.s3.amazonaws.com/...   \n",
       "\n",
       "                                           categories2 profile_type  \\\n",
       "345  Admin Support--Web, Mobile & Software Dev--Acc...  Independent   \n",
       "346  Translation--Writing--Admin Support--Customer ...  Independent   \n",
       "347                                            Writing  Independent   \n",
       "348                                            Writing  Independent   \n",
       "349  Translation--Writing--Design & Creative--Sales...  Independent   \n",
       "\n",
       "                                                 title  \\\n",
       "345  Expert Technical Writer with Cloud Computing, ...   \n",
       "346  Global Linguistic Solutions - German/English B...   \n",
       "347                   Creative Blog and Article Writer   \n",
       "348                              Psychologist & Writer   \n",
       "349  Re- writer, Article writer, Content Writer, SE...   \n",
       "\n",
       "                                                skills        country  \\\n",
       "345  virtualization--windows-administration--networ...          India   \n",
       "346  translation-german-english--translation-englis...        Germany   \n",
       "347  creative-writing--blog-writing--article-writin...  United States   \n",
       "348  counseling-psychology--academic-writing--human...         Serbia   \n",
       "349  seo--ebook-writing--microsoft-word--editorial-...          Kenya   \n",
       "\n",
       "                                           description           name  \\\n",
       "345  I am a System Administrator, Writer, and Edito...      Saroj Kar   \n",
       "346  Looking for a translator and proofreader that ...       Jakob S.   \n",
       "347  Writing is like sipping a pumpkin spice latte ...   Sarah George   \n",
       "348  In love with writing and psychology. Having an...  Ina Borenovic   \n",
       "349  Actions speak louder than words. I walk the ta...       Grace N.   \n",
       "\n",
       "                 ...              worked  jobs earned   accolade  \\\n",
       "345              ...               5,091  74.0  $40k+        NaN   \n",
       "346              ...                  68  38.0   $2k+  TOP RATED   \n",
       "347              ...                  20  11.0   $4k+        NaN   \n",
       "348              ...                   4  25.0   $1k+        NaN   \n",
       "349              ...                   8  94.0   $6k+        NaN   \n",
       "\n",
       "              success                                       availability  \\\n",
       "345   83% Job Success  AvailableLess than 30 hrs/weekAvailableLess th...   \n",
       "346   97% Job Success  AvailableMore than 30 hrs/weekAvailableMore th...   \n",
       "347   81% Job Success  AvailableMore than 30 hrs/weekAvailableMore th...   \n",
       "348   88% Job Success  AvailableLess than 30 hrs/weekAvailableLess th...   \n",
       "349  100% Job Success  AvailableMore than 30 hrs/weekAvailableMore th...   \n",
       "\n",
       "     messaged job_in_progress  scraped_rate                      language  \n",
       "345         Y              14        $12.50               English: Fluent  \n",
       "346         Y               8        $20.00  English: Native or Bilingual  \n",
       "347         Y               5        $25.00  English: Native or Bilingual  \n",
       "348         Y               0        $23.33               English: Fluent  \n",
       "349         Y              10        $12.50               English: Fluent  \n",
       "\n",
       "[5 rows x 32 columns]"
      ]
     },
     "execution_count": 28,
     "metadata": {},
     "output_type": "execute_result"
    }
   ],
   "source": [
    "resourceslist.tail()"
   ]
  },
  {
   "cell_type": "code",
   "execution_count": 30,
   "metadata": {
    "collapsed": false
   },
   "outputs": [],
   "source": [
    "#resourceslist.messaged"
   ]
  },
  {
   "cell_type": "code",
   "execution_count": 13,
   "metadata": {
    "collapsed": true
   },
   "outputs": [],
   "source": [
    "#rl=resourceslist.drop_duplicates()"
   ]
  },
  {
   "cell_type": "code",
   "execution_count": 33,
   "metadata": {
    "collapsed": false
   },
   "outputs": [],
   "source": [
    "r1=resourceslist"
   ]
  },
  {
   "cell_type": "code",
   "execution_count": 31,
   "metadata": {
    "collapsed": false
   },
   "outputs": [],
   "source": [
    "r1=resourceslist[resourceslist['messaged'].notnull()]"
   ]
  },
  {
   "cell_type": "code",
   "execution_count": 37,
   "metadata": {
    "collapsed": false
   },
   "outputs": [
    {
     "data": {
      "text/plain": [
       "(216, 33)"
      ]
     },
     "execution_count": 37,
     "metadata": {},
     "output_type": "execute_result"
    }
   ],
   "source": [
    "rm=r1[r1['messaged']=='Y']\n",
    "rm.shape"
   ]
  },
  {
   "cell_type": "code",
   "execution_count": 34,
   "metadata": {
    "collapsed": false
   },
   "outputs": [
    {
     "data": {
      "text/plain": [
       "(158, 32)"
      ]
     },
     "execution_count": 34,
     "metadata": {},
     "output_type": "execute_result"
    }
   ],
   "source": [
    "r2=r1.drop_duplicates(subset='id')\n",
    "r2.shape"
   ]
  },
  {
   "cell_type": "code",
   "execution_count": 22,
   "metadata": {
    "collapsed": false
   },
   "outputs": [
    {
     "name": "stdout",
     "output_type": "stream",
     "text": [
      "https://www.upwork.com/freelancers/_~01067bc1f3e1bba71b\n",
      "144    g582b6fjtr@hotmail.com\n",
      "Name: login, dtype: object\n",
      "https://www.upwork.com/freelancers/_~010838d0e8b118be4a\n",
      "278    f8ygkgmcrx@hotmail.com\n",
      "303    f8ygkgmcrx@hotmail.com\n",
      "Name: login, dtype: object\n",
      "https://www.upwork.com/freelancers/_~0109c61fd03223e8fd\n",
      "66     e4j4ohkbsm@hotmail.com\n",
      "91     e4j4ohkbsm@hotmail.com\n",
      "116    e4j4ohkbsm@hotmail.com\n",
      "Name: login, dtype: object\n",
      "https://www.upwork.com/freelancers/_~010a73e62ea33642ae\n",
      "288    f8ygkgmcrx@hotmail.com\n",
      "313    f8ygkgmcrx@hotmail.com\n",
      "Name: login, dtype: object\n",
      "https://www.upwork.com/freelancers/_~010bcc325d29e91310\n",
      "59     e4j4ohkbsm@hotmail.com\n",
      "84     e4j4ohkbsm@hotmail.com\n",
      "109    e4j4ohkbsm@hotmail.com\n",
      "Name: login, dtype: object\n",
      "https://www.upwork.com/freelancers/_~010d7e6a029e9ba7ca\n",
      "241    hcyq10ar27@hotmail.com\n",
      "266    hcyq10ar27@hotmail.com\n",
      "Name: login, dtype: object\n",
      "https://www.upwork.com/freelancers/_~010ecaf960eb1710a4\n",
      "286    f8ygkgmcrx@hotmail.com\n",
      "311    f8ygkgmcrx@hotmail.com\n",
      "Name: login, dtype: object\n",
      "https://www.upwork.com/freelancers/_~010f05ef97110e149b\n",
      "296    f8ygkgmcrx@hotmail.com\n",
      "321    f8ygkgmcrx@hotmail.com\n",
      "Name: login, dtype: object\n",
      "https://www.upwork.com/freelancers/_~01105fbd284dcfb406\n",
      "151    jgig6d38h5@hotmail.com\n",
      "176    jgig6d38h5@hotmail.com\n",
      "201    jgig6d38h5@hotmail.com\n",
      "Name: login, dtype: object\n",
      "https://www.upwork.com/freelancers/_~011079bcfa376b284a\n",
      "71     e4j4ohkbsm@hotmail.com\n",
      "96     e4j4ohkbsm@hotmail.com\n",
      "121    e4j4ohkbsm@hotmail.com\n",
      "Name: login, dtype: object\n",
      "https://www.upwork.com/freelancers/_~0110b044e3d3af52a6\n",
      "226    hcyq10ar27@hotmail.com\n",
      "251    hcyq10ar27@hotmail.com\n",
      "Name: login, dtype: object\n",
      "https://www.upwork.com/freelancers/_~0111754b1f3dbeccff\n",
      "295    f8ygkgmcrx@hotmail.com\n",
      "320    f8ygkgmcrx@hotmail.com\n",
      "Name: login, dtype: object\n",
      "https://www.upwork.com/freelancers/_~011352a192a02b1747\n",
      "160    jgig6d38h5@hotmail.com\n",
      "185    jgig6d38h5@hotmail.com\n",
      "210    jgig6d38h5@hotmail.com\n",
      "Name: login, dtype: object\n",
      "https://www.upwork.com/freelancers/_~011690c38a720d5279\n",
      "67     e4j4ohkbsm@hotmail.com\n",
      "92     e4j4ohkbsm@hotmail.com\n",
      "117    e4j4ohkbsm@hotmail.com\n",
      "Name: login, dtype: object\n",
      "https://www.upwork.com/freelancers/_~0119abb48c40aeb7d1\n",
      "20    o4BUT7hHXN@yahoo.com\n",
      "45    o4BUT7hHXN@yahoo.com\n",
      "Name: login, dtype: object\n",
      "https://www.upwork.com/freelancers/_~011d8b5d5a7ef9b084\n",
      "165    jgig6d38h5@hotmail.com\n",
      "190    jgig6d38h5@hotmail.com\n",
      "215    jgig6d38h5@hotmail.com\n",
      "Name: login, dtype: object\n",
      "https://www.upwork.com/freelancers/_~011e1b0bf666156687\n",
      "234    hcyq10ar27@hotmail.com\n",
      "259    hcyq10ar27@hotmail.com\n",
      "Name: login, dtype: object\n",
      "https://www.upwork.com/freelancers/_~011e1fd5c41613a898\n",
      "134    g582b6fjtr@hotmail.com\n",
      "Name: login, dtype: object\n",
      "https://www.upwork.com/freelancers/_~011eaecd5f6ade1232\n",
      "298    f8ygkgmcrx@hotmail.com\n",
      "323    f8ygkgmcrx@hotmail.com\n",
      "Name: login, dtype: object\n",
      "https://www.upwork.com/freelancers/_~012183adcfe5fdb191\n",
      "294    f8ygkgmcrx@hotmail.com\n",
      "319    f8ygkgmcrx@hotmail.com\n",
      "Name: login, dtype: object\n",
      "https://www.upwork.com/freelancers/_~0121bb8b1814414a45\n",
      "127    g582b6fjtr@hotmail.com\n",
      "Name: login, dtype: object\n",
      "https://www.upwork.com/freelancers/_~012371b2d6b50ac95e\n",
      "56     e4j4ohkbsm@hotmail.com\n",
      "81     e4j4ohkbsm@hotmail.com\n",
      "106    e4j4ohkbsm@hotmail.com\n",
      "Name: login, dtype: object\n",
      "https://www.upwork.com/freelancers/_~012527207a94149eac\n",
      "17    o4BUT7hHXN@yahoo.com\n",
      "42    o4BUT7hHXN@yahoo.com\n",
      "Name: login, dtype: object\n",
      "https://www.upwork.com/freelancers/_~012585af7a625ab9b1\n",
      "13    o4BUT7hHXN@yahoo.com\n",
      "38    o4BUT7hHXN@yahoo.com\n",
      "Name: login, dtype: object\n",
      "https://www.upwork.com/freelancers/_~0126e36f92637a7532\n",
      "225    hcyq10ar27@hotmail.com\n",
      "250    hcyq10ar27@hotmail.com\n",
      "Name: login, dtype: object\n",
      "https://www.upwork.com/freelancers/_~012884302dcc3d8930\n",
      "229    hcyq10ar27@hotmail.com\n",
      "254    hcyq10ar27@hotmail.com\n",
      "Name: login, dtype: object\n",
      "https://www.upwork.com/freelancers/_~012a0d848dde67409e\n",
      "166    jgig6d38h5@hotmail.com\n",
      "191    jgig6d38h5@hotmail.com\n",
      "216    jgig6d38h5@hotmail.com\n",
      "Name: login, dtype: object\n",
      "https://www.upwork.com/freelancers/_~012bd4777a64084f36\n",
      "299    f8ygkgmcrx@hotmail.com\n",
      "324    f8ygkgmcrx@hotmail.com\n",
      "Name: login, dtype: object\n",
      "https://www.upwork.com/freelancers/_~012cae14f8f4f23cc4\n",
      "147    g582b6fjtr@hotmail.com\n",
      "Name: login, dtype: object\n",
      "https://www.upwork.com/freelancers/_~012cd1b49c76883991\n",
      "153    jgig6d38h5@hotmail.com\n",
      "178    jgig6d38h5@hotmail.com\n",
      "203    jgig6d38h5@hotmail.com\n",
      "Name: login, dtype: object\n",
      "https://www.upwork.com/freelancers/_~012fa8496da68dc8fb\n",
      "231    hcyq10ar27@hotmail.com\n",
      "256    hcyq10ar27@hotmail.com\n",
      "Name: login, dtype: object\n",
      "https://www.upwork.com/freelancers/_~01309797fab2604a8e\n",
      "74     e4j4ohkbsm@hotmail.com\n",
      "99     e4j4ohkbsm@hotmail.com\n",
      "124    e4j4ohkbsm@hotmail.com\n",
      "Name: login, dtype: object\n",
      "https://www.upwork.com/freelancers/_~0135446d664a14acaf\n",
      "7     o4BUT7hHXN@yahoo.com\n",
      "32    o4BUT7hHXN@yahoo.com\n",
      "Name: login, dtype: object\n",
      "https://www.upwork.com/freelancers/_~013ab716aba97aad65\n",
      "275    f8ygkgmcrx@hotmail.com\n",
      "Name: login, dtype: object\n",
      "https://www.upwork.com/freelancers/_~013c3d50b65fba77fa\n",
      "169    jgig6d38h5@hotmail.com\n",
      "194    jgig6d38h5@hotmail.com\n",
      "219    jgig6d38h5@hotmail.com\n",
      "Name: login, dtype: object\n",
      "https://www.upwork.com/freelancers/_~013cbb935039a893af\n",
      "148    g582b6fjtr@hotmail.com\n",
      "Name: login, dtype: object\n",
      "https://www.upwork.com/freelancers/_~013d3baf0496fb4727\n",
      "52     e4j4ohkbsm@hotmail.com\n",
      "77     e4j4ohkbsm@hotmail.com\n",
      "102    e4j4ohkbsm@hotmail.com\n",
      "Name: login, dtype: object\n",
      "https://www.upwork.com/freelancers/_~013e0237b2bfcf8025\n",
      "0     o4BUT7hHXN@yahoo.com\n",
      "25    o4BUT7hHXN@yahoo.com\n",
      "Name: login, dtype: object\n",
      "https://www.upwork.com/freelancers/_~013f43a9ca7172b664\n",
      "133    g582b6fjtr@hotmail.com\n",
      "Name: login, dtype: object\n",
      "https://www.upwork.com/freelancers/_~01418a862294f9dd5d\n",
      "11    o4BUT7hHXN@yahoo.com\n",
      "Name: login, dtype: object\n",
      "https://www.upwork.com/freelancers/_~01418d9142488d34ed\n",
      "236    hcyq10ar27@hotmail.com\n",
      "261    hcyq10ar27@hotmail.com\n",
      "Name: login, dtype: object\n",
      "https://www.upwork.com/freelancers/_~0141eb1d6d2ab128bc\n",
      "125    g582b6fjtr@hotmail.com\n",
      "Name: login, dtype: object\n",
      "https://www.upwork.com/freelancers/_~0143f430be224afec7\n",
      "159    jgig6d38h5@hotmail.com\n",
      "184    jgig6d38h5@hotmail.com\n",
      "209    jgig6d38h5@hotmail.com\n",
      "Name: login, dtype: object\n",
      "https://www.upwork.com/freelancers/_~0145ed69b1def78387\n",
      "237    hcyq10ar27@hotmail.com\n",
      "262    hcyq10ar27@hotmail.com\n",
      "Name: login, dtype: object\n",
      "https://www.upwork.com/freelancers/_~0146067dec3f70b1f1\n",
      "290    f8ygkgmcrx@hotmail.com\n",
      "315    f8ygkgmcrx@hotmail.com\n",
      "Name: login, dtype: object\n",
      "https://www.upwork.com/freelancers/_~01467477012c19e2ac\n",
      "146    g582b6fjtr@hotmail.com\n",
      "Name: login, dtype: object\n",
      "https://www.upwork.com/freelancers/_~0148bb0f68deccca75\n",
      "60     e4j4ohkbsm@hotmail.com\n",
      "85     e4j4ohkbsm@hotmail.com\n",
      "110    e4j4ohkbsm@hotmail.com\n",
      "Name: login, dtype: object\n",
      "https://www.upwork.com/freelancers/_~014d6a0fc732f576d9\n",
      "136    g582b6fjtr@hotmail.com\n",
      "Name: login, dtype: object\n",
      "https://www.upwork.com/freelancers/_~0150d9d5bef28bd526\n",
      "2     o4BUT7hHXN@yahoo.com\n",
      "27    o4BUT7hHXN@yahoo.com\n",
      "Name: login, dtype: object\n",
      "https://www.upwork.com/freelancers/_~015215e88ffd4a65a4\n",
      "244    hcyq10ar27@hotmail.com\n",
      "269    hcyq10ar27@hotmail.com\n",
      "Name: login, dtype: object\n",
      "https://www.upwork.com/freelancers/_~0156f2bf38c04191ba\n",
      "161    jgig6d38h5@hotmail.com\n",
      "186    jgig6d38h5@hotmail.com\n",
      "211    jgig6d38h5@hotmail.com\n",
      "Name: login, dtype: object\n",
      "https://www.upwork.com/freelancers/_~0161c58aba03026b0b\n",
      "16    o4BUT7hHXN@yahoo.com\n",
      "41    o4BUT7hHXN@yahoo.com\n",
      "Name: login, dtype: object\n",
      "https://www.upwork.com/freelancers/_~0163a1a4bdead78fa0\n",
      "284    f8ygkgmcrx@hotmail.com\n",
      "Name: login, dtype: object\n",
      "https://www.upwork.com/freelancers/_~016547e789f21c774e\n",
      "4     o4BUT7hHXN@yahoo.com\n",
      "29    o4BUT7hHXN@yahoo.com\n",
      "Name: login, dtype: object\n",
      "https://www.upwork.com/freelancers/_~0167319c4c98eee585\n",
      "282    f8ygkgmcrx@hotmail.com\n",
      "307    f8ygkgmcrx@hotmail.com\n",
      "Name: login, dtype: object\n",
      "https://www.upwork.com/freelancers/_~01673315a882fe728f\n",
      "163    jgig6d38h5@hotmail.com\n",
      "188    jgig6d38h5@hotmail.com\n",
      "213    jgig6d38h5@hotmail.com\n",
      "Name: login, dtype: object\n",
      "https://www.upwork.com/freelancers/_~0168ad80f4b6f7c58a\n",
      "291    f8ygkgmcrx@hotmail.com\n",
      "316    f8ygkgmcrx@hotmail.com\n",
      "Name: login, dtype: object\n",
      "https://www.upwork.com/freelancers/_~016ab491cc5aa70151\n",
      "149    g582b6fjtr@hotmail.com\n",
      "Name: login, dtype: object\n",
      "https://www.upwork.com/freelancers/_~016b036fe32863e967\n",
      "227    hcyq10ar27@hotmail.com\n",
      "252    hcyq10ar27@hotmail.com\n",
      "Name: login, dtype: object\n",
      "https://www.upwork.com/freelancers/_~016b2849cef488bf18\n",
      "62     e4j4ohkbsm@hotmail.com\n",
      "87     e4j4ohkbsm@hotmail.com\n",
      "112    e4j4ohkbsm@hotmail.com\n",
      "Name: login, dtype: object\n",
      "https://www.upwork.com/freelancers/_~016ecc0c83de618d3b\n",
      "162    jgig6d38h5@hotmail.com\n",
      "187    jgig6d38h5@hotmail.com\n",
      "212    jgig6d38h5@hotmail.com\n",
      "Name: login, dtype: object\n",
      "https://www.upwork.com/freelancers/_~016f3d71abff7960e7\n",
      "245    hcyq10ar27@hotmail.com\n",
      "270    hcyq10ar27@hotmail.com\n",
      "Name: login, dtype: object\n",
      "https://www.upwork.com/freelancers/_~017264e6aef0e38b01\n",
      "130    g582b6fjtr@hotmail.com\n",
      "Name: login, dtype: object\n",
      "https://www.upwork.com/freelancers/_~01748cc44297378a7e\n",
      "167    jgig6d38h5@hotmail.com\n",
      "192    jgig6d38h5@hotmail.com\n",
      "217    jgig6d38h5@hotmail.com\n",
      "Name: login, dtype: object\n",
      "https://www.upwork.com/freelancers/_~017537f61122085ee9\n",
      "54     e4j4ohkbsm@hotmail.com\n",
      "79     e4j4ohkbsm@hotmail.com\n",
      "104    e4j4ohkbsm@hotmail.com\n",
      "Name: login, dtype: object\n",
      "https://www.upwork.com/freelancers/_~017795a420a8030624\n",
      "135    g582b6fjtr@hotmail.com\n",
      "Name: login, dtype: object\n",
      "https://www.upwork.com/freelancers/_~017850b90fa3e6bff4\n",
      "281    f8ygkgmcrx@hotmail.com\n",
      "306    f8ygkgmcrx@hotmail.com\n",
      "Name: login, dtype: object\n",
      "https://www.upwork.com/freelancers/_~01787de6e07b75c0aa\n",
      "247    hcyq10ar27@hotmail.com\n",
      "272    hcyq10ar27@hotmail.com\n",
      "Name: login, dtype: object\n",
      "https://www.upwork.com/freelancers/_~0178856a9b603cc67f\n",
      "155    jgig6d38h5@hotmail.com\n",
      "180    jgig6d38h5@hotmail.com\n",
      "205    jgig6d38h5@hotmail.com\n",
      "Name: login, dtype: object\n",
      "https://www.upwork.com/freelancers/_~017ba963d451eabae5\n",
      "292    f8ygkgmcrx@hotmail.com\n",
      "317    f8ygkgmcrx@hotmail.com\n",
      "Name: login, dtype: object\n",
      "https://www.upwork.com/freelancers/_~017c7e605aa27d29da\n",
      "158    jgig6d38h5@hotmail.com\n",
      "183    jgig6d38h5@hotmail.com\n",
      "208    jgig6d38h5@hotmail.com\n",
      "Name: login, dtype: object\n",
      "https://www.upwork.com/freelancers/_~017f356eaa8018e223\n",
      "18    o4BUT7hHXN@yahoo.com\n",
      "43    o4BUT7hHXN@yahoo.com\n",
      "Name: login, dtype: object\n",
      "https://www.upwork.com/freelancers/_~017f457eb2cb8af465\n",
      "1    o4BUT7hHXN@yahoo.com\n",
      "Name: login, dtype: object\n",
      "https://www.upwork.com/freelancers/_~017fdca2c86cbd4cfe\n",
      "293    f8ygkgmcrx@hotmail.com\n",
      "318    f8ygkgmcrx@hotmail.com\n",
      "Name: login, dtype: object\n",
      "https://www.upwork.com/freelancers/_~017fe7df7f79755adf\n",
      "137    g582b6fjtr@hotmail.com\n",
      "Name: login, dtype: object\n",
      "https://www.upwork.com/freelancers/_~0184bd6545c61ddf8b\n",
      "157    jgig6d38h5@hotmail.com\n",
      "182    jgig6d38h5@hotmail.com\n",
      "207    jgig6d38h5@hotmail.com\n",
      "Name: login, dtype: object\n",
      "https://www.upwork.com/freelancers/_~018541655041c3ef20\n",
      "279    f8ygkgmcrx@hotmail.com\n",
      "304    f8ygkgmcrx@hotmail.com\n",
      "Name: login, dtype: object\n",
      "https://www.upwork.com/freelancers/_~0185f20a0fb06c6723\n",
      "142    g582b6fjtr@hotmail.com\n",
      "Name: login, dtype: object\n",
      "https://www.upwork.com/freelancers/_~0188cbd375316f8709\n",
      "172    jgig6d38h5@hotmail.com\n",
      "197    jgig6d38h5@hotmail.com\n",
      "222    jgig6d38h5@hotmail.com\n",
      "Name: login, dtype: object\n",
      "https://www.upwork.com/freelancers/_~018910ce28b6a0b4d3\n",
      "64     e4j4ohkbsm@hotmail.com\n",
      "89     e4j4ohkbsm@hotmail.com\n",
      "114    e4j4ohkbsm@hotmail.com\n",
      "Name: login, dtype: object\n",
      "https://www.upwork.com/freelancers/_~018cfa8abddbf63f81\n",
      "26    o4BUT7hHXN@yahoo.com\n",
      "Name: login, dtype: object\n",
      "https://www.upwork.com/freelancers/_~018d61e7fec214acea\n",
      "300    f8ygkgmcrx@hotmail.com\n",
      "Name: login, dtype: object\n",
      "https://www.upwork.com/freelancers/_~018de0a4a08de0c219\n",
      "243    hcyq10ar27@hotmail.com\n",
      "268    hcyq10ar27@hotmail.com\n",
      "Name: login, dtype: object\n",
      "https://www.upwork.com/freelancers/_~018e6c3c036b49cc65\n",
      "132    g582b6fjtr@hotmail.com\n",
      "Name: login, dtype: object\n",
      "https://www.upwork.com/freelancers/_~0190a8f21753dce3fd\n",
      "57     e4j4ohkbsm@hotmail.com\n",
      "82     e4j4ohkbsm@hotmail.com\n",
      "107    e4j4ohkbsm@hotmail.com\n",
      "Name: login, dtype: object\n",
      "https://www.upwork.com/freelancers/_~0190e7f7e549e525ec\n",
      "22    o4BUT7hHXN@yahoo.com\n",
      "47    o4BUT7hHXN@yahoo.com\n",
      "Name: login, dtype: object\n",
      "https://www.upwork.com/freelancers/_~01946806d78fae66ac\n",
      "235    hcyq10ar27@hotmail.com\n",
      "260    hcyq10ar27@hotmail.com\n",
      "Name: login, dtype: object\n",
      "https://www.upwork.com/freelancers/_~019477107d5b33cd55\n",
      "141    g582b6fjtr@hotmail.com\n",
      "Name: login, dtype: object\n",
      "https://www.upwork.com/freelancers/_~019781bdc7d251b597\n",
      "170    jgig6d38h5@hotmail.com\n",
      "195    jgig6d38h5@hotmail.com\n",
      "220    jgig6d38h5@hotmail.com\n",
      "Name: login, dtype: object\n",
      "https://www.upwork.com/freelancers/_~01981a7a1c6eb1f837\n",
      "36    o4BUT7hHXN@yahoo.com\n",
      "Name: login, dtype: object\n",
      "https://www.upwork.com/freelancers/_~019944498432f5171e\n",
      "8     o4BUT7hHXN@yahoo.com\n",
      "33    o4BUT7hHXN@yahoo.com\n",
      "Name: login, dtype: object\n",
      "https://www.upwork.com/freelancers/_~0199d2bb2f89498612\n",
      "150    jgig6d38h5@hotmail.com\n",
      "175    jgig6d38h5@hotmail.com\n",
      "200    jgig6d38h5@hotmail.com\n",
      "Name: login, dtype: object\n",
      "https://www.upwork.com/freelancers/_~019ab9e130636a855b\n",
      "3     o4BUT7hHXN@yahoo.com\n",
      "28    o4BUT7hHXN@yahoo.com\n",
      "Name: login, dtype: object\n",
      "https://www.upwork.com/freelancers/_~019cf851e06ad0e5ec\n",
      "49    o4BUT7hHXN@yahoo.com\n",
      "Name: login, dtype: object\n",
      "https://www.upwork.com/freelancers/_~019e5a5ab2e28f9dfc\n",
      "50     e4j4ohkbsm@hotmail.com\n",
      "75     e4j4ohkbsm@hotmail.com\n",
      "100    e4j4ohkbsm@hotmail.com\n",
      "Name: login, dtype: object\n",
      "https://www.upwork.com/freelancers/_~01a31bcd6776a07b7d\n",
      "297    f8ygkgmcrx@hotmail.com\n",
      "322    f8ygkgmcrx@hotmail.com\n",
      "Name: login, dtype: object\n",
      "https://www.upwork.com/freelancers/_~01a5e84fce4a3cb4a3\n",
      "69     e4j4ohkbsm@hotmail.com\n",
      "94     e4j4ohkbsm@hotmail.com\n",
      "119    e4j4ohkbsm@hotmail.com\n",
      "Name: login, dtype: object\n",
      "https://www.upwork.com/freelancers/_~01a710977e32336ae4\n",
      "5     o4BUT7hHXN@yahoo.com\n",
      "30    o4BUT7hHXN@yahoo.com\n",
      "Name: login, dtype: object\n",
      "https://www.upwork.com/freelancers/_~01a75c0e5fee747c85\n",
      "164    jgig6d38h5@hotmail.com\n",
      "189    jgig6d38h5@hotmail.com\n",
      "214    jgig6d38h5@hotmail.com\n",
      "Name: login, dtype: object\n",
      "https://www.upwork.com/freelancers/_~01a834262d5c3839e1\n",
      "14    o4BUT7hHXN@yahoo.com\n",
      "39    o4BUT7hHXN@yahoo.com\n",
      "Name: login, dtype: object\n",
      "https://www.upwork.com/freelancers/_~01a8b2d23b7a5c0454\n",
      "145    g582b6fjtr@hotmail.com\n",
      "Name: login, dtype: object\n",
      "https://www.upwork.com/freelancers/_~01a9a6420fdb0b95cf\n",
      "23    o4BUT7hHXN@yahoo.com\n",
      "48    o4BUT7hHXN@yahoo.com\n",
      "Name: login, dtype: object\n",
      "https://www.upwork.com/freelancers/_~01a9c0c39a47bd95cb\n",
      "78     e4j4ohkbsm@hotmail.com\n",
      "103    e4j4ohkbsm@hotmail.com\n",
      "Name: login, dtype: object\n",
      "https://www.upwork.com/freelancers/_~01aa5c3e192d853dab\n",
      "65     e4j4ohkbsm@hotmail.com\n",
      "90     e4j4ohkbsm@hotmail.com\n",
      "115    e4j4ohkbsm@hotmail.com\n",
      "Name: login, dtype: object\n",
      "https://www.upwork.com/freelancers/_~01ab4275b9f38c5233\n",
      "53    e4j4ohkbsm@hotmail.com\n",
      "Name: login, dtype: object\n",
      "https://www.upwork.com/freelancers/_~01acfe2bbbfa14fc45\n",
      "240    hcyq10ar27@hotmail.com\n",
      "265    hcyq10ar27@hotmail.com\n",
      "Name: login, dtype: object\n",
      "https://www.upwork.com/freelancers/_~01ae166845c162efcf\n",
      "154    jgig6d38h5@hotmail.com\n",
      "179    jgig6d38h5@hotmail.com\n",
      "204    jgig6d38h5@hotmail.com\n",
      "Name: login, dtype: object\n",
      "https://www.upwork.com/freelancers/_~01afe6c004a03d7f65\n",
      "309    f8ygkgmcrx@hotmail.com\n",
      "Name: login, dtype: object\n",
      "https://www.upwork.com/freelancers/_~01b0c1f31b95f5a86e\n",
      "12    o4BUT7hHXN@yahoo.com\n",
      "37    o4BUT7hHXN@yahoo.com\n",
      "Name: login, dtype: object\n",
      "https://www.upwork.com/freelancers/_~01b1fd96197e630e48\n",
      "242    hcyq10ar27@hotmail.com\n",
      "267    hcyq10ar27@hotmail.com\n",
      "Name: login, dtype: object\n",
      "https://www.upwork.com/freelancers/_~01b26041bad3a8116b\n",
      "140    g582b6fjtr@hotmail.com\n",
      "Name: login, dtype: object\n",
      "https://www.upwork.com/freelancers/_~01b9c7715dae65027c\n",
      "58     e4j4ohkbsm@hotmail.com\n",
      "83     e4j4ohkbsm@hotmail.com\n",
      "108    e4j4ohkbsm@hotmail.com\n",
      "Name: login, dtype: object\n",
      "https://www.upwork.com/freelancers/_~01bc590a123f5dbd34\n",
      "55     e4j4ohkbsm@hotmail.com\n",
      "80     e4j4ohkbsm@hotmail.com\n",
      "105    e4j4ohkbsm@hotmail.com\n",
      "Name: login, dtype: object\n",
      "https://www.upwork.com/freelancers/_~01c0d2559349e1a076\n",
      "70     e4j4ohkbsm@hotmail.com\n",
      "95     e4j4ohkbsm@hotmail.com\n",
      "120    e4j4ohkbsm@hotmail.com\n",
      "Name: login, dtype: object\n",
      "https://www.upwork.com/freelancers/_~01c1221e7c76a63aa9\n",
      "233    hcyq10ar27@hotmail.com\n",
      "258    hcyq10ar27@hotmail.com\n",
      "Name: login, dtype: object\n",
      "https://www.upwork.com/freelancers/_~01c19ac4180c973b57\n",
      "289    f8ygkgmcrx@hotmail.com\n",
      "314    f8ygkgmcrx@hotmail.com\n",
      "Name: login, dtype: object\n",
      "https://www.upwork.com/freelancers/_~01c35d118bafbf84d0\n",
      "128    g582b6fjtr@hotmail.com\n",
      "Name: login, dtype: object\n",
      "https://www.upwork.com/freelancers/_~01c46a8a6d05b12cdb\n",
      "73     e4j4ohkbsm@hotmail.com\n",
      "98     e4j4ohkbsm@hotmail.com\n",
      "123    e4j4ohkbsm@hotmail.com\n",
      "Name: login, dtype: object\n",
      "https://www.upwork.com/freelancers/_~01c7f6cdcd0a96f54e\n",
      "232    hcyq10ar27@hotmail.com\n",
      "257    hcyq10ar27@hotmail.com\n",
      "Name: login, dtype: object\n",
      "https://www.upwork.com/freelancers/_~01c86d178a2425e456\n",
      "68     e4j4ohkbsm@hotmail.com\n",
      "93     e4j4ohkbsm@hotmail.com\n",
      "118    e4j4ohkbsm@hotmail.com\n",
      "Name: login, dtype: object\n",
      "https://www.upwork.com/freelancers/_~01c9193846fac2a406\n",
      "287    f8ygkgmcrx@hotmail.com\n",
      "312    f8ygkgmcrx@hotmail.com\n",
      "Name: login, dtype: object\n",
      "https://www.upwork.com/freelancers/_~01c9e94192ee026221\n",
      "285    f8ygkgmcrx@hotmail.com\n",
      "310    f8ygkgmcrx@hotmail.com\n",
      "Name: login, dtype: object\n",
      "https://www.upwork.com/freelancers/_~01cba14755db6ee6f1\n",
      "72     e4j4ohkbsm@hotmail.com\n",
      "97     e4j4ohkbsm@hotmail.com\n",
      "122    e4j4ohkbsm@hotmail.com\n",
      "Name: login, dtype: object\n",
      "https://www.upwork.com/freelancers/_~01cd5372adcc9a18e5\n",
      "126    g582b6fjtr@hotmail.com\n",
      "Name: login, dtype: object\n",
      "https://www.upwork.com/freelancers/_~01cecd7413b02e3737\n",
      "131    g582b6fjtr@hotmail.com\n",
      "Name: login, dtype: object\n",
      "https://www.upwork.com/freelancers/_~01cfe9c2843a079425\n",
      "283    f8ygkgmcrx@hotmail.com\n",
      "308    f8ygkgmcrx@hotmail.com\n",
      "Name: login, dtype: object\n",
      "https://www.upwork.com/freelancers/_~01d16a786dfddf1662\n",
      "6     o4BUT7hHXN@yahoo.com\n",
      "31    o4BUT7hHXN@yahoo.com\n",
      "Name: login, dtype: object\n",
      "https://www.upwork.com/freelancers/_~01d16f86ab046a205a\n",
      "156    jgig6d38h5@hotmail.com\n",
      "181    jgig6d38h5@hotmail.com\n",
      "206    jgig6d38h5@hotmail.com\n",
      "Name: login, dtype: object\n",
      "https://www.upwork.com/freelancers/_~01d53a6e5dc2463ed0\n",
      "129    g582b6fjtr@hotmail.com\n",
      "Name: login, dtype: object\n",
      "https://www.upwork.com/freelancers/_~01d6ae47550f958f7a\n",
      "276    f8ygkgmcrx@hotmail.com\n",
      "301    f8ygkgmcrx@hotmail.com\n",
      "Name: login, dtype: object\n",
      "https://www.upwork.com/freelancers/_~01d6b0e626fc23b86f\n",
      "168    jgig6d38h5@hotmail.com\n",
      "193    jgig6d38h5@hotmail.com\n",
      "218    jgig6d38h5@hotmail.com\n",
      "Name: login, dtype: object\n",
      "https://www.upwork.com/freelancers/_~01de4cc161a014ada2\n",
      "24    o4BUT7hHXN@yahoo.com\n",
      "Name: login, dtype: object\n",
      "https://www.upwork.com/freelancers/_~01e11c22507b427843\n",
      "143    g582b6fjtr@hotmail.com\n",
      "Name: login, dtype: object\n",
      "https://www.upwork.com/freelancers/_~01e33d781657d91103\n",
      "61     e4j4ohkbsm@hotmail.com\n",
      "86     e4j4ohkbsm@hotmail.com\n",
      "111    e4j4ohkbsm@hotmail.com\n",
      "Name: login, dtype: object\n",
      "https://www.upwork.com/freelancers/_~01e36fc4bc91f20ae0\n",
      "139    g582b6fjtr@hotmail.com\n",
      "Name: login, dtype: object\n",
      "https://www.upwork.com/freelancers/_~01e5bf0230fea06696\n",
      "238    hcyq10ar27@hotmail.com\n",
      "263    hcyq10ar27@hotmail.com\n",
      "Name: login, dtype: object\n",
      "https://www.upwork.com/freelancers/_~01e5c338df2c28b522\n",
      "248    hcyq10ar27@hotmail.com\n",
      "273    hcyq10ar27@hotmail.com\n",
      "Name: login, dtype: object\n",
      "https://www.upwork.com/freelancers/_~01e7b71836446291ee\n",
      "15    o4BUT7hHXN@yahoo.com\n",
      "40    o4BUT7hHXN@yahoo.com\n",
      "Name: login, dtype: object\n",
      "https://www.upwork.com/freelancers/_~01e802982e694d5316\n",
      "228    hcyq10ar27@hotmail.com\n",
      "253    hcyq10ar27@hotmail.com\n",
      "Name: login, dtype: object\n",
      "https://www.upwork.com/freelancers/_~01e984e40335e7bcf9\n",
      "138    g582b6fjtr@hotmail.com\n",
      "Name: login, dtype: object\n",
      "https://www.upwork.com/freelancers/_~01eb987e715d517ae9\n",
      "173    jgig6d38h5@hotmail.com\n",
      "198    jgig6d38h5@hotmail.com\n",
      "223    jgig6d38h5@hotmail.com\n",
      "Name: login, dtype: object\n",
      "https://www.upwork.com/freelancers/_~01ed63c950b53eda78\n",
      "63     e4j4ohkbsm@hotmail.com\n",
      "88     e4j4ohkbsm@hotmail.com\n",
      "113    e4j4ohkbsm@hotmail.com\n",
      "Name: login, dtype: object\n",
      "https://www.upwork.com/freelancers/_~01ee28931ab8e966c4\n",
      "171    jgig6d38h5@hotmail.com\n",
      "196    jgig6d38h5@hotmail.com\n",
      "221    jgig6d38h5@hotmail.com\n",
      "Name: login, dtype: object\n",
      "https://www.upwork.com/freelancers/_~01ef182dc0831a9d9d\n",
      "21    o4BUT7hHXN@yahoo.com\n",
      "46    o4BUT7hHXN@yahoo.com\n",
      "Name: login, dtype: object\n",
      "https://www.upwork.com/freelancers/_~01ef1b0dd091ae0e94\n",
      "152    jgig6d38h5@hotmail.com\n",
      "177    jgig6d38h5@hotmail.com\n",
      "202    jgig6d38h5@hotmail.com\n",
      "Name: login, dtype: object\n",
      "https://www.upwork.com/freelancers/_~01f19fe3715c16deea\n",
      "230    hcyq10ar27@hotmail.com\n",
      "255    hcyq10ar27@hotmail.com\n",
      "Name: login, dtype: object\n",
      "https://www.upwork.com/freelancers/_~01f23cdc722010c4c5\n",
      "51     e4j4ohkbsm@hotmail.com\n",
      "76     e4j4ohkbsm@hotmail.com\n",
      "101    e4j4ohkbsm@hotmail.com\n",
      "Name: login, dtype: object\n",
      "https://www.upwork.com/freelancers/_~01f341a9ce3c1f8bd1\n",
      "246    hcyq10ar27@hotmail.com\n",
      "271    hcyq10ar27@hotmail.com\n",
      "Name: login, dtype: object\n",
      "https://www.upwork.com/freelancers/_~01f642a43212be4a76\n",
      "9     o4BUT7hHXN@yahoo.com\n",
      "34    o4BUT7hHXN@yahoo.com\n",
      "Name: login, dtype: object\n",
      "https://www.upwork.com/freelancers/_~01f8ca2f74bbabe5dd\n",
      "19    o4BUT7hHXN@yahoo.com\n",
      "44    o4BUT7hHXN@yahoo.com\n",
      "Name: login, dtype: object\n",
      "https://www.upwork.com/freelancers/_~01f8ff1b6381a4148d\n",
      "280    f8ygkgmcrx@hotmail.com\n",
      "305    f8ygkgmcrx@hotmail.com\n",
      "Name: login, dtype: object\n",
      "https://www.upwork.com/freelancers/_~01f91eed8f939bf397\n",
      "239    hcyq10ar27@hotmail.com\n",
      "264    hcyq10ar27@hotmail.com\n",
      "Name: login, dtype: object\n",
      "https://www.upwork.com/freelancers/_~01f93d198bcf8e6caa\n",
      "277    f8ygkgmcrx@hotmail.com\n",
      "302    f8ygkgmcrx@hotmail.com\n",
      "Name: login, dtype: object\n",
      "https://www.upwork.com/freelancers/_~01fc14779fd4231132\n",
      "174    jgig6d38h5@hotmail.com\n",
      "199    jgig6d38h5@hotmail.com\n",
      "224    jgig6d38h5@hotmail.com\n",
      "Name: login, dtype: object\n",
      "https://www.upwork.com/freelancers/_~01fc90231b87ee9795\n",
      "249    hcyq10ar27@hotmail.com\n",
      "274    hcyq10ar27@hotmail.com\n",
      "Name: login, dtype: object\n",
      "https://www.upwork.com/freelancers/_~01fd3a6218dec1967b\n",
      "10    o4BUT7hHXN@yahoo.com\n",
      "35    o4BUT7hHXN@yahoo.com\n",
      "Name: login, dtype: object\n"
     ]
    }
   ],
   "source": [
    "for key,val in r2:\n",
    "    print(key)\n",
    "    print(r2.get_group(key).login)"
   ]
  },
  {
   "cell_type": "code",
   "execution_count": 35,
   "metadata": {
    "collapsed": false
   },
   "outputs": [
    {
     "name": "stderr",
     "output_type": "stream",
     "text": [
      "C:\\Users\\amac\\Anaconda3\\lib\\site-packages\\ipykernel\\__main__.py:1: SettingWithCopyWarning: \n",
      "A value is trying to be set on a copy of a slice from a DataFrame.\n",
      "Try using .loc[row_indexer,col_indexer] = value instead\n",
      "\n",
      "See the caveats in the documentation: http://pandas.pydata.org/pandas-docs/stable/indexing.html#indexing-view-versus-copy\n",
      "  if __name__ == '__main__':\n"
     ]
    }
   ],
   "source": [
    "r2['messaged']='Y'"
   ]
  },
  {
   "cell_type": "code",
   "execution_count": 36,
   "metadata": {
    "collapsed": true
   },
   "outputs": [],
   "source": [
    "r2.to_csv('merged_batch1.csv')"
   ]
  },
  {
   "cell_type": "code",
   "execution_count": 25,
   "metadata": {
    "collapsed": false
   },
   "outputs": [
    {
     "name": "stdout",
     "output_type": "stream",
     "text": [
      "Calling MultiProcess\n"
     ]
    },
    {
     "data": {
      "text/plain": [
       "(316, 19)"
      ]
     },
     "execution_count": 25,
     "metadata": {},
     "output_type": "execute_result"
    }
   ],
   "source": []
  },
  {
   "cell_type": "code",
   "execution_count": 26,
   "metadata": {
    "collapsed": false
   },
   "outputs": [
    {
     "data": {
      "text/plain": [
       "(158, 19)"
      ]
     },
     "execution_count": 26,
     "metadata": {},
     "output_type": "execute_result"
    }
   ],
   "source": [
    "b2=b159.drop_duplicates(subset='id')\n",
    "b2.shape"
   ]
  },
  {
   "cell_type": "code",
   "execution_count": 12,
   "metadata": {
    "collapsed": false
   },
   "outputs": [
    {
     "data": {
      "text/plain": [
       "Unnamed: 0                 int64\n",
       "Unnamed: 0.1               int64\n",
       "portrait_50               object\n",
       "categories2               object\n",
       "profile_type              object\n",
       "title                     object\n",
       "skills                    object\n",
       "country                   object\n",
       "description               object\n",
       "name                      object\n",
       "last_activity             object\n",
       "api_rate                 float64\n",
       "member_since              object\n",
       "portfolio_items_count    float64\n",
       "id                        object\n",
       "test_passed_count        float64\n",
       "feedback                 float64\n",
       "filename                  object\n",
       "alreadyMessaged          float64\n",
       "total_hours              float64\n",
       "login                     object\n",
       "password                  object\n",
       "worked                    object\n",
       "jobs                     float64\n",
       "earned                    object\n",
       "accolade                  object\n",
       "success                   object\n",
       "availability              object\n",
       "messaged                  object\n",
       "job_in_progress            int64\n",
       "scraped_rate              object\n",
       "language                  object\n",
       "dtype: object"
      ]
     },
     "execution_count": 12,
     "metadata": {},
     "output_type": "execute_result"
    }
   ],
   "source": [
    "r2.dtypes"
   ]
  },
  {
   "cell_type": "code",
   "execution_count": null,
   "metadata": {
    "collapsed": true
   },
   "outputs": [],
   "source": []
  },
  {
   "cell_type": "code",
   "execution_count": null,
   "metadata": {
    "collapsed": true
   },
   "outputs": [],
   "source": []
  }
 ],
 "metadata": {
  "anaconda-cloud": {},
  "kernelspec": {
   "display_name": "Python [conda root]",
   "language": "python",
   "name": "conda-root-py"
  },
  "language_info": {
   "codemirror_mode": {
    "name": "ipython",
    "version": 3
   },
   "file_extension": ".py",
   "mimetype": "text/x-python",
   "name": "python",
   "nbconvert_exporter": "python",
   "pygments_lexer": "ipython3",
   "version": "3.5.2"
  }
 },
 "nbformat": 4,
 "nbformat_minor": 1
}
