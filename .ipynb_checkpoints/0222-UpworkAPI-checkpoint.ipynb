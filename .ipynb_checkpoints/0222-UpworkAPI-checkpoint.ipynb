{
 "cells": [
  {
   "cell_type": "code",
   "execution_count": 1,
   "metadata": {
    "collapsed": false
   },
   "outputs": [
    {
     "data": {
      "text/html": [
       "<div>\n",
       "<table border=\"1\" class=\"dataframe\">\n",
       "  <thead>\n",
       "    <tr style=\"text-align: right;\">\n",
       "      <th></th>\n",
       "      <th>Unnamed: 0</th>\n",
       "      <th>account</th>\n",
       "      <th>pw</th>\n",
       "      <th>portrait_50</th>\n",
       "      <th>categories2</th>\n",
       "      <th>profile_type</th>\n",
       "      <th>title</th>\n",
       "      <th>skills</th>\n",
       "      <th>country</th>\n",
       "      <th>description</th>\n",
       "      <th>...</th>\n",
       "      <th>worked</th>\n",
       "      <th>jobs</th>\n",
       "      <th>earned</th>\n",
       "      <th>accolade</th>\n",
       "      <th>success</th>\n",
       "      <th>availability</th>\n",
       "      <th>Sent</th>\n",
       "      <th>MessageDate</th>\n",
       "      <th>MessageText</th>\n",
       "      <th>ProposalAmount</th>\n",
       "    </tr>\n",
       "  </thead>\n",
       "  <tbody>\n",
       "    <tr>\n",
       "      <th>0</th>\n",
       "      <td>0</td>\n",
       "      <td>low.jennifer.miller0921@gmail.com</td>\n",
       "      <td>ra123456.</td>\n",
       "      <td>https://odesk-prod-portraits.s3.amazonaws.com/...</td>\n",
       "      <td>Writing</td>\n",
       "      <td>Independent</td>\n",
       "      <td>Your ideas ... realized</td>\n",
       "      <td>academic-writing--copy-editing--content-writin...</td>\n",
       "      <td>United States</td>\n",
       "      <td>Paper Cuts provides superior writing services ...</td>\n",
       "      <td>...</td>\n",
       "      <td>1</td>\n",
       "      <td>NaN</td>\n",
       "      <td>$10k+</td>\n",
       "      <td>NaN</td>\n",
       "      <td>NaN</td>\n",
       "      <td>AvailableMore than 30 hrs/weekAvailableMore th...</td>\n",
       "      <td>Y</td>\n",
       "      <td>NaN</td>\n",
       "      <td>NaN</td>\n",
       "      <td>NaN</td>\n",
       "    </tr>\n",
       "    <tr>\n",
       "      <th>1</th>\n",
       "      <td>1</td>\n",
       "      <td>low.jennifer.miller0921@gmail.com</td>\n",
       "      <td>ra123456.</td>\n",
       "      <td>https://odesk-prod-portraits.s3.amazonaws.com/...</td>\n",
       "      <td>Writing</td>\n",
       "      <td>Independent</td>\n",
       "      <td>Creative and Scientific Writer</td>\n",
       "      <td>mechanical-engineering--scientific-writing--cr...</td>\n",
       "      <td>United States</td>\n",
       "      <td>I am a 23 year old Mechanical Engineer looking...</td>\n",
       "      <td>...</td>\n",
       "      <td>1</td>\n",
       "      <td>NaN</td>\n",
       "      <td>$60+</td>\n",
       "      <td>NaN</td>\n",
       "      <td>NaN</td>\n",
       "      <td>AvailableLess than 30 hrs/weekAvailableLess th...</td>\n",
       "      <td>N</td>\n",
       "      <td>NaN</td>\n",
       "      <td>NaN</td>\n",
       "      <td>NaN</td>\n",
       "    </tr>\n",
       "    <tr>\n",
       "      <th>2</th>\n",
       "      <td>2</td>\n",
       "      <td>low.jennifer.miller0921@gmail.com</td>\n",
       "      <td>ra123456.</td>\n",
       "      <td>https://odesk-prod-portraits.s3.amazonaws.com/...</td>\n",
       "      <td>Writing</td>\n",
       "      <td>Independent</td>\n",
       "      <td>Copywriter / Writer / Translator</td>\n",
       "      <td>copywriting--writing--translation</td>\n",
       "      <td>United Kingdom</td>\n",
       "      <td>Do you want to see your profits leap to the ne...</td>\n",
       "      <td>...</td>\n",
       "      <td>1</td>\n",
       "      <td>NaN</td>\n",
       "      <td>$200+</td>\n",
       "      <td>NaN</td>\n",
       "      <td>89% Job Success</td>\n",
       "      <td>AvailableMore than 30 hrs/weekAvailableMore th...</td>\n",
       "      <td>N</td>\n",
       "      <td>NaN</td>\n",
       "      <td>NaN</td>\n",
       "      <td>NaN</td>\n",
       "    </tr>\n",
       "    <tr>\n",
       "      <th>3</th>\n",
       "      <td>3</td>\n",
       "      <td>low.jennifer.miller0921@gmail.com</td>\n",
       "      <td>ra123456.</td>\n",
       "      <td>https://odesk-prod-portraits.s3.amazonaws.com/...</td>\n",
       "      <td>Translation--Writing--Design &amp; Creative--Admin...</td>\n",
       "      <td>Independent</td>\n",
       "      <td>Ultimate Video Producer, Post-Producer &amp; Animator</td>\n",
       "      <td>audio-editing--video-production--video-editing...</td>\n",
       "      <td>Egypt</td>\n",
       "      <td>Thank you for stopping by. My name is Paul and...</td>\n",
       "      <td>...</td>\n",
       "      <td>1</td>\n",
       "      <td>NaN</td>\n",
       "      <td>$300+</td>\n",
       "      <td>NaN</td>\n",
       "      <td>100% Job Success</td>\n",
       "      <td>AvailableAs Needed - Open to OffersAvailableAs...</td>\n",
       "      <td>Y</td>\n",
       "      <td>2/25/17-10:27</td>\n",
       "      <td>NaN</td>\n",
       "      <td>NaN</td>\n",
       "    </tr>\n",
       "    <tr>\n",
       "      <th>4</th>\n",
       "      <td>4</td>\n",
       "      <td>low.jennifer.miller0921@gmail.com</td>\n",
       "      <td>ra123456.</td>\n",
       "      <td>-</td>\n",
       "      <td>Customer Service--Writing--Admin Support</td>\n",
       "      <td>Independent</td>\n",
       "      <td>Quick &amp; Correct, Always!</td>\n",
       "      <td>internet-research</td>\n",
       "      <td>United States</td>\n",
       "      <td>Provide first rate services via online mediums...</td>\n",
       "      <td>...</td>\n",
       "      <td>1</td>\n",
       "      <td>NaN</td>\n",
       "      <td>$50+</td>\n",
       "      <td>NaN</td>\n",
       "      <td>NaN</td>\n",
       "      <td>AvailableMore than 30 hrs/weekAvailableMore th...</td>\n",
       "      <td>Y</td>\n",
       "      <td>NaN</td>\n",
       "      <td>NaN</td>\n",
       "      <td>NaN</td>\n",
       "    </tr>\n",
       "  </tbody>\n",
       "</table>\n",
       "<p>5 rows × 28 columns</p>\n",
       "</div>"
      ],
      "text/plain": [
       "   Unnamed: 0                            account         pw  \\\n",
       "0           0  low.jennifer.miller0921@gmail.com  ra123456.   \n",
       "1           1  low.jennifer.miller0921@gmail.com  ra123456.   \n",
       "2           2  low.jennifer.miller0921@gmail.com  ra123456.   \n",
       "3           3  low.jennifer.miller0921@gmail.com  ra123456.   \n",
       "4           4  low.jennifer.miller0921@gmail.com  ra123456.   \n",
       "\n",
       "                                         portrait_50  \\\n",
       "0  https://odesk-prod-portraits.s3.amazonaws.com/...   \n",
       "1  https://odesk-prod-portraits.s3.amazonaws.com/...   \n",
       "2  https://odesk-prod-portraits.s3.amazonaws.com/...   \n",
       "3  https://odesk-prod-portraits.s3.amazonaws.com/...   \n",
       "4                                                  -   \n",
       "\n",
       "                                         categories2 profile_type  \\\n",
       "0                                            Writing  Independent   \n",
       "1                                            Writing  Independent   \n",
       "2                                            Writing  Independent   \n",
       "3  Translation--Writing--Design & Creative--Admin...  Independent   \n",
       "4           Customer Service--Writing--Admin Support  Independent   \n",
       "\n",
       "                                               title  \\\n",
       "0                            Your ideas ... realized   \n",
       "1                     Creative and Scientific Writer   \n",
       "2                   Copywriter / Writer / Translator   \n",
       "3  Ultimate Video Producer, Post-Producer & Animator   \n",
       "4                           Quick & Correct, Always!   \n",
       "\n",
       "                                              skills         country  \\\n",
       "0  academic-writing--copy-editing--content-writin...   United States   \n",
       "1  mechanical-engineering--scientific-writing--cr...   United States   \n",
       "2                  copywriting--writing--translation  United Kingdom   \n",
       "3  audio-editing--video-production--video-editing...           Egypt   \n",
       "4                                  internet-research   United States   \n",
       "\n",
       "                                         description       ...       worked  \\\n",
       "0  Paper Cuts provides superior writing services ...       ...            1   \n",
       "1  I am a 23 year old Mechanical Engineer looking...       ...            1   \n",
       "2  Do you want to see your profits leap to the ne...       ...            1   \n",
       "3  Thank you for stopping by. My name is Paul and...       ...            1   \n",
       "4  Provide first rate services via online mediums...       ...            1   \n",
       "\n",
       "  jobs  earned accolade           success  \\\n",
       "0  NaN   $10k+      NaN               NaN   \n",
       "1  NaN    $60+      NaN               NaN   \n",
       "2  NaN   $200+      NaN   89% Job Success   \n",
       "3  NaN   $300+      NaN  100% Job Success   \n",
       "4  NaN    $50+      NaN               NaN   \n",
       "\n",
       "                                        availability  Sent    MessageDate  \\\n",
       "0  AvailableMore than 30 hrs/weekAvailableMore th...     Y            NaN   \n",
       "1  AvailableLess than 30 hrs/weekAvailableLess th...     N            NaN   \n",
       "2  AvailableMore than 30 hrs/weekAvailableMore th...     N            NaN   \n",
       "3  AvailableAs Needed - Open to OffersAvailableAs...     Y  2/25/17-10:27   \n",
       "4  AvailableMore than 30 hrs/weekAvailableMore th...     Y            NaN   \n",
       "\n",
       "   MessageText  ProposalAmount  \n",
       "0          NaN             NaN  \n",
       "1          NaN             NaN  \n",
       "2          NaN             NaN  \n",
       "3          NaN             NaN  \n",
       "4          NaN             NaN  \n",
       "\n",
       "[5 rows x 28 columns]"
      ]
     },
     "execution_count": 1,
     "metadata": {},
     "output_type": "execute_result"
    }
   ],
   "source": [
    "import pandas as pd\n",
    "csvname=r\"C:\\Users\\amac\\Documents\\GoogleDrive\\Washu\\01-17-Dai\\Upwork\\UpworkShared\\Filled_Run_02_25_all.csv\"\n",
    "df = pd.read_csv(csvname)\n",
    "df.head()"
   ]
  },
  {
   "cell_type": "code",
   "execution_count": 68,
   "metadata": {
    "collapsed": false
   },
   "outputs": [
    {
     "data": {
      "text/plain": [
       "Int64Index([0], dtype='int64')"
      ]
     },
     "execution_count": 68,
     "metadata": {},
     "output_type": "execute_result"
    }
   ],
   "source": [
    "num=1\n",
    "name2='Paper'\n",
    "df3=df[df['name'].str.contains(name2)][num-1:num*25].index\n",
    "df3"
   ]
  },
  {
   "cell_type": "code",
   "execution_count": 70,
   "metadata": {
    "collapsed": false
   },
   "outputs": [],
   "source": [
    "df.loc[df3,'ProposalAmount']=1000"
   ]
  },
  {
   "cell_type": "code",
   "execution_count": 71,
   "metadata": {
    "collapsed": false
   },
   "outputs": [
    {
     "data": {
      "text/html": [
       "<div>\n",
       "<table border=\"1\" class=\"dataframe\">\n",
       "  <thead>\n",
       "    <tr style=\"text-align: right;\">\n",
       "      <th></th>\n",
       "      <th>Unnamed: 0</th>\n",
       "      <th>account</th>\n",
       "      <th>pw</th>\n",
       "      <th>portrait_50</th>\n",
       "      <th>categories2</th>\n",
       "      <th>profile_type</th>\n",
       "      <th>title</th>\n",
       "      <th>skills</th>\n",
       "      <th>country</th>\n",
       "      <th>description</th>\n",
       "      <th>...</th>\n",
       "      <th>worked</th>\n",
       "      <th>jobs</th>\n",
       "      <th>earned</th>\n",
       "      <th>accolade</th>\n",
       "      <th>success</th>\n",
       "      <th>availability</th>\n",
       "      <th>Sent</th>\n",
       "      <th>MessageDate</th>\n",
       "      <th>MessageText</th>\n",
       "      <th>ProposalAmount</th>\n",
       "    </tr>\n",
       "  </thead>\n",
       "  <tbody>\n",
       "    <tr>\n",
       "      <th>0</th>\n",
       "      <td>0</td>\n",
       "      <td>low.jennifer.miller0921@gmail.com</td>\n",
       "      <td>ra123456.</td>\n",
       "      <td>https://odesk-prod-portraits.s3.amazonaws.com/...</td>\n",
       "      <td>Writing</td>\n",
       "      <td>Independent</td>\n",
       "      <td>Your ideas ... realized</td>\n",
       "      <td>academic-writing--copy-editing--content-writin...</td>\n",
       "      <td>United States</td>\n",
       "      <td>Paper Cuts provides superior writing services ...</td>\n",
       "      <td>...</td>\n",
       "      <td>1</td>\n",
       "      <td>NaN</td>\n",
       "      <td>$10k+</td>\n",
       "      <td>NaN</td>\n",
       "      <td>NaN</td>\n",
       "      <td>AvailableMore than 30 hrs/weekAvailableMore th...</td>\n",
       "      <td>Y</td>\n",
       "      <td>NaN</td>\n",
       "      <td>NaN</td>\n",
       "      <td>1000</td>\n",
       "    </tr>\n",
       "    <tr>\n",
       "      <th>1</th>\n",
       "      <td>1</td>\n",
       "      <td>low.jennifer.miller0921@gmail.com</td>\n",
       "      <td>ra123456.</td>\n",
       "      <td>https://odesk-prod-portraits.s3.amazonaws.com/...</td>\n",
       "      <td>Writing</td>\n",
       "      <td>Independent</td>\n",
       "      <td>Creative and Scientific Writer</td>\n",
       "      <td>mechanical-engineering--scientific-writing--cr...</td>\n",
       "      <td>United States</td>\n",
       "      <td>I am a 23 year old Mechanical Engineer looking...</td>\n",
       "      <td>...</td>\n",
       "      <td>1</td>\n",
       "      <td>NaN</td>\n",
       "      <td>$60+</td>\n",
       "      <td>NaN</td>\n",
       "      <td>NaN</td>\n",
       "      <td>AvailableLess than 30 hrs/weekAvailableLess th...</td>\n",
       "      <td>N</td>\n",
       "      <td>NaN</td>\n",
       "      <td>NaN</td>\n",
       "      <td>NaN</td>\n",
       "    </tr>\n",
       "    <tr>\n",
       "      <th>2</th>\n",
       "      <td>2</td>\n",
       "      <td>low.jennifer.miller0921@gmail.com</td>\n",
       "      <td>ra123456.</td>\n",
       "      <td>https://odesk-prod-portraits.s3.amazonaws.com/...</td>\n",
       "      <td>Writing</td>\n",
       "      <td>Independent</td>\n",
       "      <td>Copywriter / Writer / Translator</td>\n",
       "      <td>copywriting--writing--translation</td>\n",
       "      <td>United Kingdom</td>\n",
       "      <td>Do you want to see your profits leap to the ne...</td>\n",
       "      <td>...</td>\n",
       "      <td>1</td>\n",
       "      <td>NaN</td>\n",
       "      <td>$200+</td>\n",
       "      <td>NaN</td>\n",
       "      <td>89% Job Success</td>\n",
       "      <td>AvailableMore than 30 hrs/weekAvailableMore th...</td>\n",
       "      <td>N</td>\n",
       "      <td>NaN</td>\n",
       "      <td>NaN</td>\n",
       "      <td>NaN</td>\n",
       "    </tr>\n",
       "    <tr>\n",
       "      <th>3</th>\n",
       "      <td>3</td>\n",
       "      <td>low.jennifer.miller0921@gmail.com</td>\n",
       "      <td>ra123456.</td>\n",
       "      <td>https://odesk-prod-portraits.s3.amazonaws.com/...</td>\n",
       "      <td>Translation--Writing--Design &amp; Creative--Admin...</td>\n",
       "      <td>Independent</td>\n",
       "      <td>Ultimate Video Producer, Post-Producer &amp; Animator</td>\n",
       "      <td>audio-editing--video-production--video-editing...</td>\n",
       "      <td>Egypt</td>\n",
       "      <td>Thank you for stopping by. My name is Paul and...</td>\n",
       "      <td>...</td>\n",
       "      <td>1</td>\n",
       "      <td>NaN</td>\n",
       "      <td>$300+</td>\n",
       "      <td>NaN</td>\n",
       "      <td>100% Job Success</td>\n",
       "      <td>AvailableAs Needed - Open to OffersAvailableAs...</td>\n",
       "      <td>Y</td>\n",
       "      <td>2/25/17-10:27</td>\n",
       "      <td>NaN</td>\n",
       "      <td>NaN</td>\n",
       "    </tr>\n",
       "    <tr>\n",
       "      <th>4</th>\n",
       "      <td>4</td>\n",
       "      <td>low.jennifer.miller0921@gmail.com</td>\n",
       "      <td>ra123456.</td>\n",
       "      <td>-</td>\n",
       "      <td>Customer Service--Writing--Admin Support</td>\n",
       "      <td>Independent</td>\n",
       "      <td>Quick &amp; Correct, Always!</td>\n",
       "      <td>internet-research</td>\n",
       "      <td>United States</td>\n",
       "      <td>Provide first rate services via online mediums...</td>\n",
       "      <td>...</td>\n",
       "      <td>1</td>\n",
       "      <td>NaN</td>\n",
       "      <td>$50+</td>\n",
       "      <td>NaN</td>\n",
       "      <td>NaN</td>\n",
       "      <td>AvailableMore than 30 hrs/weekAvailableMore th...</td>\n",
       "      <td>Y</td>\n",
       "      <td>NaN</td>\n",
       "      <td>NaN</td>\n",
       "      <td>NaN</td>\n",
       "    </tr>\n",
       "  </tbody>\n",
       "</table>\n",
       "<p>5 rows × 28 columns</p>\n",
       "</div>"
      ],
      "text/plain": [
       "   Unnamed: 0                            account         pw  \\\n",
       "0           0  low.jennifer.miller0921@gmail.com  ra123456.   \n",
       "1           1  low.jennifer.miller0921@gmail.com  ra123456.   \n",
       "2           2  low.jennifer.miller0921@gmail.com  ra123456.   \n",
       "3           3  low.jennifer.miller0921@gmail.com  ra123456.   \n",
       "4           4  low.jennifer.miller0921@gmail.com  ra123456.   \n",
       "\n",
       "                                         portrait_50  \\\n",
       "0  https://odesk-prod-portraits.s3.amazonaws.com/...   \n",
       "1  https://odesk-prod-portraits.s3.amazonaws.com/...   \n",
       "2  https://odesk-prod-portraits.s3.amazonaws.com/...   \n",
       "3  https://odesk-prod-portraits.s3.amazonaws.com/...   \n",
       "4                                                  -   \n",
       "\n",
       "                                         categories2 profile_type  \\\n",
       "0                                            Writing  Independent   \n",
       "1                                            Writing  Independent   \n",
       "2                                            Writing  Independent   \n",
       "3  Translation--Writing--Design & Creative--Admin...  Independent   \n",
       "4           Customer Service--Writing--Admin Support  Independent   \n",
       "\n",
       "                                               title  \\\n",
       "0                            Your ideas ... realized   \n",
       "1                     Creative and Scientific Writer   \n",
       "2                   Copywriter / Writer / Translator   \n",
       "3  Ultimate Video Producer, Post-Producer & Animator   \n",
       "4                           Quick & Correct, Always!   \n",
       "\n",
       "                                              skills         country  \\\n",
       "0  academic-writing--copy-editing--content-writin...   United States   \n",
       "1  mechanical-engineering--scientific-writing--cr...   United States   \n",
       "2                  copywriting--writing--translation  United Kingdom   \n",
       "3  audio-editing--video-production--video-editing...           Egypt   \n",
       "4                                  internet-research   United States   \n",
       "\n",
       "                                         description       ...       worked  \\\n",
       "0  Paper Cuts provides superior writing services ...       ...            1   \n",
       "1  I am a 23 year old Mechanical Engineer looking...       ...            1   \n",
       "2  Do you want to see your profits leap to the ne...       ...            1   \n",
       "3  Thank you for stopping by. My name is Paul and...       ...            1   \n",
       "4  Provide first rate services via online mediums...       ...            1   \n",
       "\n",
       "  jobs  earned accolade           success  \\\n",
       "0  NaN   $10k+      NaN               NaN   \n",
       "1  NaN    $60+      NaN               NaN   \n",
       "2  NaN   $200+      NaN   89% Job Success   \n",
       "3  NaN   $300+      NaN  100% Job Success   \n",
       "4  NaN    $50+      NaN               NaN   \n",
       "\n",
       "                                        availability  Sent    MessageDate  \\\n",
       "0  AvailableMore than 30 hrs/weekAvailableMore th...     Y            NaN   \n",
       "1  AvailableLess than 30 hrs/weekAvailableLess th...     N            NaN   \n",
       "2  AvailableMore than 30 hrs/weekAvailableMore th...     N            NaN   \n",
       "3  AvailableAs Needed - Open to OffersAvailableAs...     Y  2/25/17-10:27   \n",
       "4  AvailableMore than 30 hrs/weekAvailableMore th...     Y            NaN   \n",
       "\n",
       "   MessageText  ProposalAmount  \n",
       "0          NaN            1000  \n",
       "1          NaN             NaN  \n",
       "2          NaN             NaN  \n",
       "3          NaN             NaN  \n",
       "4          NaN             NaN  \n",
       "\n",
       "[5 rows x 28 columns]"
      ]
     },
     "execution_count": 71,
     "metadata": {},
     "output_type": "execute_result"
    }
   ],
   "source": [
    "df.head()"
   ]
  },
  {
   "cell_type": "code",
   "execution_count": 43,
   "metadata": {
    "collapsed": false
   },
   "outputs": [],
   "source": [
    "df.loc[df.country==\"Egypt\",'ProposalAmount']=500"
   ]
  },
  {
   "cell_type": "code",
   "execution_count": null,
   "metadata": {
    "collapsed": false
   },
   "outputs": [],
   "source": [
    "#df['ProposalAmount']"
   ]
  },
  {
   "cell_type": "code",
   "execution_count": 31,
   "metadata": {
    "collapsed": false
   },
   "outputs": [
    {
     "name": "stdout",
     "output_type": "stream",
     "text": [
      "1\n",
      "2\n",
      "3\n"
     ]
    }
   ],
   "source": [
    "for i in range(1,4):\n",
    "    print i"
   ]
  },
  {
   "cell_type": "code",
   "execution_count": 15,
   "metadata": {
    "collapsed": true
   },
   "outputs": [],
   "source": [
    "proposalsfolder=r\"C:\\Users\\amac\\Documents\\Development\\0117-DaiAnalysis\\Upwork\\proposals\""
   ]
  },
  {
   "cell_type": "code",
   "execution_count": 17,
   "metadata": {
    "collapsed": false
   },
   "outputs": [
    {
     "name": "stdout",
     "output_type": "stream",
     "text": [
      "C:\\Users\\amac\\Documents\\Development\\0117-DaiAnalysis\\Upwork\\proposals\\proposals1 - Copy (2).txt\n",
      "C:\\Users\\amac\\Documents\\Development\\0117-DaiAnalysis\\Upwork\\proposals\\proposals1 - Copy (3).txt\n",
      "C:\\Users\\amac\\Documents\\Development\\0117-DaiAnalysis\\Upwork\\proposals\\proposals1 - Copy.txt\n",
      "C:\\Users\\amac\\Documents\\Development\\0117-DaiAnalysis\\Upwork\\proposals\\proposals1.txt\n",
      "C:\\Users\\amac\\Documents\\Development\\0117-DaiAnalysis\\Upwork\\proposals\\proposals2 - Copy (2).txt\n",
      "C:\\Users\\amac\\Documents\\Development\\0117-DaiAnalysis\\Upwork\\proposals\\proposals2 - Copy (3).txt\n",
      "C:\\Users\\amac\\Documents\\Development\\0117-DaiAnalysis\\Upwork\\proposals\\proposals2 - Copy.txt\n",
      "C:\\Users\\amac\\Documents\\Development\\0117-DaiAnalysis\\Upwork\\proposals\\proposals2.txt\n",
      "C:\\Users\\amac\\Documents\\Development\\0117-DaiAnalysis\\Upwork\\proposals\\proposals3 - Copy (2).txt\n",
      "C:\\Users\\amac\\Documents\\Development\\0117-DaiAnalysis\\Upwork\\proposals\\proposals3 - Copy (3).txt\n",
      "C:\\Users\\amac\\Documents\\Development\\0117-DaiAnalysis\\Upwork\\proposals\\proposals3 - Copy.txt\n",
      "C:\\Users\\amac\\Documents\\Development\\0117-DaiAnalysis\\Upwork\\proposals\\proposals3.txt\n"
     ]
    }
   ],
   "source": [
    "import os\n",
    "for f in os.listdir(proposalsfolder):\n",
    "    filer=os.path.join(proposalsfolder,f)\n",
    "    print filer\n",
    "#     o=open(filer,'r')\n",
    "#     data=o.readline()"
   ]
  },
  {
   "cell_type": "code",
   "execution_count": 18,
   "metadata": {
    "collapsed": true
   },
   "outputs": [],
   "source": [
    "o=open(filer,'r')\n",
    "data=o.readline()"
   ]
  },
  {
   "cell_type": "code",
   "execution_count": 25,
   "metadata": {
    "collapsed": false
   },
   "outputs": [],
   "source": [
    "data=data.replace('<selenium.webdriver.remote.webelement.WebElement (session=\"b2cac71c2a91c9f6c3230718eaac6275\"','')\n",
    "data=data.replace(\"u'\",\"'\")"
   ]
  },
  {
   "cell_type": "code",
   "execution_count": null,
   "metadata": {
    "collapsed": false
   },
   "outputs": [],
   "source": [
    "#eval(data)"
   ]
  },
  {
   "cell_type": "code",
   "execution_count": 7,
   "metadata": {
    "collapsed": true
   },
   "outputs": [],
   "source": [
    "d1={'test1':1,'test2':2}\n",
    "d2={'test3':3,'test2':5,'test4':4}"
   ]
  },
  {
   "cell_type": "code",
   "execution_count": 10,
   "metadata": {
    "collapsed": false
   },
   "outputs": [],
   "source": [
    "d1.update(d2)"
   ]
  },
  {
   "cell_type": "code",
   "execution_count": 11,
   "metadata": {
    "collapsed": false
   },
   "outputs": [
    {
     "data": {
      "text/plain": [
       "{'test1': 1, 'test2': 5, 'test3': 3, 'test4': 4}"
      ]
     },
     "execution_count": 11,
     "metadata": {},
     "output_type": "execute_result"
    }
   ],
   "source": [
    "d1"
   ]
  },
  {
   "cell_type": "markdown",
   "metadata": {},
   "source": [
    "# Upwork API\n"
   ]
  },
  {
   "cell_type": "code",
   "execution_count": null,
   "metadata": {
    "collapsed": true
   },
   "outputs": [],
   "source": [
    "def writeResources(i,response):\n",
    "    csvname='upworkResourceCSV_10k_'+str(i)\n",
    "    f = open(csvname+'.csv','w')\n",
    "    f.write(\";\".join(keys))\n",
    "\n",
    "    for r in response:\n",
    "        data=[]\n",
    "        f.write(\"\\n\")\n",
    "        for key in keys:\n",
    "            try:\n",
    "                value=r[key]\n",
    "                if isinstance(value, (list, tuple)):\n",
    "                    value=\"--\".join(value)           \n",
    "                if key == \"id\":\n",
    "                    #https://www.upwork.com/freelancers/_~01ff203de58fed31fb/\n",
    "                    value=r\"https://www.upwork.com/freelancers/_\"+value\n",
    "                value=value.encode('ascii', 'ignore')\n",
    "                value=''.join(value.splitlines())\n",
    "                data.append(value.replace(\";\",'..'))\n",
    "            except:\n",
    "                data.append(\"-\")\n",
    "\n",
    "        f.write(\";\".join(data))\n",
    "\n",
    "    f.close()"
   ]
  },
  {
   "cell_type": "code",
   "execution_count": 1,
   "metadata": {
    "collapsed": false
   },
   "outputs": [],
   "source": [
    "import upwork\n",
    "#https://github.com/upwork/python-upwork\n",
    "public_key='8b4e214913168000580280e93e9a2b66'\n",
    "secret_key='5a38eba13351a43d'\n",
    "client = upwork.Client(public_key, secret_key)"
   ]
  },
  {
   "cell_type": "code",
   "execution_count": 2,
   "metadata": {
    "collapsed": false
   },
   "outputs": [
    {
     "data": {
      "text/plain": [
       "'https://www.upwork.com/services/api/auth?oauth_token=ec0a770cb523da613ee4899a257df7a2'"
      ]
     },
     "execution_count": 2,
     "metadata": {},
     "output_type": "execute_result"
    }
   ],
   "source": [
    "ver= client.auth.get_authorize_url()\n",
    "verif=ver.rsplit(\"=\",1)[1]\n",
    "ver"
   ]
  },
  {
   "cell_type": "code",
   "execution_count": 3,
   "metadata": {
    "collapsed": false
   },
   "outputs": [],
   "source": [
    "verif='756aa20302b63ce6dba5a15a691bd125'"
   ]
  },
  {
   "cell_type": "code",
   "execution_count": 4,
   "metadata": {
    "collapsed": false
   },
   "outputs": [],
   "source": [
    "oauth_access_token, oauth_access_token_secret = client.auth.get_access_token(verif)"
   ]
  },
  {
   "cell_type": "code",
   "execution_count": 5,
   "metadata": {
    "collapsed": true
   },
   "outputs": [],
   "source": [
    "client = upwork.Client(public_key, secret_key,\n",
    "                      oauth_access_token=oauth_access_token,\n",
    "                      oauth_access_token_secret=oauth_access_token_secret)"
   ]
  },
  {
   "cell_type": "code",
   "execution_count": 6,
   "metadata": {
    "collapsed": false
   },
   "outputs": [],
   "source": [
    "# article writing category id - 531770282597445642\n",
    "# Article & Blog Writing\n",
    "# client.provider_v2.get_categories_metadata()"
   ]
  },
  {
   "cell_type": "code",
   "execution_count": 7,
   "metadata": {
    "collapsed": true
   },
   "outputs": [],
   "source": [
    "i=0\n",
    "# response=[]\n",
    "# data = {'q':\"data science\",'hours': '1', 'profile_type':'Independent'}\n",
    "# response=client.provider_v2.search_providers(data=data, page_offset=0, page_size=100)\n",
    "# # response = response+r"
   ]
  },
  {
   "cell_type": "markdown",
   "metadata": {},
   "source": [
    "# Calling Upwork Api"
   ]
  },
  {
   "cell_type": "code",
   "execution_count": 37,
   "metadata": {
    "collapsed": false
   },
   "outputs": [
    {
     "name": "stdout",
     "output_type": "stream",
     "text": [
      "[{u'portrait_50': u'https://odesk-prod-portraits.s3.amazonaws.com/Users:nelliane:PortraitUrl_50?AWSAccessKeyId=1XVAX3FNQZAFC9GJCFR2&Expires=2147483647&Signature=tFl13ez1bA7X53vcTA6uaLoJEAE%3D&1469653914515243', u'categories2': [u'Writing'], u'profile_type': u'Independent', u'title': u'Copywriting| Sales Writing| Content Marketing| Article & Blog Writing', u'skills': [u'article-writing', u'sales-letters', u'copywriting', u'email-marketing', u'business-writing', u'internet-marketing', u'sales-writing', u'copy-editing'], u'country': u'Saint Lucia', u'description': u\"You're looking to transform your business and you need an outstanding copywriter. \\n\\nYou need someone who's laser focused on driving real results and who has a thorough understanding of content marketing. \\n\\nWell, you're on the right profile because I'm here to help you get the results that you want. \\n\\nI am a seasoned blogger and experienced content marketing professional. I can assist with high-quality article and blog writing, sales copywriting, lead magnets, email marketing, white papers, landing pages, business reports, and website copy. \\n\\nHere's what exceptional copywriting can do for your business:\\n\\n- Engage website visitors with captivating web copy that is true to your brand voice and vision.\\n\\n- Increase web presence and see a massive boost in search engine ranking with evergreen articles that are optimized for search engines. \\n\\n- Grow your email list with effective lead magnets like ebooks, white papers, checklists, and reports. \\n\\n- Increase your customer loyalty and build authentic engagement with your niche audience by crafting regular email newsletters. \\n\\nWhy Choose Me:\\n\\n- I am Inbound Marketing Certified \\n\\n- I deliver consistently superior quality work. You will be met with reliability, ease of communication, and tireless commitment to the task. \\n\\n- I have a great depth of experience in content creation & marketing. \\n\\n- I am results-driven and genuinely interesting in using my talents to help your business achieve maximum impact. \\n\\n- I am easy to work with and you won't have to hold my hand. You tell me what you want and I deliver.\\n\\nIf you're ready to experience what high-conversion copywriting can do to amplify your business, send me a message so we can talk about how I can be of value to you.\\n\\nWarm Regards,\\nNelliane \", u'name': u'Nelliane St Clair', u'last_activity': u'December 18, 2016', u'rate': u'100.0', u'member_since': u'February 7, 2015', u'portfolio_items_count': u'1', u'id': u'~011a7c8755f9a87455', u'test_passed_count': u'6', u'feedback': u'4.8588451652'}, {u'portrait_50': u'https://odesk-prod-portraits.s3.amazonaws.com/Users:mmcmliagon:PortraitUrl_50?AWSAccessKeyId=1XVAX3FNQZAFC9GJCFR2&Expires=2147483647&Signature=DIW0IJ9sxaHYY4z%2BlXeoEpx2OL0%3D&1433860684495212', u'categories2': [u'Writing', u'Admin Support', u'Design & Creative'], u'profile_type': u'Independent', u'title': u'article writer, blog writer, technical writer, transcriber', u'skills': [u'writing', u'article-writing', u'journalism-writing', u'content-writing', u'english-proofreading', u'esl-teaching', u'report-writing', u'voice-over', u'editing'], u'country': u'Philippines', u'description': u'I have sharpened my writing skills and trained myself to keep up with deadline demands when I worked as a planning officer for the Social Welfare arm of the Philippine government. This makes me confident that I can deliver jobs without compromising quality. I continue to challenge myself and push the envelope as I put client satisfaction first. Feel free to contact me for samples of my work.', u'name': u'Marianne Liagon', u'last_activity': u'March 1, 2017', u'rate': u'3.33', u'member_since': u'December 25, 2012', u'portfolio_items_count': u'0', u'id': u'~01439505ea9a821377', u'test_passed_count': u'1', u'feedback': u'0.0'}, {u'portrait_50': u'https://odesk-prod-portraits.s3.amazonaws.com/Users:traynorkevin:PortraitUrl_50?AWSAccessKeyId=1XVAX3FNQZAFC9GJCFR2&Expires=2147483647&Signature=ADvZ2IU%2B2NQM6DOHsFPPFwbIsyM%3D', u'categories2': [u'Translation', u'Web, Mobile & Software Dev', u'Admin Support', u'Sales & Marketing', u'Writing', u'Accounting & Consulting'], u'profile_type': u'Independent', u'title': u'English Spanish Translator and Blog Article Writer', u'skills': [u'translation', u'transcription', u'technical-translation', u'writing', u'writing-slang-style', u'blog-writing', u'html', u'css', u'jquery'], u'country': u'Argentina', u'description': u'I am an industrial engineering student in Argentina. Now I am in an exchange program in Barcelona.\\r\\nEven though I study engineering I have a creative side. I like writing, taking pictures, and filming videos.\\r\\n\\r\\nSpanish Native Speaker from Argentina.\\r\\nEnglish: Advanced level.\\r\\n - First Certificate in English (FCE)\\r\\n - Certificate in Advanced English (CAE)\\r\\n\\r\\nBlog Article Writer in www.kevintraynormedia.blogspot.com\\r\\n\\r\\nYoutube Freelance Filmmaker at www.youtube.com/traynorvideos', u'name': u'Kevin Traynor Guerra', u'last_activity': u'February 12, 2017', u'rate': u'15.0', u'member_since': u'March 9, 2015', u'portfolio_items_count': u'0', u'id': u'~013981492d3facc976', u'test_passed_count': u'0', u'feedback': u'0.0'}, {u'portrait_50': u'https://odesk-prod-portraits.s3.amazonaws.com/Users:johngkent:PortraitUrl_50?AWSAccessKeyId=1XVAX3FNQZAFC9GJCFR2&Expires=2147483647&Signature=myzWSr%2Ffq%2BrbB8Bsw1yTUPaOf0g%3D&1462330912397758', u'categories2': [u'Writing'], u'profile_type': u'Independent', u'title': u'Creative and Professional Blog and Article Writer.', u'skills': [u'creative-writing', u'b2b-marketing', u'marketing-strategy', u'business-continuity-planning', u'financial-writing', u'financial-analysis', u'financial-management', u'writing', u'business-plans', u'seo-writing'], u'country': u'Canada', u'description': u'I am a professional freelance writer with a degree in Management and Economics from the University of Toronto. With over 10 years experience with small business, my writing has been featured online and in print. Having published a novel, I have developed the skills to create compelling stories that translates well to marketing. I have spent several years within the financial industry and understand the elements of deadlines and discretion. I offer copywriting, website writing, blog posts, and business plan writing services. I take the time to research the project properly before writing content and excel at creating content that balances professionalism, excitement, and persuasion.', u'name': u'John Kent', u'last_activity': u'December 12, 2016', u'rate': u'85.0', u'member_since': u'May 4, 2016', u'portfolio_items_count': u'6', u'id': u'~016d4a4e6424edab6f', u'test_passed_count': u'2', u'feedback': u'0.0'}, {u'portrait_50': u'https://odesk-prod-portraits.s3.amazonaws.com/Users:hania1987:PortraitUrl_50?AWSAccessKeyId=1XVAX3FNQZAFC9GJCFR2&Expires=2147483647&Signature=C3%2BjdCZ2o27Jwwq5EqRyHdCAXOw%3D', u'categories2': [u'Writing', u'Admin Support'], u'profile_type': u'Independent', u'title': u'Expert in Blog Content, Article and Academic Research Writing.', u'skills': [u'article-writing', u'academic-writing', u'data-entry'], u'country': u'Kenya', u'description': u'I am a full-time writer with great experience in Academic writing, blog articles, product reviews among others. If you urgently need quality academic research papers or blog articles, then am the person to contact.\\nI do my best to respond to your inquiries and requests promptly. I can easily adopt to a number of writing styles with ease and I can Write on a variety of topics. \\nMy greatest commitment is to provide high quality articles and academic papers. ', u'name': u'Ephraim K.', u'last_activity': u'February 23, 2017', u'rate': u'13.0', u'member_since': u'June 4, 2012', u'portfolio_items_count': u'4', u'id': u'~0109c61fd03223e8fd', u'test_passed_count': u'5', u'feedback': u'4.8342105263'}, {u'portrait_50': u'https://odesk-prod-portraits.s3.amazonaws.com/Users:taliasarakoren:PortraitUrl_50?AWSAccessKeyId=1XVAX3FNQZAFC9GJCFR2&Expires=2147483647&Signature=J8CXPdB%2BGVLcCLywyNGVH4RFlxA%3D&1478733452808139', u'categories2': [u'Writing', u'Sales & Marketing', u'Design & Creative', u'Admin Support'], u'profile_type': u'Independent', u'title': u'Web content, article & blog writing for Millennial audiences', u'skills': [u'blog-writing', u'article-writing', u'seo', u'english-proofreading', u'copy-editing', u'content-writing', u'social-media-management', u'email-marketing'], u'country': u'United States', u'description': u\"Juicy, authentic content is a MUST for keeping and connecting with your young customers. But it's not easy to do. \\n\\nLuckily for you, I'm a master. \\n\\nI produce relatable blog posts, fresh website copy and researched articles that not only encapsulate YOUR unique voice and message, but inspire your readers to take action. \\n\\nIf you're trying to tell your story on social media, publish relevant, well-written articles and blog posts or improve the quality of content on your website, I'm your girl. \\n\\nMy niches: personal finance, fashion, health, career development and lifestyle.\\n\\nHere\\u2019s what I can do for your company or brand with the written word:\\n\\n- Social media writing for Facebook, Twitter and Instagram\\n- Company blog writing (and uploading articles to Wordpress)\\n- Newsletter and email campaign copywriting\\n- Blogger and influencer outreach \\n \\nIf you\\u2019re all set with producing web content, I'd be happy to:\\n\\n- Manage social media accounts (Facebook, Twitter and Instagram)\\n- Edit blog posts, articles, email campaigns and newsletters\\n\\nWhy me?\\n\\nI used to write for Elite Daily, a large online publication, where I produced 4-8 articles per day. I wrote everything from urgent news stories to health advice to personal finance think pieces -- all for a Millennial audience. \\n\\nI know what it takes to write a viral piece of content because I've done it. My articles garnered up to 2.5 million views per month. \\n\\nAdditionally, I have experience writing for company blogs within niches like personal finance, women's beauty products and healthcare marketing. You can find my samples below. \\n\\nSo I might be a match for you, but are you a match for me? Here's what I'm looking for:\\n-Clients who are interested in building a relationship with me. I'm not interested in one-off projects.\\n-Clients who are willing to pay for quality instead of paying a lower rate for faster (sloppier, mediocre) work. There's a reason why my rate is $50 an hour. You'll get plenty of bang for your buck and much more. \\n\\nStill reading? Let's talk. Click one of the buttons above and I'll get back to you ASAP. \\n\", u'name': u'Talia Koren', u'last_activity': u'January 4, 2017', u'rate': u'50.0', u'member_since': u'March 12, 2016', u'portfolio_items_count': u'5', u'id': u'~013a15fb06ab3c33bb', u'test_passed_count': u'1', u'feedback': u'5.0'}, {u'portrait_50': u'https://odesk-prod-portraits.s3.amazonaws.com/Users:ilir22:PortraitUrl_50?AWSAccessKeyId=1XVAX3FNQZAFC9GJCFR2&Expires=2147483647&Signature=beJjQOYeTIxhi%2BIeCAlkkjm0e7s%3D&1470654711044604', u'categories2': [u'Writing', u'Translation', u'Admin Support'], u'profile_type': u'Independent', u'title': u'Article & Blog Writing/ Content Writer/Proofreader/Editor/Researcher', u'skills': [u'academic-writing', u'editing', u'proofreading', u'creative-writing', u'content-writing', u'research-papers', u'customer-service', u'administrative-support', u'speech-writing', u'business-writing'], u'country': u'Monaco', u'description': u'Greetings,\\n\\nI uphold professionalism by providing well researched and written assignments. I am also a strict time keeper and will ensure the assignments are delivered on time. The 4 years experience is a sure guarantee to quality work.\\n\\nResearch writing with creativity and critical assessment has always been my passion. I enjoy exploring information and dive into the sea of knowledge and learning. \\n\\nI am dedicated and take orders only if I realize I am able to meet the deadlines. I communicate and assure for order delivery prior to receiving work from clients and work consistently.\\n\\nMy hard work and enthusiasm toward bringing new ideas in work and also my contributions toward original write ups are an indication of my talent for producing plagiarism free tasks.\\n\\nI take writing as pleasure and sighting the indispensable parts of life. I am a professional writer.', u'name': u'Ilir K.', u'last_activity': u'February 28, 2017', u'rate': u'10.0', u'member_since': u'April 8, 2014', u'portfolio_items_count': u'2', u'id': u'~0103d14e7df10d1c2c', u'test_passed_count': u'0', u'feedback': u'5.0'}, {u'portrait_50': u'https://odesk-prod-portraits.s3.amazonaws.com/Users:145b4cd7:PortraitUrl_50?AWSAccessKeyId=1XVAX3FNQZAFC9GJCFR2&Expires=2147483647&Signature=N%2BzM6MlirGZGxbd6HCX8S%2BhYRWA%3D&1447270978282327', u'categories2': [u'Writing'], u'profile_type': u'Independent', u'title': u'Engaging blog & article writing - attract and convert quality visitors', u'skills': [u'content-writing', u'blog-writing', u'article-writing', u'content-marketing', u'lead-generation', u'copywriting', u'internet-marketing', u'landing-pages', u'online-writing', u'ebook-writing'], u'country': u'United States', u'description': u'You want to create an impact and grow your business.\\n\\nAnd you want to do that with engaging, original, and effective blog writing.\\n\\nNot ineffective copy+paste articles. That will bring....crickets.\\n\\nSee, I believe the world needs more writers bold enough to be honest, original, and truly helpful. \\n\\nThat\\'s how you\\'ll grow your blog.\\n\\nTESTIMONIALS:\\n\\n\"Was nice working with Matt. He worked quickly and put a lot of thought into the planning of my article.\"\\n\\n\\u201cI can tell you really live what you write about, which gives your writing even more value for me personally.\\u201d\\n\\nNOT MANY BLOG WRITERS ARE ABLE TO PROVE RESULTS...\\n\\nMy writing has attracted (and converted) millions of visitors to date (See my portfolio below for examples of posts I\\'ve written which sit on page 1 for major niche keywords):\\n\\n4,000,000 million visitors to date...\\n\\n20,000 email subscribers to my personal blog alone...\\n\\nAnd hundreds of customers converted from that blog content...\\n\\nDuring that time, I learned that you will not build a successful blog because:\\n\\n- You publish a few posts and then wait for the world to show up (this isn\\'t enough)\\n\\n- You add a few keywords to those posts (the SEO landscape is more competitive than ever and you need a complete strategy that prioritizes PROVIDING VALUE to the visitor)\\n\\n- You crank out low-quality 500-word posts (this may have worked 10 years ago. It doesn\\'t anymore- and neither am I about that)\\n\\nSo, what does it take to attract and convert QUALITY visitors and ultimately build a successful blog?\\n\\nYou need to create ENGAGING, ORIGINAL, and HIGH-VALUE content. \\n\\nThat\\'s the key.\\n\\nMany people think they can just publish a couple of posts, throw in a few keywords, and they\\'ll magically attract an audience and sell loads of their product or service, but that\\'s not the case.\\n\\nThe reality is, hundreds of other sites are trying to attract that visitor too, so you need to stand out.\\n\\nHow do you do that? By creating the most valuable content possible so they go with you, instead of someone else.\\n\\nThis, more than keywords or silly tricks, is the #1 SEO factor in helping you rank on page 1 with Google. \\n\\nImagine doubling your traffic (and CONVERSION) using the latest blog and content marketing techniques. How would that feel? That\\'s the power of an effective blog content strategy.\\n\\nAn effective blog strategy includes:\\n\\n1. Creating highly engaging and useful blog content that helps convert readers into paying customers\\n\\n2. Doing quality keyword research and optimizing for SEO so that your content is more visible in Google search results\\n\\n3. Writing original, well-researched articles that establish you as an authority in your niche\\n\\n4. And much more...\\n\\nI could go on. I live to create high-quality articles and blog writing.\\n\\nHowever, I\\'d rather start discussing your project...\\n\\nOne more thing, though: I\\'m serious about creating HIGH-QUALITY blog articles and other content marketing that moves your business forward. \\n\\nSo, if you\\'re looking for something done cheap, low-quality then please look elsewhere.\\n\\nOtherwise, feel free to contact me using one of the buttons at the top of the page and I\\'ll do my best to get back to you ASAP.\\n\\nPeace,\\nMatt', u'name': u'Matt Valentine', u'last_activity': u'February 28, 2017', u'rate': u'25.0', u'member_since': u'November 11, 2015', u'portfolio_items_count': u'7', u'id': u'~016f5909bb1333da51', u'test_passed_count': u'2', u'feedback': u'5.0'}, {u'portrait_50': u'https://odesk-prod-portraits.s3.amazonaws.com/Users:hannahjohnson45:PortraitUrl_50?AWSAccessKeyId=1XVAX3FNQZAFC9GJCFR2&Expires=2147483647&Signature=9eSI41g1YjfyMteUoiN76R29in8%3D&1467132865110148', u'categories2': [u'Writing'], u'profile_type': u'Independent', u'title': u'Creative Blog and Article Writer', u'skills': [u'editing', u'proofreading', u'english-proofreading', u'fiction-writing', u'article-writing', u'article-rewriting', u'ghostwriting', u'english-grammar', u'english-spelling', u'english-punctuation'], u'country': u'United States', u'description': u\"I am a freelance writer with a Bachelor's Degree in Creative Writing from Stephen F. Austin State University. I have seven years of editing and writing experience with work varying from newspapers to literary journals. I have published pieces featured online and in print. I excel in editing and proofreading. I always strive for perfection. My writing experience ranges from editorial and feature articles to poetry and fiction pieces. No matter the genre, I strive for excellence and ingenuity. \", u'name': u'Hannah Johnson', u'last_activity': u'February 16, 2017', u'rate': u'20.0', u'member_since': u'June 28, 2016', u'portfolio_items_count': u'1', u'id': u'~01f235b83d438d7daf', u'test_passed_count': u'1', u'feedback': u'5.0'}, {u'portrait_50': u'https://odesk-prod-portraits.s3.amazonaws.com/Users:donald204:PortraitUrl_50?AWSAccessKeyId=1XVAX3FNQZAFC9GJCFR2&Expires=2147483647&Signature=19gTCp2vImIaDE74b6XnhAF4JjM%3D&1484711372167690', u'categories2': [u'Writing', u'Admin Support', u'Customer Service'], u'profile_type': u'Independent', u'title': u'Blog and Content Writing Expert', u'skills': [u'content-marketing', u'data-entry', u'newsletter-writing', u'blog-writing', u'content-writing', u'internet-research', u'ghostwriting', u'seo-keyword-research', u'internet-marketing', u'copywriting'], u'country': u'Kenya', u'description': u'In this field of academic research, editing and proofreading, creative writing, article and blog writing, data entry, creative, and technical writing, I am bringing vast experience of about seven consecutive years working in the United Kingdom based companies. I have been working as a data entry assistant in various countries. In addition, I have been working in an online platform that offers clients expertise services with respect to their demands. Fiverr has offered me an opportunity to understand what clients want and therefore I am ready to offer them with quality services.\\nCurrently, I am a full-time freelancer, which means that I am readily available at all times. I am able to meet deadlines, offer original articles that are not plagiarized or rephrased while at the same time adhering to the ethical codes of writing on this platform.\\n', u'name': u'Donald James', u'last_activity': u'February 25, 2017', u'rate': u'10.0', u'member_since': u'January 18, 2017', u'portfolio_items_count': u'0', u'id': u'~01c54d16c2488fd49b', u'test_passed_count': u'1', u'feedback': u'5.0'}]\n"
     ]
    }
   ],
   "source": [
    "i=1\n",
    "data = {'profile_type':'Independent',\n",
    "        'subcategory2':'Article & Blog Writing'}\n",
    "a=client.provider_v2.search_providers(data=data, page_offset=i*100, page_size=10)\n",
    "print(a)"
   ]
  },
  {
   "cell_type": "code",
   "execution_count": 8,
   "metadata": {
    "collapsed": false
   },
   "outputs": [],
   "source": [
    "import time\n",
    "response3=[]"
   ]
  },
  {
   "cell_type": "code",
   "execution_count": null,
   "metadata": {
    "collapsed": false,
    "scrolled": false
   },
   "outputs": [
    {
     "name": "stdout",
     "output_type": "stream",
     "text": [
      "1\n",
      "2\n",
      "3\n",
      "4\n",
      "5\n",
      "6\n",
      "7\n",
      "8\n",
      "9\n",
      "10\n",
      "11\n",
      "12\n",
      "retry\n",
      "13\n",
      "14\n",
      "15\n",
      "16\n",
      "17\n",
      "18\n",
      "19\n",
      "20\n",
      "21\n",
      "retry\n",
      "retry\n",
      "22\n",
      "retry\n",
      "23\n",
      "24\n",
      "25\n",
      "26\n",
      "retry\n",
      "retry2\n",
      "retry3\n",
      "27\n",
      "28\n",
      "29\n",
      "retry\n",
      "retry2\n",
      "retry3\n",
      "30\n",
      "31\n",
      "32\n",
      "33\n",
      "34\n",
      "35\n",
      "36\n",
      "37\n",
      "38\n",
      "retry\n",
      "39\n",
      "retry\n",
      "retry2\n",
      "retry\n",
      "40\n",
      "41\n",
      "42\n",
      "43\n",
      "retry\n",
      "44\n",
      "retry\n",
      "45\n",
      "46\n",
      "47\n",
      "48\n",
      "49\n",
      "50\n",
      "51\n",
      "52\n",
      "53\n",
      "54\n",
      "55\n",
      "56\n",
      "57\n",
      "58\n",
      "59\n",
      "60\n",
      "61\n",
      "62\n",
      "retry\n",
      "63\n",
      "64\n",
      "65\n",
      "66\n",
      "67\n",
      "retry\n",
      "68\n",
      "69\n",
      "70\n",
      "71\n",
      "retry\n",
      "72\n",
      "73\n",
      "74\n",
      "75\n",
      "retry\n",
      "retry2\n",
      "76\n",
      "retry\n",
      "77\n",
      "78\n",
      "79\n",
      "80\n",
      "retry\n",
      "81\n",
      "retry\n",
      "82\n",
      "83\n",
      "84\n",
      "85\n",
      "86\n",
      "retry\n",
      "87\n",
      "88\n",
      "89\n",
      "90\n",
      "retry\n",
      "91\n",
      "92\n",
      "93\n",
      "94\n",
      "retry\n",
      "95\n",
      "96\n",
      "97\n",
      "98\n",
      "99\n",
      "100\n",
      "retry\n",
      "101\n",
      "102\n",
      "103\n",
      "retry\n",
      "retry\n",
      "retry\n",
      "104\n",
      "105\n",
      "106\n",
      "107\n",
      "108\n",
      "retry\n",
      "retry2\n",
      "retry3\n",
      "fail\n",
      "109\n",
      "110\n",
      "111\n",
      "112\n",
      "113\n",
      "retry\n",
      "retry2\n",
      "retry3\n",
      "fail\n",
      "114\n",
      "115\n",
      "retry\n",
      "116\n",
      "retry\n",
      "retry\n",
      "117\n",
      "retry\n",
      "retry2\n",
      "retry3\n",
      "118\n",
      "119\n",
      "120\n",
      "121\n",
      "retry\n",
      "retry\n",
      "retry2\n",
      "retry\n",
      "122\n",
      "retry\n",
      "123\n",
      "124\n",
      "125\n",
      "retry\n",
      "retry\n",
      "retry\n",
      "retry2\n",
      "126\n",
      "127\n",
      "128\n",
      "retry\n",
      "129\n",
      "retry\n",
      "130\n",
      "retry\n",
      "retry\n",
      "retry2\n",
      "retry\n",
      "131\n",
      "132\n",
      "retry\n",
      "retry\n",
      "retry\n",
      "retry2\n",
      "retry\n",
      "133\n",
      "134\n",
      "135\n",
      "136\n",
      "137\n",
      "138\n",
      "retry\n",
      "retry\n",
      "retry\n",
      "139\n",
      "140\n",
      "141\n",
      "142\n",
      "143\n",
      "retry\n",
      "retry\n",
      "retry\n",
      "144\n",
      "145\n",
      "retry\n",
      "146\n",
      "147\n",
      "retry\n",
      "148\n",
      "149\n",
      "retry\n",
      "150\n",
      "151\n",
      "retry\n",
      "retry2\n",
      "retry3\n",
      "fail\n",
      "retry\n",
      "retry2\n",
      "retry\n",
      "retry\n",
      "retry2\n",
      "retry3\n",
      "retry\n",
      "retry2\n",
      "retry3\n",
      "retry\n",
      "retry\n",
      "retry\n",
      "retry\n",
      "retry2\n",
      "retry3\n",
      "fail\n",
      "retry\n",
      "retry\n",
      "retry2\n",
      "retry3\n",
      "fail\n",
      "retry\n",
      "retry2\n",
      "retry3\n",
      "fail\n",
      "152\n",
      "retry\n",
      "retry2\n",
      "retry3\n",
      "fail\n",
      "retry\n",
      "retry2\n",
      "retry3\n",
      "fail\n",
      "retry\n",
      "retry2\n",
      "retry3\n",
      "fail\n",
      "retry\n",
      "retry2\n",
      "retry3\n",
      "fail\n",
      "retry\n",
      "retry2\n",
      "retry3\n",
      "fail\n",
      "retry\n",
      "retry2\n",
      "retry3\n",
      "fail\n",
      "retry\n",
      "retry2\n",
      "retry3\n",
      "fail\n",
      "retry\n",
      "retry2\n",
      "retry3\n",
      "fail\n",
      "retry\n",
      "retry2\n",
      "retry3\n",
      "fail\n",
      "retry\n",
      "retry2\n",
      "retry3\n",
      "fail\n",
      "retry\n",
      "retry2\n",
      "retry3\n",
      "fail\n",
      "retry\n",
      "retry2\n",
      "retry3\n",
      "fail\n",
      "retry\n",
      "retry2\n",
      "retry3\n",
      "fail\n",
      "retry\n",
      "retry2\n",
      "retry3\n",
      "fail\n",
      "retry\n",
      "retry2\n",
      "retry3\n",
      "fail\n",
      "retry\n",
      "retry2\n",
      "retry3\n",
      "fail\n",
      "retry\n",
      "retry2\n",
      "retry3\n",
      "fail\n",
      "retry\n",
      "retry2\n",
      "retry3\n",
      "fail\n",
      "retry\n",
      "retry2\n",
      "retry3\n",
      "fail\n",
      "retry\n",
      "retry2\n",
      "retry3\n",
      "fail\n",
      "retry\n",
      "retry2\n",
      "retry3\n",
      "fail\n",
      "retry\n",
      "retry2\n",
      "retry3\n",
      "fail\n",
      "retry\n",
      "retry2\n",
      "retry3\n",
      "fail\n",
      "retry\n",
      "retry2\n",
      "retry3\n",
      "fail\n",
      "retry\n",
      "retry2\n",
      "retry3\n",
      "fail\n",
      "retry\n",
      "retry2\n",
      "retry3\n",
      "fail\n",
      "retry\n",
      "retry2\n",
      "retry3\n",
      "fail\n",
      "retry\n",
      "retry2\n",
      "retry3\n",
      "fail\n",
      "retry\n",
      "retry2\n",
      "retry3\n",
      "fail\n",
      "retry\n",
      "retry2\n",
      "retry3\n",
      "fail\n",
      "retry\n",
      "retry2\n",
      "retry3\n",
      "fail\n",
      "retry\n",
      "retry\n",
      "retry2\n",
      "retry3\n",
      "fail\n",
      "retry\n",
      "retry2\n",
      "retry3\n",
      "fail\n",
      "retry\n",
      "retry2\n",
      "retry3\n",
      "fail\n",
      "retry\n",
      "retry2\n",
      "retry3\n",
      "fail\n",
      "retry\n",
      "retry2\n",
      "retry3\n",
      "fail\n",
      "retry\n",
      "retry2\n",
      "retry3\n",
      "fail\n",
      "retry\n",
      "retry2\n",
      "retry3\n",
      "fail\n",
      "retry\n",
      "retry2\n",
      "retry3\n",
      "fail\n",
      "retry\n",
      "retry2\n",
      "retry3\n",
      "fail\n",
      "retry\n",
      "retry2\n",
      "retry3\n",
      "fail\n",
      "retry\n",
      "retry2\n",
      "retry3\n",
      "fail\n",
      "retry\n",
      "retry2\n",
      "retry3\n",
      "fail\n",
      "retry\n",
      "retry2\n",
      "retry3\n",
      "fail\n",
      "retry\n",
      "retry2\n",
      "retry3\n",
      "fail\n",
      "retry\n",
      "retry2\n",
      "retry3\n",
      "fail\n",
      "retry\n",
      "retry2\n",
      "retry3\n",
      "fail\n",
      "retry\n",
      "retry2\n",
      "retry3\n",
      "fail\n",
      "retry\n",
      "retry2\n",
      "retry3\n",
      "fail\n",
      "retry\n",
      "retry2\n",
      "retry3\n",
      "fail\n",
      "retry\n",
      "retry2\n",
      "retry3\n",
      "fail\n",
      "retry\n",
      "retry2\n",
      "retry3\n",
      "fail\n",
      "retry\n",
      "retry2\n",
      "retry3\n",
      "fail\n",
      "retry\n",
      "retry2\n",
      "retry3\n",
      "fail\n",
      "retry\n",
      "retry2\n",
      "retry3\n",
      "fail\n",
      "retry\n",
      "retry2\n",
      "retry3\n",
      "fail\n",
      "retry\n",
      "retry2\n",
      "retry3\n",
      "fail\n",
      "retry\n",
      "retry2\n",
      "retry3\n",
      "fail\n",
      "retry\n",
      "retry2\n",
      "retry3\n",
      "fail\n",
      "retry\n",
      "retry2\n",
      "retry3\n",
      "fail\n",
      "retry\n",
      "retry2\n",
      "retry3\n",
      "fail\n",
      "retry\n",
      "retry2\n",
      "retry3\n",
      "fail\n",
      "retry\n",
      "retry2\n",
      "retry3\n",
      "fail\n",
      "retry\n",
      "retry2\n",
      "retry3\n",
      "fail\n",
      "retry\n",
      "retry2\n",
      "retry3\n",
      "fail\n",
      "retry\n",
      "retry2\n",
      "retry3\n",
      "fail\n",
      "retry\n",
      "retry2\n",
      "retry3\n",
      "fail\n",
      "retry\n",
      "retry2\n",
      "retry3\n",
      "fail\n",
      "retry\n",
      "retry2\n",
      "retry3\n",
      "fail\n",
      "retry\n",
      "retry2\n",
      "retry3\n",
      "fail\n",
      "retry\n",
      "retry2\n",
      "retry3\n",
      "fail\n",
      "retry\n",
      "retry2\n",
      "retry3\n",
      "fail\n",
      "retry\n",
      "retry2\n",
      "retry3\n",
      "fail\n",
      "retry\n",
      "retry2\n",
      "retry3\n",
      "fail\n",
      "retry\n",
      "retry2\n",
      "retry3\n",
      "fail\n",
      "retry\n",
      "retry2\n",
      "retry3\n",
      "fail\n",
      "retry\n",
      "retry2\n",
      "retry3\n",
      "fail\n",
      "retry\n",
      "retry2\n",
      "retry3\n",
      "fail\n",
      "retry\n",
      "retry2\n",
      "retry3\n",
      "fail\n",
      "retry\n",
      "retry2\n",
      "retry3\n",
      "fail\n",
      "retry\n",
      "retry2\n",
      "retry3\n",
      "fail\n",
      "retry\n",
      "retry\n",
      "retry2\n",
      "retry3\n",
      "fail\n",
      "retry\n",
      "retry2\n",
      "retry3\n",
      "fail\n",
      "retry\n",
      "retry2\n",
      "retry3\n",
      "fail\n",
      "retry\n",
      "retry2\n",
      "retry3\n",
      "fail\n",
      "retry\n",
      "retry2\n",
      "retry3\n",
      "fail\n",
      "retry\n",
      "retry2\n",
      "retry3\n",
      "fail\n",
      "retry\n",
      "retry2\n",
      "retry3\n",
      "fail\n",
      "retry\n",
      "retry2\n",
      "retry3\n",
      "fail\n",
      "retry\n",
      "retry2\n",
      "retry3\n",
      "fail\n",
      "retry\n",
      "retry2\n",
      "retry3\n",
      "fail\n",
      "retry\n",
      "retry2\n",
      "retry3\n",
      "fail\n",
      "retry\n",
      "retry2\n",
      "retry3\n",
      "fail\n",
      "retry\n",
      "retry2\n",
      "retry3\n",
      "fail\n",
      "retry\n",
      "retry2\n",
      "retry3\n",
      "fail\n",
      "retry\n",
      "retry2\n",
      "retry\n",
      "retry2\n",
      "retry3\n",
      "retry\n",
      "153\n",
      "retry\n",
      "retry\n",
      "retry2\n",
      "retry\n",
      "retry2\n",
      "retry3\n",
      "retry\n",
      "retry\n",
      "retry2\n",
      "retry3\n",
      "fail\n",
      "retry\n",
      "retry\n",
      "retry\n",
      "retry\n",
      "retry\n",
      "retry2\n",
      "retry\n",
      "retry\n",
      "retry\n",
      "retry2\n",
      "retry3\n",
      "fail\n",
      "retry\n",
      "retry\n",
      "retry2\n",
      "retry3\n",
      "fail\n",
      "retry\n",
      "retry\n",
      "retry2\n",
      "retry3\n",
      "fail\n",
      "retry\n",
      "retry2\n",
      "retry3\n",
      "fail\n",
      "retry\n",
      "retry\n",
      "retry\n",
      "retry2\n",
      "retry\n",
      "retry2\n",
      "retry\n",
      "retry2\n",
      "retry3\n",
      "retry\n",
      "retry2\n",
      "retry3\n",
      "fail\n",
      "retry\n",
      "retry2\n",
      "retry3\n",
      "retry\n",
      "retry\n",
      "retry2\n",
      "retry\n",
      "retry2\n",
      "retry3\n",
      "fail\n",
      "retry\n",
      "retry\n"
     ]
    }
   ],
   "source": [
    "#client.auth.get_request_token(ver)\n",
    "\n",
    "for j in range (1,500):    \n",
    "    for i in range(j*100,(j*100)+100):\n",
    "        data = {'profile_type':'Independent',\n",
    "                'subcategory2':'Article & Blog Writing'}\n",
    "        try:\n",
    "            r=client.provider_v2.search_providers(data=data, page_offset=i*100, page_size=100)\n",
    "        except:\n",
    "            try:\n",
    "                print 'retry'\n",
    "                time.sleep(1)\n",
    "                r=client.provider_v2.search_providers(data=data, page_offset=i*100, page_size=100)\n",
    "            except:\n",
    "                try:\n",
    "                    time.sleep(1)\n",
    "                    print \"retry2\"\n",
    "                    r=client.provider_v2.search_providers(data=data, page_offset=i*100, page_size=100)\n",
    "                except:\n",
    "                    try:\n",
    "                        time.sleep(1)\n",
    "                        print \"retry3\"\n",
    "                        r=client.provider_v2.search_providers(data=data, page_offset=i*100, page_size=100)\n",
    "                    except:\n",
    "                        print 'fail'\n",
    "            \n",
    "        response3 = response3+r   \n",
    "        #print i\n",
    "    writeResources(j,response3)    \n",
    "    #time.sleep(10)\n",
    "    print(j)"
   ]
  },
  {
   "cell_type": "code",
   "execution_count": 333,
   "metadata": {
    "collapsed": true
   },
   "outputs": [],
   "source": [
    "# for i in range(0,20):\n",
    "#     data = {'q': 'writer', 'hours': '1', 'profile_type':'Independent'}\n",
    "#     r=client.provider_v2.search_providers(data=data, page_offset=i*100, page_size=100)\n",
    "#     response = response+r"
   ]
  },
  {
   "cell_type": "code",
   "execution_count": null,
   "metadata": {
    "collapsed": false
   },
   "outputs": [],
   "source": [
    "len(response3)"
   ]
  },
  {
   "cell_type": "code",
   "execution_count": 83,
   "metadata": {
    "collapsed": false
   },
   "outputs": [],
   "source": [
    "# response"
   ]
  },
  {
   "cell_type": "code",
   "execution_count": 84,
   "metadata": {
    "collapsed": false
   },
   "outputs": [],
   "source": [
    "a=[1,2,3]\n",
    "b=[3,4,5]\n",
    "c=a+b\n",
    "a.append(b)"
   ]
  },
  {
   "cell_type": "code",
   "execution_count": null,
   "metadata": {
    "collapsed": false
   },
   "outputs": [],
   "source": [
    "# response[99]"
   ]
  },
  {
   "cell_type": "code",
   "execution_count": 85,
   "metadata": {
    "collapsed": false
   },
   "outputs": [],
   "source": [
    "# response[0]"
   ]
  },
  {
   "cell_type": "code",
   "execution_count": 86,
   "metadata": {
    "collapsed": false
   },
   "outputs": [],
   "source": [
    "# keys=r.keys()"
   ]
  },
  {
   "cell_type": "code",
   "execution_count": 87,
   "metadata": {
    "collapsed": false
   },
   "outputs": [],
   "source": [
    "# keys"
   ]
  },
  {
   "cell_type": "code",
   "execution_count": 114,
   "metadata": {
    "collapsed": false
   },
   "outputs": [],
   "source": [
    "#skills, categories have multiple\n",
    "keys=['portrait_50',\n",
    " 'categories2',\n",
    " 'profile_type',\n",
    " 'title',\n",
    " 'skills',\n",
    " 'country',\n",
    " 'description',\n",
    " 'name',\n",
    " 'last_activity',\n",
    " 'rate',\n",
    " 'member_since',\n",
    " 'portfolio_items_count',\n",
    " 'id',\n",
    " 'test_passed_count',\n",
    " 'feedback']"
   ]
  },
  {
   "cell_type": "code",
   "execution_count": 115,
   "metadata": {
    "collapsed": false
   },
   "outputs": [],
   "source": [
    "csvname='upworkResourceCSV_10k'\n",
    "f = open(csvname+'.csv','w')"
   ]
  },
  {
   "cell_type": "code",
   "execution_count": 116,
   "metadata": {
    "collapsed": false
   },
   "outputs": [],
   "source": [
    "f.write(\";\".join(keys))"
   ]
  },
  {
   "cell_type": "code",
   "execution_count": null,
   "metadata": {
    "collapsed": true
   },
   "outputs": [],
   "source": [
    "# f.close()"
   ]
  },
  {
   "cell_type": "code",
   "execution_count": 117,
   "metadata": {
    "collapsed": false
   },
   "outputs": [],
   "source": [
    "#f = open('upworkResourceCSV.csv','a')\n",
    "# csvname='upworkResourceCSV_10k'\n",
    "# f = open(csvname+'.csv','w')\n",
    "# f.write(\";\".join(keys))\n",
    "\n",
    "# for r in response:\n",
    "#     data=[]\n",
    "#     f.write(\"\\n\")\n",
    "#     for key in keys:\n",
    "#         try:\n",
    "#             value=r[key]\n",
    "#             if isinstance(value, (list, tuple)):\n",
    "#                 value=\"--\".join(value)           \n",
    "#             if key == \"id\":\n",
    "#                 #https://www.upwork.com/freelancers/_~01ff203de58fed31fb/\n",
    "#                 value=r\"https://www.upwork.com/freelancers/_\"+value\n",
    "#             value=value.encode('ascii', 'ignore')\n",
    "#             value=''.join(value.splitlines())\n",
    "#             data.append(value.replace(\";\",'..'))\n",
    "#         except:\n",
    "#             data.append(\"-\")\n",
    "\n",
    "#     f.write(\";\".join(data))\n",
    "\n",
    "# f.close()"
   ]
  },
  {
   "cell_type": "code",
   "execution_count": 339,
   "metadata": {
    "collapsed": false
   },
   "outputs": [
    {
     "data": {
      "text/plain": [
       "(13577, 15)"
      ]
     },
     "execution_count": 339,
     "metadata": {},
     "output_type": "execute_result"
    }
   ],
   "source": [
    "import pandas as pd\n",
    "df = pd.read_csv(csvname+'.csv',delimiter=\";\")\n",
    "df.shape"
   ]
  },
  {
   "cell_type": "code",
   "execution_count": 340,
   "metadata": {
    "collapsed": false
   },
   "outputs": [
    {
     "data": {
      "text/plain": [
       "(3997, 15)"
      ]
     },
     "execution_count": 340,
     "metadata": {},
     "output_type": "execute_result"
    }
   ],
   "source": [
    "df[df.duplicated()].shape"
   ]
  },
  {
   "cell_type": "code",
   "execution_count": 341,
   "metadata": {
    "collapsed": true
   },
   "outputs": [],
   "source": [
    "df2=df.drop_duplicates()"
   ]
  },
  {
   "cell_type": "code",
   "execution_count": 342,
   "metadata": {
    "collapsed": false
   },
   "outputs": [
    {
     "data": {
      "text/plain": [
       "(9580, 15)"
      ]
     },
     "execution_count": 342,
     "metadata": {},
     "output_type": "execute_result"
    }
   ],
   "source": [
    "df2.shape"
   ]
  },
  {
   "cell_type": "code",
   "execution_count": 345,
   "metadata": {
    "collapsed": false
   },
   "outputs": [
    {
     "data": {
      "text/html": [
       "<div>\n",
       "<table border=\"1\" class=\"dataframe\">\n",
       "  <thead>\n",
       "    <tr style=\"text-align: right;\">\n",
       "      <th></th>\n",
       "      <th>portrait_50</th>\n",
       "      <th>categories2</th>\n",
       "      <th>profile_type</th>\n",
       "      <th>title</th>\n",
       "      <th>skills</th>\n",
       "      <th>country</th>\n",
       "      <th>description</th>\n",
       "      <th>name</th>\n",
       "      <th>last_activity</th>\n",
       "      <th>rate</th>\n",
       "      <th>member_since</th>\n",
       "      <th>portfolio_items_count</th>\n",
       "      <th>id</th>\n",
       "      <th>test_passed_count</th>\n",
       "      <th>feedback</th>\n",
       "    </tr>\n",
       "  </thead>\n",
       "  <tbody>\n",
       "    <tr>\n",
       "      <th>0</th>\n",
       "      <td>https://odesk-prod-portraits.s3.amazonaws.com/...</td>\n",
       "      <td>Data Science &amp; Analytics</td>\n",
       "      <td>Independent</td>\n",
       "      <td>Data scientist</td>\n",
       "      <td>microsoft-excel--microsoft-word--internet-rese...</td>\n",
       "      <td>India</td>\n",
       "      <td>I have experience handling large data tables. ...</td>\n",
       "      <td>Dattatray Kendre</td>\n",
       "      <td>2017-02-16</td>\n",
       "      <td>5.00</td>\n",
       "      <td>October 25, 2016</td>\n",
       "      <td>1</td>\n",
       "      <td>https://www.upwork.com/freelancers/_~01f2e9394...</td>\n",
       "      <td>0</td>\n",
       "      <td>4.896154</td>\n",
       "    </tr>\n",
       "    <tr>\n",
       "      <th>1</th>\n",
       "      <td>https://odesk-prod-portraits.s3.amazonaws.com/...</td>\n",
       "      <td>Data Science &amp; Analytics</td>\n",
       "      <td>Independent</td>\n",
       "      <td>PhD in Computer Science and Engineering</td>\n",
       "      <td>java--python--c++--html5--css3--sas--javascrip...</td>\n",
       "      <td>Italy</td>\n",
       "      <td>I live in Italy and I am a Ph.D. in Computer S...</td>\n",
       "      <td>Fabio Marfia</td>\n",
       "      <td>2017-02-10</td>\n",
       "      <td>20.00</td>\n",
       "      <td>January 27, 2017</td>\n",
       "      <td>1</td>\n",
       "      <td>https://www.upwork.com/freelancers/_~01141ac98...</td>\n",
       "      <td>1</td>\n",
       "      <td>5.000000</td>\n",
       "    </tr>\n",
       "    <tr>\n",
       "      <th>2</th>\n",
       "      <td>https://odesk-prod-portraits.s3.amazonaws.com/...</td>\n",
       "      <td>Data Science &amp; Analytics</td>\n",
       "      <td>Independent</td>\n",
       "      <td>Data entry specialist, IT Dekstop Analyst</td>\n",
       "      <td>data-entry--it-management--content-moderation-...</td>\n",
       "      <td>Macedonia</td>\n",
       "      <td>Microsoft certified IT professional, with thre...</td>\n",
       "      <td>bozhidar kjirkovikj</td>\n",
       "      <td>2017-02-19</td>\n",
       "      <td>10.00</td>\n",
       "      <td>November 1, 2015</td>\n",
       "      <td>0</td>\n",
       "      <td>https://www.upwork.com/freelancers/_~01b9f3063...</td>\n",
       "      <td>0</td>\n",
       "      <td>5.000000</td>\n",
       "    </tr>\n",
       "    <tr>\n",
       "      <th>3</th>\n",
       "      <td>https://odesk-prod-portraits.s3.amazonaws.com/...</td>\n",
       "      <td>Writing--Data Science &amp; Analytics</td>\n",
       "      <td>Independent</td>\n",
       "      <td>Writer, Data Entry and Analytics, Transcriptio...</td>\n",
       "      <td>-</td>\n",
       "      <td>United States</td>\n",
       "      <td>Undergraduate Education:Rutgers University, Sc...</td>\n",
       "      <td>Alexandra Nyman</td>\n",
       "      <td>2016-06-27</td>\n",
       "      <td>18.75</td>\n",
       "      <td>June 18, 2016</td>\n",
       "      <td>0</td>\n",
       "      <td>https://www.upwork.com/freelancers/_~016bfa9d3...</td>\n",
       "      <td>1</td>\n",
       "      <td>0.000000</td>\n",
       "    </tr>\n",
       "    <tr>\n",
       "      <th>4</th>\n",
       "      <td>https://odesk-prod-portraits.s3.amazonaws.com/...</td>\n",
       "      <td>Data Science &amp; Analytics--Web, Mobile &amp; Softwa...</td>\n",
       "      <td>Independent</td>\n",
       "      <td>SQL Server BI Architect / Developer</td>\n",
       "      <td>mysql--seo--ruby-on-rails--sql--microsoft-sql-...</td>\n",
       "      <td>United States</td>\n",
       "      <td>I am an experienced data warehouse architect, ...</td>\n",
       "      <td>Bradley W.</td>\n",
       "      <td>2015-08-25</td>\n",
       "      <td>33.33</td>\n",
       "      <td>December 2, 2008</td>\n",
       "      <td>0</td>\n",
       "      <td>https://www.upwork.com/freelancers/_~015ec6e58...</td>\n",
       "      <td>5</td>\n",
       "      <td>5.000000</td>\n",
       "    </tr>\n",
       "  </tbody>\n",
       "</table>\n",
       "</div>"
      ],
      "text/plain": [
       "                                         portrait_50  \\\n",
       "0  https://odesk-prod-portraits.s3.amazonaws.com/...   \n",
       "1  https://odesk-prod-portraits.s3.amazonaws.com/...   \n",
       "2  https://odesk-prod-portraits.s3.amazonaws.com/...   \n",
       "3  https://odesk-prod-portraits.s3.amazonaws.com/...   \n",
       "4  https://odesk-prod-portraits.s3.amazonaws.com/...   \n",
       "\n",
       "                                         categories2 profile_type  \\\n",
       "0                           Data Science & Analytics  Independent   \n",
       "1                           Data Science & Analytics  Independent   \n",
       "2                           Data Science & Analytics  Independent   \n",
       "3                  Writing--Data Science & Analytics  Independent   \n",
       "4  Data Science & Analytics--Web, Mobile & Softwa...  Independent   \n",
       "\n",
       "                                               title  \\\n",
       "0                                     Data scientist   \n",
       "1            PhD in Computer Science and Engineering   \n",
       "2          Data entry specialist, IT Dekstop Analyst   \n",
       "3  Writer, Data Entry and Analytics, Transcriptio...   \n",
       "4                SQL Server BI Architect / Developer   \n",
       "\n",
       "                                              skills        country  \\\n",
       "0  microsoft-excel--microsoft-word--internet-rese...          India   \n",
       "1  java--python--c++--html5--css3--sas--javascrip...          Italy   \n",
       "2  data-entry--it-management--content-moderation-...      Macedonia   \n",
       "3                                                  -  United States   \n",
       "4  mysql--seo--ruby-on-rails--sql--microsoft-sql-...  United States   \n",
       "\n",
       "                                         description                 name  \\\n",
       "0  I have experience handling large data tables. ...     Dattatray Kendre   \n",
       "1  I live in Italy and I am a Ph.D. in Computer S...         Fabio Marfia   \n",
       "2  Microsoft certified IT professional, with thre...  bozhidar kjirkovikj   \n",
       "3  Undergraduate Education:Rutgers University, Sc...      Alexandra Nyman   \n",
       "4  I am an experienced data warehouse architect, ...           Bradley W.   \n",
       "\n",
       "  last_activity   rate      member_since  portfolio_items_count  \\\n",
       "0    2017-02-16   5.00  October 25, 2016                      1   \n",
       "1    2017-02-10  20.00  January 27, 2017                      1   \n",
       "2    2017-02-19  10.00  November 1, 2015                      0   \n",
       "3    2016-06-27  18.75     June 18, 2016                      0   \n",
       "4    2015-08-25  33.33  December 2, 2008                      0   \n",
       "\n",
       "                                                  id  test_passed_count  \\\n",
       "0  https://www.upwork.com/freelancers/_~01f2e9394...                  0   \n",
       "1  https://www.upwork.com/freelancers/_~01141ac98...                  1   \n",
       "2  https://www.upwork.com/freelancers/_~01b9f3063...                  0   \n",
       "3  https://www.upwork.com/freelancers/_~016bfa9d3...                  1   \n",
       "4  https://www.upwork.com/freelancers/_~015ec6e58...                  5   \n",
       "\n",
       "   feedback  \n",
       "0  4.896154  \n",
       "1  5.000000  \n",
       "2  5.000000  \n",
       "3  0.000000  \n",
       "4  5.000000  "
      ]
     },
     "execution_count": 345,
     "metadata": {},
     "output_type": "execute_result"
    }
   ],
   "source": [
    "df2.head()"
   ]
  },
  {
   "cell_type": "code",
   "execution_count": 302,
   "metadata": {
    "collapsed": false
   },
   "outputs": [
    {
     "data": {
      "text/plain": [
       "Series([], Name: last_activity, dtype: object)"
      ]
     },
     "execution_count": 302,
     "metadata": {},
     "output_type": "execute_result"
    }
   ],
   "source": [
    "df['last_activity']"
   ]
  },
  {
   "cell_type": "code",
   "execution_count": 343,
   "metadata": {
    "collapsed": false
   },
   "outputs": [],
   "source": [
    "df2['last_activity']=pd.to_datetime(df2.last_activity)"
   ]
  },
  {
   "cell_type": "code",
   "execution_count": 344,
   "metadata": {
    "collapsed": false
   },
   "outputs": [
    {
     "data": {
      "text/plain": [
       "(4141, 15)"
      ]
     },
     "execution_count": 344,
     "metadata": {},
     "output_type": "execute_result"
    }
   ],
   "source": [
    "df2[df2.last_activity>'2017-02-02'].shape"
   ]
  },
  {
   "cell_type": "code",
   "execution_count": 346,
   "metadata": {
    "collapsed": true
   },
   "outputs": [],
   "source": [
    "df3=df2[df2.last_activity>'2017-02-02']"
   ]
  },
  {
   "cell_type": "code",
   "execution_count": 347,
   "metadata": {
    "collapsed": false
   },
   "outputs": [],
   "source": [
    "df4=df3[(df3.rate>=10) & (df3.rate<=30)]"
   ]
  },
  {
   "cell_type": "code",
   "execution_count": 348,
   "metadata": {
    "collapsed": false
   },
   "outputs": [
    {
     "data": {
      "text/plain": [
       "(2597, 15)"
      ]
     },
     "execution_count": 348,
     "metadata": {},
     "output_type": "execute_result"
    }
   ],
   "source": [
    "df4.shape"
   ]
  },
  {
   "cell_type": "code",
   "execution_count": 349,
   "metadata": {
    "collapsed": true
   },
   "outputs": [],
   "source": [
    "df4.to_csv(\"RecentActivity_Large.csv\")"
   ]
  },
  {
   "cell_type": "code",
   "execution_count": 323,
   "metadata": {
    "collapsed": false
   },
   "outputs": [],
   "source": [
    "i=400\n",
    "sample=df4.sample(i)\n",
    "sample.to_csv(\"2_24_sampele_\"+str(i)+\".csv\")"
   ]
  },
  {
   "cell_type": "markdown",
   "metadata": {},
   "source": [
    "# Testing Dataframes\n"
   ]
  },
  {
   "cell_type": "code",
   "execution_count": 325,
   "metadata": {
    "collapsed": false
   },
   "outputs": [],
   "source": [
    "data = {'name': ['Jason', 'Molly', 'Tina', 'Jake', 'Amy'], \n",
    "        'year': [2012, 2012, 2013, 2014, 2014], \n",
    "        'reports': [4, 24, 31, 2, 3]}\n",
    "dframe = pd.DataFrame(data, index = ['Cochice', 'Pima', 'Santa Cruz', 'Maricopa', 'Yuma'])"
   ]
  },
  {
   "cell_type": "code",
   "execution_count": 327,
   "metadata": {
    "collapsed": false
   },
   "outputs": [
    {
     "ename": "KeyError",
     "evalue": "0",
     "traceback": [
      "\u001b[0;31m---------------------------------------------------------------------------\u001b[0m",
      "\u001b[0;31mKeyError\u001b[0m                                  Traceback (most recent call last)",
      "\u001b[0;32m<ipython-input-327-6047d18ac484>\u001b[0m in \u001b[0;36m<module>\u001b[0;34m()\u001b[0m\n\u001b[0;32m----> 1\u001b[0;31m \u001b[0mdframe\u001b[0m\u001b[1;33m.\u001b[0m\u001b[0mindex\u001b[0m\u001b[1;33m.\u001b[0m\u001b[0mget_loc\u001b[0m\u001b[1;33m(\u001b[0m\u001b[0mdf\u001b[0m\u001b[1;33m.\u001b[0m\u001b[0miloc\u001b[0m\u001b[1;33m[\u001b[0m\u001b[1;36m0\u001b[0m\u001b[1;33m]\u001b[0m\u001b[1;33m.\u001b[0m\u001b[0mname\u001b[0m\u001b[1;33m)\u001b[0m\u001b[1;33m\u001b[0m\u001b[0m\n\u001b[0m",
      "\u001b[0;32mC:\\Users\\amac\\Anaconda3\\envs\\py27\\lib\\site-packages\\pandas\\core\\index.pyc\u001b[0m in \u001b[0;36mget_loc\u001b[0;34m(self, key, method, tolerance)\u001b[0m\n\u001b[1;32m   1690\u001b[0m                 raise ValueError('tolerance argument only valid if using pad, '\n\u001b[1;32m   1691\u001b[0m                                  'backfill or nearest lookups')\n\u001b[0;32m-> 1692\u001b[0;31m             \u001b[1;32mreturn\u001b[0m \u001b[0mself\u001b[0m\u001b[1;33m.\u001b[0m\u001b[0m_engine\u001b[0m\u001b[1;33m.\u001b[0m\u001b[0mget_loc\u001b[0m\u001b[1;33m(\u001b[0m\u001b[0m_values_from_object\u001b[0m\u001b[1;33m(\u001b[0m\u001b[0mkey\u001b[0m\u001b[1;33m)\u001b[0m\u001b[1;33m)\u001b[0m\u001b[1;33m\u001b[0m\u001b[0m\n\u001b[0m\u001b[1;32m   1693\u001b[0m \u001b[1;33m\u001b[0m\u001b[0m\n\u001b[1;32m   1694\u001b[0m         indexer = self.get_indexer([key], method=method,\n",
      "\u001b[0;32mpandas\\index.pyx\u001b[0m in \u001b[0;36mpandas.index.IndexEngine.get_loc (pandas\\index.c:3979)\u001b[0;34m()\u001b[0m\n",
      "\u001b[0;32mpandas\\index.pyx\u001b[0m in \u001b[0;36mpandas.index.IndexEngine.get_loc (pandas\\index.c:3843)\u001b[0;34m()\u001b[0m\n",
      "\u001b[0;32mpandas\\hashtable.pyx\u001b[0m in \u001b[0;36mpandas.hashtable.PyObjectHashTable.get_item (pandas\\hashtable.c:12265)\u001b[0;34m()\u001b[0m\n",
      "\u001b[0;32mpandas\\hashtable.pyx\u001b[0m in \u001b[0;36mpandas.hashtable.PyObjectHashTable.get_item (pandas\\hashtable.c:12216)\u001b[0;34m()\u001b[0m\n",
      "\u001b[0;31mKeyError\u001b[0m: 0"
     ],
     "output_type": "error"
    }
   ],
   "source": [
    "dframe.index.get_loc(df.iloc[0].name)"
   ]
  },
  {
   "cell_type": "code",
   "execution_count": 328,
   "metadata": {
    "collapsed": false
   },
   "outputs": [
    {
     "data": {
      "text/html": [
       "<div>\n",
       "<table border=\"1\" class=\"dataframe\">\n",
       "  <thead>\n",
       "    <tr style=\"text-align: right;\">\n",
       "      <th></th>\n",
       "      <th>name</th>\n",
       "      <th>reports</th>\n",
       "      <th>year</th>\n",
       "    </tr>\n",
       "  </thead>\n",
       "  <tbody>\n",
       "    <tr>\n",
       "      <th>Cochice</th>\n",
       "      <td>Jason</td>\n",
       "      <td>4</td>\n",
       "      <td>2012</td>\n",
       "    </tr>\n",
       "    <tr>\n",
       "      <th>Pima</th>\n",
       "      <td>Molly</td>\n",
       "      <td>24</td>\n",
       "      <td>2012</td>\n",
       "    </tr>\n",
       "    <tr>\n",
       "      <th>Santa Cruz</th>\n",
       "      <td>Tina</td>\n",
       "      <td>31</td>\n",
       "      <td>2013</td>\n",
       "    </tr>\n",
       "    <tr>\n",
       "      <th>Maricopa</th>\n",
       "      <td>Jake</td>\n",
       "      <td>2</td>\n",
       "      <td>2014</td>\n",
       "    </tr>\n",
       "    <tr>\n",
       "      <th>Yuma</th>\n",
       "      <td>Amy</td>\n",
       "      <td>3</td>\n",
       "      <td>2014</td>\n",
       "    </tr>\n",
       "  </tbody>\n",
       "</table>\n",
       "</div>"
      ],
      "text/plain": [
       "             name  reports  year\n",
       "Cochice     Jason        4  2012\n",
       "Pima        Molly       24  2012\n",
       "Santa Cruz   Tina       31  2013\n",
       "Maricopa     Jake        2  2014\n",
       "Yuma          Amy        3  2014"
      ]
     },
     "execution_count": 328,
     "metadata": {},
     "output_type": "execute_result"
    }
   ],
   "source": [
    "dframe"
   ]
  },
  {
   "cell_type": "code",
   "execution_count": 252,
   "metadata": {
    "collapsed": false
   },
   "outputs": [
    {
     "data": {
      "text/html": [
       "<div>\n",
       "<table border=\"1\" class=\"dataframe\">\n",
       "  <thead>\n",
       "    <tr style=\"text-align: right;\">\n",
       "      <th></th>\n",
       "      <th>name</th>\n",
       "      <th>reports</th>\n",
       "      <th>year</th>\n",
       "    </tr>\n",
       "  </thead>\n",
       "  <tbody>\n",
       "    <tr>\n",
       "      <th>Santa Cruz</th>\n",
       "      <td>Tina</td>\n",
       "      <td>31</td>\n",
       "      <td>2013</td>\n",
       "    </tr>\n",
       "    <tr>\n",
       "      <th>Maricopa</th>\n",
       "      <td>Jake</td>\n",
       "      <td>2</td>\n",
       "      <td>2014</td>\n",
       "    </tr>\n",
       "    <tr>\n",
       "      <th>Yuma</th>\n",
       "      <td>Amy</td>\n",
       "      <td>3</td>\n",
       "      <td>2014</td>\n",
       "    </tr>\n",
       "  </tbody>\n",
       "</table>\n",
       "</div>"
      ],
      "text/plain": [
       "            name  reports  year\n",
       "Santa Cruz  Tina       31  2013\n",
       "Maricopa    Jake        2  2014\n",
       "Yuma         Amy        3  2014"
      ]
     },
     "execution_count": 252,
     "metadata": {},
     "output_type": "execute_result"
    }
   ],
   "source": [
    "df.drop(df.index[[0,1]])"
   ]
  },
  {
   "cell_type": "code",
   "execution_count": 254,
   "metadata": {
    "collapsed": false
   },
   "outputs": [
    {
     "data": {
      "text/html": [
       "<div>\n",
       "<table border=\"1\" class=\"dataframe\">\n",
       "  <thead>\n",
       "    <tr style=\"text-align: right;\">\n",
       "      <th></th>\n",
       "      <th>name</th>\n",
       "      <th>reports</th>\n",
       "      <th>year</th>\n",
       "    </tr>\n",
       "  </thead>\n",
       "  <tbody>\n",
       "    <tr>\n",
       "      <th>Cochice</th>\n",
       "      <td>Jason</td>\n",
       "      <td>4</td>\n",
       "      <td>2012</td>\n",
       "    </tr>\n",
       "    <tr>\n",
       "      <th>Pima</th>\n",
       "      <td>Molly</td>\n",
       "      <td>24</td>\n",
       "      <td>2012</td>\n",
       "    </tr>\n",
       "    <tr>\n",
       "      <th>Santa Cruz</th>\n",
       "      <td>Tina</td>\n",
       "      <td>31</td>\n",
       "      <td>2013</td>\n",
       "    </tr>\n",
       "  </tbody>\n",
       "</table>\n",
       "</div>"
      ],
      "text/plain": [
       "             name  reports  year\n",
       "Cochice     Jason        4  2012\n",
       "Pima        Molly       24  2012\n",
       "Santa Cruz   Tina       31  2013"
      ]
     },
     "execution_count": 254,
     "metadata": {},
     "output_type": "execute_result"
    }
   ],
   "source": [
    "df.drop(['Maricopa', 'Yuma'])"
   ]
  },
  {
   "cell_type": "code",
   "execution_count": 281,
   "metadata": {
    "collapsed": true
   },
   "outputs": [],
   "source": [
    "df['new']=''"
   ]
  },
  {
   "cell_type": "code",
   "execution_count": 282,
   "metadata": {
    "collapsed": false
   },
   "outputs": [],
   "source": [
    "df.loc[\"Cochice\",'new']=1"
   ]
  },
  {
   "cell_type": "code",
   "execution_count": 283,
   "metadata": {
    "collapsed": false
   },
   "outputs": [
    {
     "data": {
      "text/html": [
       "<div>\n",
       "<table border=\"1\" class=\"dataframe\">\n",
       "  <thead>\n",
       "    <tr style=\"text-align: right;\">\n",
       "      <th></th>\n",
       "      <th>name</th>\n",
       "      <th>reports</th>\n",
       "      <th>year</th>\n",
       "      <th>new</th>\n",
       "    </tr>\n",
       "  </thead>\n",
       "  <tbody>\n",
       "    <tr>\n",
       "      <th>Cochice</th>\n",
       "      <td>Jason</td>\n",
       "      <td>4</td>\n",
       "      <td>2012</td>\n",
       "      <td>1</td>\n",
       "    </tr>\n",
       "    <tr>\n",
       "      <th>Pima</th>\n",
       "      <td>Molly</td>\n",
       "      <td>24</td>\n",
       "      <td>2012</td>\n",
       "      <td></td>\n",
       "    </tr>\n",
       "    <tr>\n",
       "      <th>Santa Cruz</th>\n",
       "      <td>Tina</td>\n",
       "      <td>31</td>\n",
       "      <td>2013</td>\n",
       "      <td></td>\n",
       "    </tr>\n",
       "    <tr>\n",
       "      <th>Maricopa</th>\n",
       "      <td>Jake</td>\n",
       "      <td>2</td>\n",
       "      <td>2014</td>\n",
       "      <td></td>\n",
       "    </tr>\n",
       "    <tr>\n",
       "      <th>Yuma</th>\n",
       "      <td>Amy</td>\n",
       "      <td>3</td>\n",
       "      <td>2014</td>\n",
       "      <td></td>\n",
       "    </tr>\n",
       "    <tr>\n",
       "      <th>new</th>\n",
       "      <td>1</td>\n",
       "      <td>1</td>\n",
       "      <td>1</td>\n",
       "      <td></td>\n",
       "    </tr>\n",
       "  </tbody>\n",
       "</table>\n",
       "</div>"
      ],
      "text/plain": [
       "             name  reports  year new\n",
       "Cochice     Jason        4  2012   1\n",
       "Pima        Molly       24  2012    \n",
       "Santa Cruz   Tina       31  2013    \n",
       "Maricopa     Jake        2  2014    \n",
       "Yuma          Amy        3  2014    \n",
       "new             1        1     1    "
      ]
     },
     "execution_count": 283,
     "metadata": {},
     "output_type": "execute_result"
    }
   ],
   "source": [
    "df"
   ]
  },
  {
   "cell_type": "code",
   "execution_count": 263,
   "metadata": {
    "collapsed": false
   },
   "outputs": [
    {
     "data": {
      "text/plain": [
       "',portrait_50,categories2,profile_type,title,skills,country,description,name,last_activity,rate,member_since,portfolio_items_count,id,test_passed_count,feedback\\n'"
      ]
     },
     "execution_count": 263,
     "metadata": {},
     "output_type": "execute_result"
    }
   ],
   "source": [
    "file=r\"C:\\Users\\amac\\Documents\\Development\\0117-DaiAnalysis\\Upwork\\2_25_sampele_10.csv\"\n",
    "readfile=open(file,'r')\n",
    "readfile.readline()"
   ]
  },
  {
   "cell_type": "code",
   "execution_count": 264,
   "metadata": {
    "collapsed": false
   },
   "outputs": [
    {
     "data": {
      "text/plain": [
       "'343,https://odesk-prod-portraits.s3.amazonaws.com/Users:writing_4_scrapz:PortraitUrl_50?AWSAccessKeyId=1XVAX3FNQZAFC9GJCFR2&Expires=2147483647&Signature=%2FqlFtGoPkrg299sAcugvZ3IoMec%3D&1459631229497367,Writing,Independent,Your ideas ... realized,academic-writing--copy-editing--content-writing--seo-keyword-research--creative-writing--research-papers--article-writing--ghostwriting--sports-writing--social-media-management,United States,\"Paper Cuts provides superior writing services at an affordable price.  A solo operation, I pride myself on giving my clients the personal attention that other larger service providers cannot.  I am dedicated to meeting deadlines and expectations, and always give my clients the type of service that I would expect to receive myself.\",Paper Cuts,2017-02-24,14.0,\"July 12, 2007\",19,https://www.upwork.com/freelancers/_~016326f4b433ba31ca,1,4.7476995938\\n'"
      ]
     },
     "execution_count": 264,
     "metadata": {},
     "output_type": "execute_result"
    }
   ],
   "source": [
    "readfile.readline()"
   ]
  },
  {
   "cell_type": "code",
   "execution_count": 265,
   "metadata": {
    "collapsed": true
   },
   "outputs": [],
   "source": [
    "import csv\n",
    "with open(file, mode='r') as infile:\n",
    "    reader = csv.reader(infile)\n",
    "    mydict = {rows[0]:rows[1] for rows in reader}"
   ]
  },
  {
   "cell_type": "code",
   "execution_count": 270,
   "metadata": {
    "collapsed": false
   },
   "outputs": [],
   "source": [
    "reader = csv.DictReader(open(file, 'rb'))\n",
    "dict_list = []\n",
    "for line in reader:\n",
    "    dict_list.append(line)"
   ]
  },
  {
   "cell_type": "code",
   "execution_count": 272,
   "metadata": {
    "collapsed": false
   },
   "outputs": [
    {
     "data": {
      "text/plain": [
       "{'': '343',\n",
       " 'categories2': 'Writing',\n",
       " 'country': 'United States',\n",
       " 'description': 'Paper Cuts provides superior writing services at an affordable price.  A solo operation, I pride myself on giving my clients the personal attention that other larger service providers cannot.  I am dedicated to meeting deadlines and expectations, and always give my clients the type of service that I would expect to receive myself.',\n",
       " 'feedback': '4.7476995938',\n",
       " 'id': 'https://www.upwork.com/freelancers/_~016326f4b433ba31ca',\n",
       " 'last_activity': '2017-02-24',\n",
       " 'member_since': 'July 12, 2007',\n",
       " 'name': 'Paper Cuts',\n",
       " 'portfolio_items_count': '19',\n",
       " 'portrait_50': 'https://odesk-prod-portraits.s3.amazonaws.com/Users:writing_4_scrapz:PortraitUrl_50?AWSAccessKeyId=1XVAX3FNQZAFC9GJCFR2&Expires=2147483647&Signature=%2FqlFtGoPkrg299sAcugvZ3IoMec%3D&1459631229497367',\n",
       " 'profile_type': 'Independent',\n",
       " 'rate': '14.0',\n",
       " 'skills': 'academic-writing--copy-editing--content-writing--seo-keyword-research--creative-writing--research-papers--article-writing--ghostwriting--sports-writing--social-media-management',\n",
       " 'test_passed_count': '1',\n",
       " 'title': 'Your ideas ... realized'}"
      ]
     },
     "execution_count": 272,
     "metadata": {},
     "output_type": "execute_result"
    }
   ],
   "source": [
    "dict_list[0]"
   ]
  },
  {
   "cell_type": "code",
   "execution_count": null,
   "metadata": {
    "collapsed": true
   },
   "outputs": [],
   "source": [
    ""
   ]
  }
 ],
 "metadata": {
  "anaconda-cloud": {},
  "kernelspec": {
   "display_name": "Python [conda env:py27]",
   "language": "python",
   "name": "conda-env-py27-py"
  },
  "language_info": {
   "codemirror_mode": {
    "name": "ipython",
    "version": 2.0
   },
   "file_extension": ".py",
   "mimetype": "text/x-python",
   "name": "python",
   "nbconvert_exporter": "python",
   "pygments_lexer": "ipython2",
   "version": "2.7.13"
  }
 },
 "nbformat": 4,
 "nbformat_minor": 0
}