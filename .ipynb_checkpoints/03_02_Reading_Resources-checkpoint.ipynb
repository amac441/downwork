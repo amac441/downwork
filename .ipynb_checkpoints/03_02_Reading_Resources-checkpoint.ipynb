{
 "cells": [
  {
   "cell_type": "code",
   "execution_count": 3,
   "metadata": {
    "collapsed": true
   },
   "outputs": [],
   "source": [
    "import pandas as pd\n",
    "from MutiprocessDataframe import callfunction\n",
    "import numpy as np"
   ]
  },
  {
   "cell_type": "code",
   "execution_count": 9,
   "metadata": {
    "collapsed": false
   },
   "outputs": [
    {
     "name": "stdout",
     "output_type": "stream",
     "text": [
      "Calling MultiProcess\n"
     ]
    },
    {
     "data": {
      "text/plain": [
       "(417436, 16)"
      ]
     },
     "execution_count": 9,
     "metadata": {},
     "output_type": "execute_result"
    }
   ],
   "source": [
    "basefolder=r'C:\\Users\\amac\\Documents\\Development\\0117-DaiAnalysis\\Upwork\\api'\n",
    "print (\"Calling MultiProcess\")\n",
    "resourceslist = callfunction(basefolder)\n",
    "resourceslist.shape"
   ]
  },
  {
   "cell_type": "code",
   "execution_count": null,
   "metadata": {
    "collapsed": true
   },
   "outputs": [],
   "source": [
    ""
   ]
  },
  {
   "cell_type": "code",
   "execution_count": 10,
   "metadata": {
    "collapsed": false
   },
   "outputs": [],
   "source": [
    "#READING PANDAS\n",
    "# csvname='upworkResourceCSV_10k'\n",
    "# dfsample = pd.read_csv(csvname+'.csv',delimiter=\";\")\n",
    "# dfsample.shape"
   ]
  },
  {
   "cell_type": "code",
   "execution_count": 11,
   "metadata": {
    "collapsed": false
   },
   "outputs": [],
   "source": [
    "# sample=dfsample.sample(20)\n",
    "# sample.head()"
   ]
  },
  {
   "cell_type": "code",
   "execution_count": 16,
   "metadata": {
    "collapsed": false
   },
   "outputs": [
    {
     "name": "stdout",
     "output_type": "stream",
     "text": [
      "(63337, 16)\n",
      "(354099, 16)\n"
     ]
    },
    {
     "ename": "NameError",
     "evalue": "name 'np' is not defined",
     "traceback": [
      "\u001b[0;31m---------------------------------------------------------------------------\u001b[0m",
      "\u001b[0;31mNameError\u001b[0m                                 Traceback (most recent call last)",
      "\u001b[0;32m<ipython-input-16-10bdc43d5b33>\u001b[0m in \u001b[0;36m<module>\u001b[0;34m()\u001b[0m\n\u001b[1;32m      2\u001b[0m \u001b[0mdf2\u001b[0m\u001b[1;33m=\u001b[0m\u001b[0mresourceslist\u001b[0m\u001b[1;33m.\u001b[0m\u001b[0mdrop_duplicates\u001b[0m\u001b[1;33m(\u001b[0m\u001b[1;33m)\u001b[0m\u001b[1;33m\u001b[0m\u001b[0m\n\u001b[1;32m      3\u001b[0m \u001b[0mprint\u001b[0m\u001b[1;33m(\u001b[0m\u001b[0mdf2\u001b[0m\u001b[1;33m.\u001b[0m\u001b[0mshape\u001b[0m\u001b[1;33m)\u001b[0m\u001b[1;33m\u001b[0m\u001b[0m\n\u001b[0;32m----> 4\u001b[0;31m \u001b[0mdf2\u001b[0m\u001b[1;33m=\u001b[0m\u001b[0mdf2\u001b[0m\u001b[1;33m.\u001b[0m\u001b[0mreplace\u001b[0m\u001b[1;33m(\u001b[0m\u001b[1;34m\"-\"\u001b[0m\u001b[1;33m,\u001b[0m\u001b[0mnp\u001b[0m\u001b[1;33m.\u001b[0m\u001b[0mnan\u001b[0m\u001b[1;33m)\u001b[0m\u001b[1;33m\u001b[0m\u001b[0m\n\u001b[0m",
      "\u001b[0;31mNameError\u001b[0m: name 'np' is not defined"
     ],
     "output_type": "error"
    }
   ],
   "source": [
    "print(resourceslist[resourceslist.duplicated()].shape)\n",
    "df2=resourceslist.drop_duplicates()\n",
    "print(df2.shape)"
   ]
  },
  {
   "cell_type": "code",
   "execution_count": 30,
   "metadata": {
    "collapsed": false
   },
   "outputs": [
    {
     "data": {
      "text/plain": [
       "0                        NaN\n",
       "1          February 26, 2017\n",
       "2              March 1, 2017\n",
       "3              March 1, 2017\n",
       "4              March 2, 2017\n",
       "5              March 1, 2017\n",
       "6              March 2, 2017\n",
       "7          February 27, 2017\n",
       "8          February 27, 2017\n",
       "9          February 28, 2017\n",
       "10         February 28, 2017\n",
       "11             March 2, 2017\n",
       "12         February 25, 2017\n",
       "13             March 1, 2017\n",
       "14             March 1, 2017\n",
       "15         February 27, 2017\n",
       "16             March 1, 2017\n",
       "17             March 1, 2017\n",
       "18         February 27, 2017\n",
       "19         February 28, 2017\n",
       "20             March 1, 2017\n",
       "21             March 2, 2017\n",
       "22         February 25, 2017\n",
       "23             March 2, 2017\n",
       "24         February 18, 2017\n",
       "25             March 2, 2017\n",
       "26             March 1, 2017\n",
       "27         February 24, 2017\n",
       "28         February 27, 2017\n",
       "29         February 21, 2017\n",
       "                 ...        \n",
       "417286       January 6, 2016\n",
       "417287          July 8, 2015\n",
       "417289      November 9, 2015\n",
       "417290     February 26, 2015\n",
       "417291        March 21, 2016\n",
       "417292     February 25, 2016\n",
       "417293      October 19, 2013\n",
       "417294      February 8, 2016\n",
       "417295         July 12, 2016\n",
       "417307      October 21, 2014\n",
       "417317       August 29, 2016\n",
       "417319       January 7, 2015\n",
       "417324    September 26, 2016\n",
       "417325     February 15, 2016\n",
       "417326     November 15, 2014\n",
       "417343          May 11, 2014\n",
       "417344     February 27, 2014\n",
       "417354      December 4, 2016\n",
       "417358          May 31, 2016\n",
       "417372    September 21, 2016\n",
       "417376       August 13, 2015\n",
       "417377         April 5, 2016\n",
       "417378         July 14, 2016\n",
       "417379      January 19, 2016\n",
       "417380      January 16, 2016\n",
       "417397       August 26, 2016\n",
       "417398      December 4, 2015\n",
       "417427    September 22, 2015\n",
       "417431     November 22, 2015\n",
       "417433     November 16, 2016\n",
       "Name: last_activity, dtype: object"
      ]
     },
     "execution_count": 30,
     "metadata": {},
     "output_type": "execute_result"
    }
   ],
   "source": [
    "df2=df2.replace(\"-\",np.nan)\n",
    "df2=df2.replace(\"0\",np.nan)\n",
    "df2=df2.replace(\"2\",np.nan)\n",
    "df2['last_activity']"
   ]
  },
  {
   "cell_type": "code",
   "execution_count": 31,
   "metadata": {
    "collapsed": false
   },
   "outputs": [],
   "source": [
    "df2['last_activity']=pd.to_datetime(df2.last_activity,format=\"%B %d, %Y\")"
   ]
  },
  {
   "cell_type": "code",
   "execution_count": 33,
   "metadata": {
    "collapsed": false
   },
   "outputs": [],
   "source": [
    "df3=df2[df2.last_activity>'2017-02-14']"
   ]
  },
  {
   "cell_type": "code",
   "execution_count": 37,
   "metadata": {
    "collapsed": false
   },
   "outputs": [
    {
     "name": "stderr",
     "output_type": "stream",
     "text": [
      "C:\\Users\\amac\\Anaconda3\\lib\\site-packages\\ipykernel\\__main__.py:1: SettingWithCopyWarning: \n",
      "A value is trying to be set on a copy of a slice from a DataFrame.\n",
      "Try using .loc[row_indexer,col_indexer] = value instead\n",
      "\n",
      "See the caveats in the documentation: http://pandas.pydata.org/pandas-docs/stable/indexing.html#indexing-view-versus-copy\n",
      "  if __name__ == '__main__':\n"
     ]
    },
    {
     "data": {
      "text/plain": [
       "portrait_50                      object\n",
       "categories2                      object\n",
       "profile_type                     object\n",
       "title                            object\n",
       "skills                           object\n",
       "country                          object\n",
       "description                      object\n",
       "name                             object\n",
       "last_activity            datetime64[ns]\n",
       "rate                            float64\n",
       "member_since                     object\n",
       "portfolio_items_count            object\n",
       "id                               object\n",
       "test_passed_count                object\n",
       "feedback                         object\n",
       "filename                         object\n",
       "dtype: object"
      ]
     },
     "execution_count": 37,
     "metadata": {},
     "output_type": "execute_result"
    }
   ],
   "source": [
    "df3['rate']=df3.rate.astype('float')\n",
    "df3.dtypes"
   ]
  },
  {
   "cell_type": "code",
   "execution_count": 46,
   "metadata": {
    "collapsed": false
   },
   "outputs": [
    {
     "data": {
      "text/plain": [
       "(17516, 16)"
      ]
     },
     "execution_count": 46,
     "metadata": {},
     "output_type": "execute_result"
    }
   ],
   "source": [
    "df4=df3[(df3.rate>=10) & (df3.rate<=30)].copy()\n",
    "df4.shape"
   ]
  },
  {
   "cell_type": "code",
   "execution_count": 63,
   "metadata": {
    "collapsed": true
   },
   "outputs": [],
   "source": [
    "#merge in used accounts\n",
    "used1=r'2_24_sampele_75.csv'\n",
    "used2=r'pretest_09-2.csv'\n",
    "used1 = pd.read_csv(used1)\n",
    "used2 = pd.read_csv(used2)"
   ]
  },
  {
   "cell_type": "code",
   "execution_count": 64,
   "metadata": {
    "collapsed": false
   },
   "outputs": [
    {
     "data": {
      "text/plain": [
       "(25, 2)"
      ]
     },
     "execution_count": 64,
     "metadata": {},
     "output_type": "execute_result"
    }
   ],
   "source": [
    "used2.shape"
   ]
  },
  {
   "cell_type": "code",
   "execution_count": 66,
   "metadata": {
    "collapsed": false
   },
   "outputs": [],
   "source": [
    "used1['alreadyMessaged']=\"T\"\n",
    "used2['alreadyMessaged']=\"T\""
   ]
  },
  {
   "cell_type": "code",
   "execution_count": 67,
   "metadata": {
    "collapsed": false
   },
   "outputs": [],
   "source": [
    "url1=used1[['id','alreadyMessaged']]\n",
    "url2=used2[['id','alreadyMessaged']]\n",
    "url3=url1.append(url2)"
   ]
  },
  {
   "cell_type": "code",
   "execution_count": 68,
   "metadata": {
    "collapsed": false
   },
   "outputs": [
    {
     "data": {
      "text/plain": [
       "(102, 2)"
      ]
     },
     "execution_count": 68,
     "metadata": {},
     "output_type": "execute_result"
    }
   ],
   "source": [
    "url3.shape"
   ]
  },
  {
   "cell_type": "code",
   "execution_count": 69,
   "metadata": {
    "collapsed": true
   },
   "outputs": [],
   "source": [
    "df5=df4.merge(url3,on=['id'],how=\"left\")"
   ]
  },
  {
   "cell_type": "code",
   "execution_count": 73,
   "metadata": {
    "collapsed": false
   },
   "outputs": [
    {
     "data": {
      "text/plain": [
       "(52, 17)"
      ]
     },
     "execution_count": 73,
     "metadata": {},
     "output_type": "execute_result"
    }
   ],
   "source": [
    "df5[df5.alreadyMessaged=='T'].shape"
   ]
  },
  {
   "cell_type": "code",
   "execution_count": 74,
   "metadata": {
    "collapsed": true
   },
   "outputs": [],
   "source": [
    "df5.to_csv(\"All_Writers_18k.csv\")"
   ]
  },
  {
   "cell_type": "code",
   "execution_count": 76,
   "metadata": {
    "collapsed": true
   },
   "outputs": [],
   "source": [
    "i=350\n",
    "sample=df5.sample(i)\n",
    "sample.to_csv(\"3_02_sampele_\"+str(i)+\".csv\")"
   ]
  },
  {
   "cell_type": "code",
   "execution_count": 4,
   "metadata": {
    "collapsed": false
   },
   "outputs": [
    {
     "name": "stdout",
     "output_type": "stream",
     "text": [
      "Calling MultiProcess\n"
     ]
    },
    {
     "data": {
      "text/plain": [
       "(325, 32)"
      ]
     },
     "execution_count": 4,
     "metadata": {},
     "output_type": "execute_result"
    }
   ],
   "source": [
    "basefolder=r'C:\\Users\\amac\\Documents\\GoogleDrive\\Washu\\01-17-Dai\\Upwork\\UpworkShared\\Batch1\\Batch1results'\n",
    "print (\"Calling MultiProcess\")\n",
    "resourceslist = callfunction(basefolder)\n",
    "resourceslist.shape"
   ]
  },
  {
   "cell_type": "code",
   "execution_count": 26,
   "metadata": {
    "collapsed": false
   },
   "outputs": [
    {
     "data": {
      "text/html": [
       "<div>\n",
       "<table border=\"1\" class=\"dataframe\">\n",
       "  <thead>\n",
       "    <tr style=\"text-align: right;\">\n",
       "      <th></th>\n",
       "      <th>Unnamed: 0</th>\n",
       "      <th>Unnamed: 0.1</th>\n",
       "      <th>[.ShellClassInfo]</th>\n",
       "      <th>accolade</th>\n",
       "      <th>alreadyMessaged</th>\n",
       "      <th>api_rate</th>\n",
       "      <th>availability</th>\n",
       "      <th>categories2</th>\n",
       "      <th>country</th>\n",
       "      <th>description</th>\n",
       "      <th>...</th>\n",
       "      <th>portfolio_items_count</th>\n",
       "      <th>portrait_50</th>\n",
       "      <th>profile_type</th>\n",
       "      <th>scraped_rate</th>\n",
       "      <th>skills</th>\n",
       "      <th>success</th>\n",
       "      <th>test_passed_count</th>\n",
       "      <th>title</th>\n",
       "      <th>total_hours</th>\n",
       "      <th>worked</th>\n",
       "    </tr>\n",
       "  </thead>\n",
       "  <tbody>\n",
       "    <tr>\n",
       "      <th>323</th>\n",
       "      <td>148.0</td>\n",
       "      <td>2486.0</td>\n",
       "      <td>NaN</td>\n",
       "      <td>NaN</td>\n",
       "      <td>NaN</td>\n",
       "      <td>23.33</td>\n",
       "      <td>AvailableLess than 30 hrs/weekAvailableLess th...</td>\n",
       "      <td>Writing</td>\n",
       "      <td>Serbia</td>\n",
       "      <td>In love with writing and psychology. Having an...</td>\n",
       "      <td>...</td>\n",
       "      <td>3.0</td>\n",
       "      <td>https://odesk-prod-portraits.s3.amazonaws.com/...</td>\n",
       "      <td>Independent</td>\n",
       "      <td>$23.33</td>\n",
       "      <td>counseling-psychology--academic-writing--human...</td>\n",
       "      <td>88% Job Success</td>\n",
       "      <td>NaN</td>\n",
       "      <td>Psychologist &amp; Writer</td>\n",
       "      <td>4.0</td>\n",
       "      <td>4</td>\n",
       "    </tr>\n",
       "    <tr>\n",
       "      <th>324</th>\n",
       "      <td>149.0</td>\n",
       "      <td>1591.0</td>\n",
       "      <td>NaN</td>\n",
       "      <td>NaN</td>\n",
       "      <td>NaN</td>\n",
       "      <td>12.50</td>\n",
       "      <td>AvailableMore than 30 hrs/weekAvailableMore th...</td>\n",
       "      <td>Translation--Writing--Design &amp; Creative--Sales...</td>\n",
       "      <td>Kenya</td>\n",
       "      <td>Actions speak louder than words. I walk the ta...</td>\n",
       "      <td>...</td>\n",
       "      <td>6.0</td>\n",
       "      <td>https://odesk-prod-portraits.s3.amazonaws.com/...</td>\n",
       "      <td>Independent</td>\n",
       "      <td>$12.50</td>\n",
       "      <td>seo--ebook-writing--microsoft-word--editorial-...</td>\n",
       "      <td>100% Job Success</td>\n",
       "      <td>5.0</td>\n",
       "      <td>Re- writer, Article writer, Content Writer, SE...</td>\n",
       "      <td>7.5</td>\n",
       "      <td>8</td>\n",
       "    </tr>\n",
       "    <tr>\n",
       "      <th>325</th>\n",
       "      <td>NaN</td>\n",
       "      <td>NaN</td>\n",
       "      <td>InfoTip=This folder is shared online.</td>\n",
       "      <td>NaN</td>\n",
       "      <td>NaN</td>\n",
       "      <td>NaN</td>\n",
       "      <td>NaN</td>\n",
       "      <td>NaN</td>\n",
       "      <td>NaN</td>\n",
       "      <td>NaN</td>\n",
       "      <td>...</td>\n",
       "      <td>NaN</td>\n",
       "      <td>NaN</td>\n",
       "      <td>NaN</td>\n",
       "      <td>NaN</td>\n",
       "      <td>NaN</td>\n",
       "      <td>NaN</td>\n",
       "      <td>NaN</td>\n",
       "      <td>NaN</td>\n",
       "      <td>NaN</td>\n",
       "      <td>NaN</td>\n",
       "    </tr>\n",
       "    <tr>\n",
       "      <th>326</th>\n",
       "      <td>NaN</td>\n",
       "      <td>NaN</td>\n",
       "      <td>IconFile=C:\\Program Files (x86)\\Google\\Drive\\g...</td>\n",
       "      <td>NaN</td>\n",
       "      <td>NaN</td>\n",
       "      <td>NaN</td>\n",
       "      <td>NaN</td>\n",
       "      <td>NaN</td>\n",
       "      <td>NaN</td>\n",
       "      <td>NaN</td>\n",
       "      <td>...</td>\n",
       "      <td>NaN</td>\n",
       "      <td>NaN</td>\n",
       "      <td>NaN</td>\n",
       "      <td>NaN</td>\n",
       "      <td>NaN</td>\n",
       "      <td>NaN</td>\n",
       "      <td>NaN</td>\n",
       "      <td>NaN</td>\n",
       "      <td>NaN</td>\n",
       "      <td>NaN</td>\n",
       "    </tr>\n",
       "    <tr>\n",
       "      <th>327</th>\n",
       "      <td>NaN</td>\n",
       "      <td>NaN</td>\n",
       "      <td>IconIndex=16</td>\n",
       "      <td>NaN</td>\n",
       "      <td>NaN</td>\n",
       "      <td>NaN</td>\n",
       "      <td>NaN</td>\n",
       "      <td>NaN</td>\n",
       "      <td>NaN</td>\n",
       "      <td>NaN</td>\n",
       "      <td>...</td>\n",
       "      <td>NaN</td>\n",
       "      <td>NaN</td>\n",
       "      <td>NaN</td>\n",
       "      <td>NaN</td>\n",
       "      <td>NaN</td>\n",
       "      <td>NaN</td>\n",
       "      <td>NaN</td>\n",
       "      <td>NaN</td>\n",
       "      <td>NaN</td>\n",
       "      <td>NaN</td>\n",
       "    </tr>\n",
       "  </tbody>\n",
       "</table>\n",
       "<p>5 rows × 33 columns</p>\n",
       "</div>"
      ],
      "text/plain": [
       "     Unnamed: 0  Unnamed: 0.1  \\\n",
       "323       148.0        2486.0   \n",
       "324       149.0        1591.0   \n",
       "325         NaN           NaN   \n",
       "326         NaN           NaN   \n",
       "327         NaN           NaN   \n",
       "\n",
       "                                     [.ShellClassInfo] accolade  \\\n",
       "323                                                NaN      NaN   \n",
       "324                                                NaN      NaN   \n",
       "325              InfoTip=This folder is shared online.      NaN   \n",
       "326  IconFile=C:\\Program Files (x86)\\Google\\Drive\\g...      NaN   \n",
       "327                                       IconIndex=16      NaN   \n",
       "\n",
       "     alreadyMessaged  api_rate  \\\n",
       "323              NaN     23.33   \n",
       "324              NaN     12.50   \n",
       "325              NaN       NaN   \n",
       "326              NaN       NaN   \n",
       "327              NaN       NaN   \n",
       "\n",
       "                                          availability  \\\n",
       "323  AvailableLess than 30 hrs/weekAvailableLess th...   \n",
       "324  AvailableMore than 30 hrs/weekAvailableMore th...   \n",
       "325                                                NaN   \n",
       "326                                                NaN   \n",
       "327                                                NaN   \n",
       "\n",
       "                                           categories2 country  \\\n",
       "323                                            Writing  Serbia   \n",
       "324  Translation--Writing--Design & Creative--Sales...   Kenya   \n",
       "325                                                NaN     NaN   \n",
       "326                                                NaN     NaN   \n",
       "327                                                NaN     NaN   \n",
       "\n",
       "                                           description  ...    \\\n",
       "323  In love with writing and psychology. Having an...  ...     \n",
       "324  Actions speak louder than words. I walk the ta...  ...     \n",
       "325                                                NaN  ...     \n",
       "326                                                NaN  ...     \n",
       "327                                                NaN  ...     \n",
       "\n",
       "    portfolio_items_count                                        portrait_50  \\\n",
       "323                   3.0  https://odesk-prod-portraits.s3.amazonaws.com/...   \n",
       "324                   6.0  https://odesk-prod-portraits.s3.amazonaws.com/...   \n",
       "325                   NaN                                                NaN   \n",
       "326                   NaN                                                NaN   \n",
       "327                   NaN                                                NaN   \n",
       "\n",
       "    profile_type scraped_rate  \\\n",
       "323  Independent       $23.33   \n",
       "324  Independent       $12.50   \n",
       "325          NaN          NaN   \n",
       "326          NaN          NaN   \n",
       "327          NaN          NaN   \n",
       "\n",
       "                                                skills           success  \\\n",
       "323  counseling-psychology--academic-writing--human...   88% Job Success   \n",
       "324  seo--ebook-writing--microsoft-word--editorial-...  100% Job Success   \n",
       "325                                                NaN               NaN   \n",
       "326                                                NaN               NaN   \n",
       "327                                                NaN               NaN   \n",
       "\n",
       "    test_passed_count                                              title  \\\n",
       "323               NaN                              Psychologist & Writer   \n",
       "324               5.0  Re- writer, Article writer, Content Writer, SE...   \n",
       "325               NaN                                                NaN   \n",
       "326               NaN                                                NaN   \n",
       "327               NaN                                                NaN   \n",
       "\n",
       "    total_hours worked  \n",
       "323         4.0      4  \n",
       "324         7.5      8  \n",
       "325         NaN    NaN  \n",
       "326         NaN    NaN  \n",
       "327         NaN    NaN  \n",
       "\n",
       "[5 rows x 33 columns]"
      ]
     },
     "execution_count": 26,
     "metadata": {},
     "output_type": "execute_result"
    }
   ],
   "source": [
    "resourceslist.tail()"
   ]
  },
  {
   "cell_type": "code",
   "execution_count": 30,
   "metadata": {
    "collapsed": false
   },
   "outputs": [],
   "source": [
    "#resourceslist.messaged"
   ]
  },
  {
   "cell_type": "code",
   "execution_count": 13,
   "metadata": {
    "collapsed": true
   },
   "outputs": [],
   "source": [
    "#rl=resourceslist.drop_duplicates()"
   ]
  },
  {
   "cell_type": "code",
   "execution_count": 5,
   "metadata": {
    "collapsed": false
   },
   "outputs": [],
   "source": [
    "r1=resourceslist"
   ]
  },
  {
   "cell_type": "code",
   "execution_count": 31,
   "metadata": {
    "collapsed": false
   },
   "outputs": [],
   "source": [
    "r1=resourceslist[resourceslist['messaged'].notnull()]"
   ]
  },
  {
   "cell_type": "code",
   "execution_count": 37,
   "metadata": {
    "collapsed": false
   },
   "outputs": [
    {
     "data": {
      "text/plain": [
       "(216, 33)"
      ]
     },
     "execution_count": 37,
     "metadata": {},
     "output_type": "execute_result"
    }
   ],
   "source": [
    "rm=r1[r1['messaged']=='Y']\n",
    "rm.shape"
   ]
  },
  {
   "cell_type": "code",
   "execution_count": 8,
   "metadata": {
    "collapsed": false
   },
   "outputs": [],
   "source": [
    "r2=r1.drop_duplicates(subset='id')"
   ]
  },
  {
   "cell_type": "code",
   "execution_count": 9,
   "metadata": {
    "collapsed": false
   },
   "outputs": [
    {
     "data": {
      "text/plain": [
       "(156, 32)"
      ]
     },
     "execution_count": 9,
     "metadata": {},
     "output_type": "execute_result"
    }
   ],
   "source": [
    "r2.shape"
   ]
  },
  {
   "cell_type": "code",
   "execution_count": 42,
   "metadata": {
    "collapsed": false
   },
   "outputs": [
    {
     "name": "stderr",
     "output_type": "stream",
     "text": [
      "C:\\Users\\amac\\Anaconda3\\lib\\site-packages\\ipykernel\\__main__.py:1: SettingWithCopyWarning: \n",
      "A value is trying to be set on a copy of a slice from a DataFrame.\n",
      "Try using .loc[row_indexer,col_indexer] = value instead\n",
      "\n",
      "See the caveats in the documentation: http://pandas.pydata.org/pandas-docs/stable/indexing.html#indexing-view-versus-copy\n",
      "  if __name__ == '__main__':\n"
     ]
    }
   ],
   "source": [
    "r2['messaged']='Y'"
   ]
  },
  {
   "cell_type": "code",
   "execution_count": 43,
   "metadata": {
    "collapsed": true
   },
   "outputs": [],
   "source": [
    "r2.to_csv('merged_batch1.csv')"
   ]
  },
  {
   "cell_type": "code",
   "execution_count": null,
   "metadata": {
    "collapsed": true
   },
   "outputs": [],
   "source": [
    "basefolder=r'C:\\Users\\amac\\Documents\\GoogleDrive\\Washu\\01-17-Dai\\Upwork\\UpworkShared\\Batch1\\Batch1Input\\159'\n",
    "print (\"Calling MultiProcess\")\n",
    "b159 = callfunction(basefolder)\n",
    "b159.shape"
   ]
  }
 ],
 "metadata": {
  "anaconda-cloud": {},
  "kernelspec": {
   "display_name": "Python [conda root]",
   "language": "python",
   "name": "conda-root-py"
  },
  "language_info": {
   "codemirror_mode": {
    "name": "ipython",
    "version": 3.0
   },
   "file_extension": ".py",
   "mimetype": "text/x-python",
   "name": "python",
   "nbconvert_exporter": "python",
   "pygments_lexer": "ipython3",
   "version": "3.5.2"
  }
 },
 "nbformat": 4,
 "nbformat_minor": 0
}