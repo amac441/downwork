{
 "cells": [
  {
   "cell_type": "code",
   "execution_count": 1,
   "metadata": {
    "collapsed": false
   },
   "outputs": [
    {
     "data": {
      "text/plain": [
       "'https://www.upwork.com/services/api/auth?oauth_token=9633e245070f4faf3afc790e998d2661'"
      ]
     },
     "execution_count": 1,
     "metadata": {},
     "output_type": "execute_result"
    }
   ],
   "source": [
    "import upwork\n",
    "#https://github.com/upwork/python-upwork\n",
    "public_key='8b4e214913168000580280e93e9a2b66'\n",
    "secret_key='5a38eba13351a43d'\n",
    "client = upwork.Client(public_key, secret_key)\n",
    "ver= client.auth.get_authorize_url()\n",
    "verif=ver.rsplit(\"=\",1)[1]\n",
    "ver"
   ]
  },
  {
   "cell_type": "code",
   "execution_count": 2,
   "metadata": {
    "collapsed": true
   },
   "outputs": [],
   "source": [
    "verif='d1715fc996dd236138ed33a6bcf93446'\n",
    "oauth_access_token, oauth_access_token_secret = client.auth.get_access_token(verif)\n",
    "client = upwork.Client(public_key, secret_key,\n",
    "                      oauth_access_token=oauth_access_token,\n",
    "                      oauth_access_token_secret=oauth_access_token_secret)"
   ]
  },
  {
   "cell_type": "code",
   "execution_count": 34,
   "metadata": {
    "collapsed": false
   },
   "outputs": [],
   "source": [
    "import pandas as pd\n",
    "csvname=r\"3_02_sampele_350.csv\"\n",
    "df = pd.read_csv(csvname)"
   ]
  },
  {
   "cell_type": "code",
   "execution_count": 35,
   "metadata": {
    "collapsed": false,
    "scrolled": true
   },
   "outputs": [],
   "source": [
    "df2=df[df.alreadyMessaged!='T']"
   ]
  },
  {
   "cell_type": "code",
   "execution_count": 36,
   "metadata": {
    "collapsed": false
   },
   "outputs": [
    {
     "data": {
      "text/plain": [
       "(349, 18)"
      ]
     },
     "execution_count": 36,
     "metadata": {},
     "output_type": "execute_result"
    }
   ],
   "source": [
    "df2=df2.rename(columns={'rate':'api_rate'})\n",
    "df2.shape"
   ]
  },
  {
   "cell_type": "code",
   "execution_count": 37,
   "metadata": {
    "collapsed": false
   },
   "outputs": [],
   "source": [
    "df2.dtypes\n",
    "df2['total_hours']=''"
   ]
  },
  {
   "cell_type": "code",
   "execution_count": 38,
   "metadata": {
    "collapsed": false
   },
   "outputs": [],
   "source": [
    "# i='~0132c06cd473540946'\n",
    "# r=client.provider.get_provider(i)\n",
    "# hours=r['dev_total_hours']\n",
    "# print(hours)"
   ]
  },
  {
   "cell_type": "code",
   "execution_count": 39,
   "metadata": {
    "collapsed": false
   },
   "outputs": [],
   "source": [
    "# r"
   ]
  },
  {
   "cell_type": "code",
   "execution_count": 40,
   "metadata": {
    "collapsed": false
   },
   "outputs": [
    {
     "name": "stdout",
     "output_type": "stream",
     "text": [
      "6\n",
      "40\n",
      "19\n",
      "0\n",
      "0\n",
      "111.5\n",
      "0\n",
      "44\n",
      "0\n",
      "0\n",
      "0\n",
      "67.49999999\n",
      "0\n",
      "1.5\n",
      "0\n",
      "8\n",
      "83.7\n",
      "0\n",
      "11.4\n",
      "275.8\n",
      "1544.0000001\n",
      "352.53333332\n",
      "359.83333333\n",
      "22\n",
      "296.63333333\n",
      "0\n",
      "0\n",
      "0\n",
      "5093.9\n",
      "509.7\n",
      "1253.7\n",
      "0\n",
      "0\n",
      "10\n",
      "0\n",
      "470.8\n",
      "2699.3333333\n",
      "0\n",
      "20.99999999\n",
      "1393.50000006\n",
      "6.66666665\n",
      "2262.83333342\n",
      "59.5\n",
      "1\n",
      "0\n",
      "0\n",
      "2179.8333334\n",
      "45.16666667\n",
      "0\n",
      "0\n",
      "0\n",
      "13.50000001\n",
      "0\n",
      "0\n",
      "0\n",
      "0\n",
      "0\n",
      "0\n",
      "25\n",
      "4439.33333321\n",
      "0\n",
      "7.83333335\n",
      "0\n",
      "5341\n",
      "0\n",
      "0\n",
      "0\n",
      "0\n",
      "0\n",
      "10.66666667\n",
      "5972.33333333\n",
      "16.16666667\n",
      "39.83333333\n",
      "0\n",
      "0\n",
      "0\n",
      "315.00000002\n",
      "22.33333334\n",
      "4.5\n",
      "878.66666664\n",
      "0\n",
      "31.66666667\n",
      "0\n",
      "325.26666668\n",
      "0\n",
      "14.5\n",
      "60.1\n",
      "19\n",
      "0\n",
      "0\n",
      "108\n",
      "0\n",
      "0\n",
      "0\n",
      "0\n",
      "0\n",
      "0\n",
      "0\n",
      "68\n",
      "55.00000004\n",
      "0\n",
      "0\n",
      "0\n",
      "16.33333332\n",
      "12\n",
      "30.33333334\n",
      "0\n",
      "0\n",
      "727.1666667\n",
      "0\n",
      "0\n",
      "0\n",
      "1\n",
      "945.50000005\n",
      "182.50000006\n",
      "54.16666667\n",
      "14.66666666\n",
      "11\n",
      "101.16666673\n",
      "0\n",
      "0\n",
      "0\n",
      "3\n",
      "0\n",
      "0\n",
      "0\n",
      "0\n",
      "80.1\n",
      "10\n",
      "297\n",
      "5178.00000012\n",
      "0\n",
      "0\n",
      "0\n",
      "141\n",
      "0\n",
      "9745.99999988\n",
      "163.66666667\n",
      "0\n",
      "2901.50000001\n",
      "0\n",
      "0\n",
      "1381.50000003\n",
      "0\n",
      "245.8333333\n",
      "0\n",
      "0\n",
      "0\n",
      "0\n",
      "528.00000004\n",
      "0\n",
      "0\n",
      "0\n",
      "1\n",
      "24.5\n",
      "24\n",
      "0\n",
      "0\n",
      "0\n",
      "0\n",
      "0\n",
      "0\n",
      "138\n",
      "470.83333333\n",
      "0\n",
      "0\n",
      "0\n",
      "0\n",
      "0\n",
      "68.16666666\n",
      "0\n",
      "0\n",
      "0\n",
      "27.6\n",
      "0\n",
      "20.4\n",
      "0\n",
      "0\n",
      "0\n",
      "0\n",
      "0\n",
      "0\n",
      "0\n",
      "0\n",
      "5321.49999987\n",
      "0\n",
      "8\n",
      "100.16666666\n",
      "0\n",
      "4\n",
      "0\n",
      "0\n",
      "46.16666666\n",
      "19\n",
      "0\n",
      "0\n",
      "0\n",
      "0\n",
      "0\n",
      "0\n",
      "12.3\n",
      "5\n",
      "0\n",
      "2\n",
      "0\n",
      "0\n",
      "617.66666663\n",
      "0\n",
      "0\n",
      "10\n",
      "0\n",
      "30.33333335\n",
      "0\n",
      "24\n",
      "5.9\n",
      "1290.96666672\n",
      "0\n",
      "0\n",
      "32.49999999\n",
      "31.00000001\n",
      "0\n",
      "0\n",
      "0\n",
      "0\n",
      "17.8\n",
      "322.33333324\n",
      "0\n",
      "12.03333333\n",
      "0\n",
      "0\n",
      "0\n",
      "2680.00000012\n",
      "3\n",
      "759.20000005\n",
      "2701.49999998\n",
      "26.5\n",
      "0\n",
      "6.6\n",
      "0\n",
      "39.16666667\n",
      "0\n",
      "0\n",
      "0\n",
      "2948.50000011\n",
      "7\n",
      "0\n",
      "0\n",
      "0\n",
      "217\n",
      "0\n",
      "0\n",
      "0\n",
      "200.83333337\n",
      "0\n",
      "0\n",
      "0\n",
      "43.9\n",
      "18\n",
      "646.83333338\n",
      "0\n",
      "0\n",
      "749.8\n",
      "0\n",
      "2201.33333342\n",
      "0\n",
      "0\n",
      "0\n",
      "18\n",
      "32.66666667\n",
      "0\n",
      "6\n",
      "0\n",
      "0\n",
      "0\n",
      "2785.00000012\n",
      "10.5\n",
      "0\n",
      "23.26666668\n",
      "0\n",
      "0\n",
      "0\n",
      "429.00000007\n",
      "0\n",
      "1.66666667\n",
      "0\n",
      "288.66666674\n",
      "860.80000005\n",
      "184.8\n",
      "0\n",
      "0\n",
      "0\n",
      "97.66666664\n",
      "4\n",
      "3\n",
      "579.20000003\n",
      "0\n",
      "17.33333334\n",
      "1036.16666664\n",
      "11.83333332\n",
      "398.26666666\n",
      "0\n",
      "853.50000003\n",
      "0\n",
      "0\n",
      "8\n",
      "0\n",
      "0\n",
      "1446.26666651\n",
      "4467.6666666\n",
      "182.16666664\n",
      "0\n",
      "0\n",
      "419.49999998\n",
      "25.5\n",
      "0\n",
      "0\n",
      "0\n",
      "0\n",
      "0\n",
      "251.16666668\n",
      "0\n",
      "5090.83333331\n",
      "68.33333335\n",
      "0\n",
      "0\n",
      "0\n",
      "0\n",
      "0\n",
      "19.66666666\n",
      "0\n",
      "0\n",
      "0\n",
      "4\n",
      "7.5\n",
      "0\n",
      "3731.33333339\n",
      "3410.66666665\n",
      "0\n",
      "3374.99999999\n",
      "0\n",
      "34.66666667\n",
      "0\n",
      "189.83333333\n",
      "0\n",
      "22.06666667\n",
      "0\n",
      "0\n",
      "27.5\n",
      "449.73333334\n"
     ]
    }
   ],
   "source": [
    "for index,row in df2.iterrows():\n",
    "    ider=row['id']\n",
    "    i=ider.split(\"/_\")[1]\n",
    "    r=client.provider.get_provider(i)\n",
    "    hours=r['dev_total_hours']\n",
    "    df2.loc[index,'total_hours']=hours\n",
    "    print(hours)"
   ]
  },
  {
   "cell_type": "code",
   "execution_count": 41,
   "metadata": {
    "collapsed": false
   },
   "outputs": [
    {
     "data": {
      "text/plain": [
       "(191, 19)"
      ]
     },
     "execution_count": 41,
     "metadata": {},
     "output_type": "execute_result"
    }
   ],
   "source": [
    "df2[df2.total_hours=='0'].shape"
   ]
  },
  {
   "cell_type": "code",
   "execution_count": 42,
   "metadata": {
    "collapsed": true
   },
   "outputs": [],
   "source": [
    "df3=df2[df2.total_hours!='0']"
   ]
  },
  {
   "cell_type": "code",
   "execution_count": 43,
   "metadata": {
    "collapsed": true
   },
   "outputs": [],
   "source": [
    "df3.to_csv(\"Batch_1_159.csv\")"
   ]
  },
  {
   "cell_type": "code",
   "execution_count": null,
   "metadata": {
    "collapsed": true
   },
   "outputs": [],
   "source": []
  }
 ],
 "metadata": {
  "anaconda-cloud": {},
  "kernelspec": {
   "display_name": "Python [conda env:py27]",
   "language": "python",
   "name": "conda-env-py27-py"
  },
  "language_info": {
   "codemirror_mode": {
    "name": "ipython",
    "version": 2
   },
   "file_extension": ".py",
   "mimetype": "text/x-python",
   "name": "python",
   "nbconvert_exporter": "python",
   "pygments_lexer": "ipython2",
   "version": "2.7.13"
  }
 },
 "nbformat": 4,
 "nbformat_minor": 1
}
