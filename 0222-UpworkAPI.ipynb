{
 "cells": [
  {
   "cell_type": "code",
   "execution_count": 4,
   "metadata": {
    "collapsed": false
   },
   "outputs": [],
   "source": [
    "import upwork\n",
    "#https://github.com/upwork/python-upwork\n",
    "public_key='8b4e214913168000580280e93e9a2b66'\n",
    "secret_key='5a38eba13351a43d'\n",
    "client = upwork.Client(public_key, secret_key)"
   ]
  },
  {
   "cell_type": "code",
   "execution_count": 8,
   "metadata": {
    "collapsed": false
   },
   "outputs": [
    {
     "data": {
      "text/plain": [
       "'https://www.upwork.com/services/api/auth?oauth_token=d85b1b55548de88b84d1137aba18548c'"
      ]
     },
     "execution_count": 8,
     "metadata": {},
     "output_type": "execute_result"
    }
   ],
   "source": [
    "ver= client.auth.get_authorize_url()\n",
    "verif=ver.rsplit(\"=\",1)[1]\n",
    "ver"
   ]
  },
  {
   "cell_type": "code",
   "execution_count": 9,
   "metadata": {
    "collapsed": false
   },
   "outputs": [],
   "source": [
    "verif='41eb33362b8ad2dd6c2213c13682704a'\n"
   ]
  },
  {
   "cell_type": "code",
   "execution_count": 10,
   "metadata": {
    "collapsed": false
   },
   "outputs": [],
   "source": [
    "oauth_access_token, oauth_access_token_secret = client.auth.get_access_token(verif)"
   ]
  },
  {
   "cell_type": "code",
   "execution_count": 287,
   "metadata": {
    "collapsed": true
   },
   "outputs": [],
   "source": [
    "client = upwork.Client(public_key, secret_key,\n",
    "                      oauth_access_token=oauth_access_token,\n",
    "                      oauth_access_token_secret=oauth_access_token_secret)"
   ]
  },
  {
   "cell_type": "code",
   "execution_count": 288,
   "metadata": {
    "collapsed": false
   },
   "outputs": [],
   "source": [
    "# article writing category id - 531770282597445642\n",
    "# Article & Blog Writing\n",
    "# client.provider_v2.get_categories_metadata()"
   ]
  },
  {
   "cell_type": "code",
   "execution_count": 313,
   "metadata": {
    "collapsed": true
   },
   "outputs": [],
   "source": [
    "i=0\n",
    "response=[]\n",
    "data = {'q':\"data science\",'hours': '1', 'profile_type':'Independent'}\n",
    "response=client.provider_v2.search_providers(data=data, page_offset=0, page_size=100)\n",
    "# response = response+r"
   ]
  },
  {
   "cell_type": "code",
   "execution_count": 314,
   "metadata": {
    "collapsed": false
   },
   "outputs": [
    {
     "data": {
      "text/plain": [
       "96"
      ]
     },
     "execution_count": 314,
     "metadata": {},
     "output_type": "execute_result"
    }
   ],
   "source": [
    "len(response)"
   ]
  },
  {
   "cell_type": "code",
   "execution_count": 217,
   "metadata": {
    "collapsed": false
   },
   "outputs": [],
   "source": [
    "#client.auth.get_request_token(ver)\n",
    "#response=[]\n",
    "for i in range(0,35):\n",
    "#     data = {'q': 'blog', 'hours': '1', 'profile_type':'Independent'}\n",
    "#     r=client.provider_v2.search_providers(data=data, page_offset=i*100, page_size=100)\n",
    "    data = {'hours': '1', 'profile_type':'Independent',\n",
    "            'subcategory2':'Article & Blog Writing'}\n",
    "    r=client.provider_v2.search_providers(data=data, page_offset=i*100, page_size=100)\n",
    "    response = response+r"
   ]
  },
  {
   "cell_type": "code",
   "execution_count": 218,
   "metadata": {
    "collapsed": true
   },
   "outputs": [],
   "source": [
    "# for i in range(0,20):\n",
    "#     data = {'q': 'writer', 'hours': '1', 'profile_type':'Independent'}\n",
    "#     r=client.provider_v2.search_providers(data=data, page_offset=i*100, page_size=100)\n",
    "#     response = response+r"
   ]
  },
  {
   "cell_type": "code",
   "execution_count": 312,
   "metadata": {
    "collapsed": false
   },
   "outputs": [
    {
     "data": {
      "text/plain": [
       "0"
      ]
     },
     "execution_count": 312,
     "metadata": {},
     "output_type": "execute_result"
    }
   ],
   "source": [
    "len(response)"
   ]
  },
  {
   "cell_type": "code",
   "execution_count": 92,
   "metadata": {
    "collapsed": false
   },
   "outputs": [],
   "source": [
    "a=[1,2,3]\n",
    "b=[3,4,5]\n",
    "c=a+b\n",
    "a.append(b)"
   ]
  },
  {
   "cell_type": "code",
   "execution_count": 90,
   "metadata": {
    "collapsed": false
   },
   "outputs": [
    {
     "data": {
      "text/plain": [
       "{u'categories2': [u'Writing',\n",
       "  u'Web, Mobile & Software Dev',\n",
       "  u'Engineering & Architecture',\n",
       "  u'Data Science & Analytics',\n",
       "  u'Admin Support'],\n",
       " u'country': u'United States',\n",
       " u'description': u\"I have ample experience writing for blogs, websites, newspapers and personal statements for applications to grad school. You may find some of my work at the Gainesville Sun's website Gainesville.com\\n\\nAlso can work with Systems Engineering. Specialized in creative problem solving, project and systems management, optimization analysis and multiple other areas.Extensive experience with Visual Basic, Matlab, Simulink and multiple simulation software. I&#039;m also Bilingual (Spanish and English)\",\n",
       " u'feedback': u'0.0',\n",
       " u'id': u'~0164f1637696555008',\n",
       " u'last_activity': u'June 8, 2014',\n",
       " u'member_since': u'May 9, 2013',\n",
       " u'name': u'Nadine N.',\n",
       " u'portfolio_items_count': u'0',\n",
       " u'portrait_50': u'https://odesk-prod-portraits.s3.amazonaws.com/Users:nadinenavarro5:PortraitUrl_50?AWSAccessKeyId=1XVAX3FNQZAFC9GJCFR2&Expires=2147483647&Signature=VUjrCQKX1AD0BkQoVB%2FYUXkD14g%3D',\n",
       " u'profile_type': u'Independent',\n",
       " u'rate': u'55.56',\n",
       " u'skills': [u'legal-research',\n",
       "  u'blog-writing',\n",
       "  u'matlab',\n",
       "  u'process-improvement',\n",
       "  u'microsoft-visual-studio',\n",
       "  u'biography-writing',\n",
       "  u'article-writing',\n",
       "  u'translation-spanish-english',\n",
       "  u'translation-english-spanish',\n",
       "  u'cover-letter-writing'],\n",
       " u'test_passed_count': u'4',\n",
       " u'title': u'Engineering Problem Solving and Professional writing and editor'}"
      ]
     },
     "execution_count": 90,
     "metadata": {},
     "output_type": "execute_result"
    }
   ],
   "source": [
    "response[99]"
   ]
  },
  {
   "cell_type": "code",
   "execution_count": 47,
   "metadata": {
    "collapsed": false
   },
   "outputs": [
    {
     "data": {
      "text/plain": [
       "{u'categories2': [u'Web, Mobile & Software Dev',\n",
       "  u'Admin Support',\n",
       "  u'IT & Networking'],\n",
       " u'country': u'India',\n",
       " u'description': u\" 7 Years experience PHP Programming, Designing templates, Frontend and Backend Development. I don't believe in setting things right but I believe in doing things right without any conflicts. \\n \\n248 Hours\\n24x7 availability\\nExpertise in Responsive Designs using Bootstrap and media queries only\\n\\nSound knowledge of following:\\n1. PHP\\n2. CodeIgniter\\n3. Bootstrap\\n4. HTML5/CSS3\\n5. Bootstrap\\n6. jQuery\\n7. Javascript\\n8. MySQL Programming\\n9. Foundation\\n10. Wordpress\\n\",\n",
       " u'feedback': u'5.0',\n",
       " u'id': u'~01eec1ca659cd5f1f5',\n",
       " u'last_activity': u'February 21, 2017',\n",
       " u'member_since': u'February 19, 2015',\n",
       " u'name': u'Pooja Pathania',\n",
       " u'portfolio_items_count': u'1',\n",
       " u'portrait_50': u'https://odesk-prod-portraits.s3.amazonaws.com/Users:poojapathania:PortraitUrl_50?AWSAccessKeyId=1XVAX3FNQZAFC9GJCFR2&Expires=2147483647&Signature=IewusguE3d6AKzCsAwu2u8OBFm4%3D&1470110464077171',\n",
       " u'profile_type': u'Independent',\n",
       " u'rate': u'10.5',\n",
       " u'skills': [u'php',\n",
       "  u'drupal',\n",
       "  u'codeigniter',\n",
       "  u'wordpress',\n",
       "  u'bootstrap',\n",
       "  u'psd-to-html',\n",
       "  u'jquery',\n",
       "  u'ajax',\n",
       "  u'javascript'],\n",
       " u'test_passed_count': u'6',\n",
       " u'title': u'jQuery, PHP, CodeIgniter,  Bootstrap, HTML5/CSS3,  Responsive Desig'}"
      ]
     },
     "execution_count": 47,
     "metadata": {},
     "output_type": "execute_result"
    }
   ],
   "source": [
    "response[0]"
   ]
  },
  {
   "cell_type": "code",
   "execution_count": 155,
   "metadata": {
    "collapsed": false
   },
   "outputs": [],
   "source": [
    "keys=r.keys()"
   ]
  },
  {
   "cell_type": "code",
   "execution_count": 158,
   "metadata": {
    "collapsed": false
   },
   "outputs": [
    {
     "data": {
      "text/plain": [
       "[u'categories2',\n",
       " u'profile_type',\n",
       " u'title',\n",
       " u'skills',\n",
       " u'country',\n",
       " u'name',\n",
       " u'last_activity',\n",
       " u'rate',\n",
       " u'member_since',\n",
       " u'portfolio_items_count',\n",
       " u'id',\n",
       " u'test_passed_count',\n",
       " u'feedback']"
      ]
     },
     "execution_count": 158,
     "metadata": {},
     "output_type": "execute_result"
    }
   ],
   "source": [
    "keys"
   ]
  },
  {
   "cell_type": "code",
   "execution_count": 159,
   "metadata": {
    "collapsed": false
   },
   "outputs": [],
   "source": [
    "#skills, categories have multiple\n",
    "keys=['portrait_50',\n",
    " 'categories2',\n",
    " 'profile_type',\n",
    " 'title',\n",
    " 'skills',\n",
    " 'country',\n",
    " 'description',\n",
    " 'name',\n",
    " 'last_activity',\n",
    " 'rate',\n",
    " 'member_since',\n",
    " 'portfolio_items_count',\n",
    " 'id',\n",
    " 'test_passed_count',\n",
    " 'feedback']"
   ]
  },
  {
   "cell_type": "code",
   "execution_count": 315,
   "metadata": {
    "collapsed": false
   },
   "outputs": [],
   "source": [
    "csvname='upworkResourceCSV3'\n",
    "f = open(csvname+'.csv','w')"
   ]
  },
  {
   "cell_type": "code",
   "execution_count": 316,
   "metadata": {
    "collapsed": false
   },
   "outputs": [],
   "source": [
    "f.write(\";\".join(k))"
   ]
  },
  {
   "cell_type": "code",
   "execution_count": 317,
   "metadata": {
    "collapsed": true
   },
   "outputs": [],
   "source": [
    "# f.close()"
   ]
  },
  {
   "cell_type": "code",
   "execution_count": 318,
   "metadata": {
    "collapsed": false
   },
   "outputs": [],
   "source": [
    "#f = open('upworkResourceCSV.csv','a')\n",
    "for r in response:\n",
    "    data=[]\n",
    "    f.write(\"\\n\")\n",
    "    for key in keys:\n",
    "        try:\n",
    "            value=r[key]\n",
    "            if isinstance(value, (list, tuple)):\n",
    "                value=\"--\".join(value)\n",
    "            \n",
    "            if key == \"id\":\n",
    "                #https://www.upwork.com/freelancers/_~01ff203de58fed31fb/\n",
    "                value=r\"https://www.upwork.com/freelancers/_\"+value\n",
    "            value=value.encode('ascii', 'ignore')\n",
    "            value=''.join(value.splitlines())\n",
    "            data.append(value.replace(\";\",'..'))\n",
    "        except:\n",
    "            data.append(\"-\")\n",
    "\n",
    "    f.write(\";\".join(data))\n",
    "\n",
    "f.close()"
   ]
  },
  {
   "cell_type": "code",
   "execution_count": 319,
   "metadata": {
    "collapsed": false
   },
   "outputs": [
    {
     "data": {
      "text/plain": [
       "(96, 15)"
      ]
     },
     "execution_count": 319,
     "metadata": {},
     "output_type": "execute_result"
    }
   ],
   "source": [
    "import pandas as pd\n",
    "df = pd.read_csv(csvname+'.csv',delimiter=\";\")\n",
    "df.shape"
   ]
  },
  {
   "cell_type": "code",
   "execution_count": 320,
   "metadata": {
    "collapsed": false
   },
   "outputs": [
    {
     "data": {
      "text/plain": [
       "(0, 15)"
      ]
     },
     "execution_count": 320,
     "metadata": {},
     "output_type": "execute_result"
    }
   ],
   "source": [
    "df[df.duplicated()].shape"
   ]
  },
  {
   "cell_type": "code",
   "execution_count": 321,
   "metadata": {
    "collapsed": true
   },
   "outputs": [],
   "source": [
    "df2=df.drop_duplicates()"
   ]
  },
  {
   "cell_type": "code",
   "execution_count": 322,
   "metadata": {
    "collapsed": false
   },
   "outputs": [
    {
     "data": {
      "text/plain": [
       "(96, 15)"
      ]
     },
     "execution_count": 322,
     "metadata": {},
     "output_type": "execute_result"
    }
   ],
   "source": [
    "df2.shape"
   ]
  },
  {
   "cell_type": "code",
   "execution_count": null,
   "metadata": {
    "collapsed": false
   },
   "outputs": [],
   "source": []
  },
  {
   "cell_type": "code",
   "execution_count": 302,
   "metadata": {
    "collapsed": false
   },
   "outputs": [
    {
     "data": {
      "text/plain": [
       "Series([], Name: last_activity, dtype: object)"
      ]
     },
     "execution_count": 302,
     "metadata": {},
     "output_type": "execute_result"
    }
   ],
   "source": [
    "df['last_activity']"
   ]
  },
  {
   "cell_type": "code",
   "execution_count": 306,
   "metadata": {
    "collapsed": false
   },
   "outputs": [],
   "source": [
    "df2['last_activity']=pd.to_datetime(df2.last_activity)"
   ]
  },
  {
   "cell_type": "code",
   "execution_count": 307,
   "metadata": {
    "collapsed": false
   },
   "outputs": [
    {
     "data": {
      "text/plain": [
       "(0, 15)"
      ]
     },
     "execution_count": 307,
     "metadata": {},
     "output_type": "execute_result"
    }
   ],
   "source": [
    "df2[df2.last_activity>'2017-02-02'].shape"
   ]
  },
  {
   "cell_type": "code",
   "execution_count": 242,
   "metadata": {
    "collapsed": true
   },
   "outputs": [],
   "source": [
    "df3=df2[df2.last_activity>'2017-02-02']"
   ]
  },
  {
   "cell_type": "code",
   "execution_count": 256,
   "metadata": {
    "collapsed": false
   },
   "outputs": [
    {
     "data": {
      "text/plain": [
       "(237, 15)"
      ]
     },
     "execution_count": 256,
     "metadata": {},
     "output_type": "execute_result"
    }
   ],
   "source": [
    "df4=df3[(df3.rate>=10) & (df3.rate<=30)]"
   ]
  },
  {
   "cell_type": "code",
   "execution_count": 257,
   "metadata": {
    "collapsed": true
   },
   "outputs": [],
   "source": [
    "df4.to_csv(\"RecentActivity.csv\")"
   ]
  },
  {
   "cell_type": "code",
   "execution_count": 323,
   "metadata": {
    "collapsed": false
   },
   "outputs": [],
   "source": [
    "sample=df2.sample(10)\n",
    "sample.to_csv(\"2_24_sampele_\"+str(10)+\".csv\")"
   ]
  },
  {
   "cell_type": "markdown",
   "metadata": {},
   "source": [
    "# Testing Dataframes\n"
   ]
  },
  {
   "cell_type": "code",
   "execution_count": 325,
   "metadata": {
    "collapsed": false
   },
   "outputs": [],
   "source": [
    "data = {'name': ['Jason', 'Molly', 'Tina', 'Jake', 'Amy'], \n",
    "        'year': [2012, 2012, 2013, 2014, 2014], \n",
    "        'reports': [4, 24, 31, 2, 3]}\n",
    "dframe = pd.DataFrame(data, index = ['Cochice', 'Pima', 'Santa Cruz', 'Maricopa', 'Yuma'])"
   ]
  },
  {
   "cell_type": "code",
   "execution_count": 327,
   "metadata": {
    "collapsed": false
   },
   "outputs": [
    {
     "ename": "KeyError",
     "evalue": "0",
     "output_type": "error",
     "traceback": [
      "\u001b[0;31m---------------------------------------------------------------------------\u001b[0m",
      "\u001b[0;31mKeyError\u001b[0m                                  Traceback (most recent call last)",
      "\u001b[0;32m<ipython-input-327-6047d18ac484>\u001b[0m in \u001b[0;36m<module>\u001b[0;34m()\u001b[0m\n\u001b[0;32m----> 1\u001b[0;31m \u001b[0mdframe\u001b[0m\u001b[1;33m.\u001b[0m\u001b[0mindex\u001b[0m\u001b[1;33m.\u001b[0m\u001b[0mget_loc\u001b[0m\u001b[1;33m(\u001b[0m\u001b[0mdf\u001b[0m\u001b[1;33m.\u001b[0m\u001b[0miloc\u001b[0m\u001b[1;33m[\u001b[0m\u001b[1;36m0\u001b[0m\u001b[1;33m]\u001b[0m\u001b[1;33m.\u001b[0m\u001b[0mname\u001b[0m\u001b[1;33m)\u001b[0m\u001b[1;33m\u001b[0m\u001b[0m\n\u001b[0m",
      "\u001b[0;32mC:\\Users\\amac\\Anaconda3\\envs\\py27\\lib\\site-packages\\pandas\\core\\index.pyc\u001b[0m in \u001b[0;36mget_loc\u001b[0;34m(self, key, method, tolerance)\u001b[0m\n\u001b[1;32m   1690\u001b[0m                 raise ValueError('tolerance argument only valid if using pad, '\n\u001b[1;32m   1691\u001b[0m                                  'backfill or nearest lookups')\n\u001b[0;32m-> 1692\u001b[0;31m             \u001b[1;32mreturn\u001b[0m \u001b[0mself\u001b[0m\u001b[1;33m.\u001b[0m\u001b[0m_engine\u001b[0m\u001b[1;33m.\u001b[0m\u001b[0mget_loc\u001b[0m\u001b[1;33m(\u001b[0m\u001b[0m_values_from_object\u001b[0m\u001b[1;33m(\u001b[0m\u001b[0mkey\u001b[0m\u001b[1;33m)\u001b[0m\u001b[1;33m)\u001b[0m\u001b[1;33m\u001b[0m\u001b[0m\n\u001b[0m\u001b[1;32m   1693\u001b[0m \u001b[1;33m\u001b[0m\u001b[0m\n\u001b[1;32m   1694\u001b[0m         indexer = self.get_indexer([key], method=method,\n",
      "\u001b[0;32mpandas\\index.pyx\u001b[0m in \u001b[0;36mpandas.index.IndexEngine.get_loc (pandas\\index.c:3979)\u001b[0;34m()\u001b[0m\n",
      "\u001b[0;32mpandas\\index.pyx\u001b[0m in \u001b[0;36mpandas.index.IndexEngine.get_loc (pandas\\index.c:3843)\u001b[0;34m()\u001b[0m\n",
      "\u001b[0;32mpandas\\hashtable.pyx\u001b[0m in \u001b[0;36mpandas.hashtable.PyObjectHashTable.get_item (pandas\\hashtable.c:12265)\u001b[0;34m()\u001b[0m\n",
      "\u001b[0;32mpandas\\hashtable.pyx\u001b[0m in \u001b[0;36mpandas.hashtable.PyObjectHashTable.get_item (pandas\\hashtable.c:12216)\u001b[0;34m()\u001b[0m\n",
      "\u001b[0;31mKeyError\u001b[0m: 0"
     ]
    }
   ],
   "source": [
    "dframe.index.get_loc(df.iloc[0].name)"
   ]
  },
  {
   "cell_type": "code",
   "execution_count": 328,
   "metadata": {
    "collapsed": false
   },
   "outputs": [
    {
     "data": {
      "text/html": [
       "<div>\n",
       "<table border=\"1\" class=\"dataframe\">\n",
       "  <thead>\n",
       "    <tr style=\"text-align: right;\">\n",
       "      <th></th>\n",
       "      <th>name</th>\n",
       "      <th>reports</th>\n",
       "      <th>year</th>\n",
       "    </tr>\n",
       "  </thead>\n",
       "  <tbody>\n",
       "    <tr>\n",
       "      <th>Cochice</th>\n",
       "      <td>Jason</td>\n",
       "      <td>4</td>\n",
       "      <td>2012</td>\n",
       "    </tr>\n",
       "    <tr>\n",
       "      <th>Pima</th>\n",
       "      <td>Molly</td>\n",
       "      <td>24</td>\n",
       "      <td>2012</td>\n",
       "    </tr>\n",
       "    <tr>\n",
       "      <th>Santa Cruz</th>\n",
       "      <td>Tina</td>\n",
       "      <td>31</td>\n",
       "      <td>2013</td>\n",
       "    </tr>\n",
       "    <tr>\n",
       "      <th>Maricopa</th>\n",
       "      <td>Jake</td>\n",
       "      <td>2</td>\n",
       "      <td>2014</td>\n",
       "    </tr>\n",
       "    <tr>\n",
       "      <th>Yuma</th>\n",
       "      <td>Amy</td>\n",
       "      <td>3</td>\n",
       "      <td>2014</td>\n",
       "    </tr>\n",
       "  </tbody>\n",
       "</table>\n",
       "</div>"
      ],
      "text/plain": [
       "             name  reports  year\n",
       "Cochice     Jason        4  2012\n",
       "Pima        Molly       24  2012\n",
       "Santa Cruz   Tina       31  2013\n",
       "Maricopa     Jake        2  2014\n",
       "Yuma          Amy        3  2014"
      ]
     },
     "execution_count": 328,
     "metadata": {},
     "output_type": "execute_result"
    }
   ],
   "source": [
    "dframe"
   ]
  },
  {
   "cell_type": "code",
   "execution_count": 252,
   "metadata": {
    "collapsed": false
   },
   "outputs": [
    {
     "data": {
      "text/html": [
       "<div>\n",
       "<table border=\"1\" class=\"dataframe\">\n",
       "  <thead>\n",
       "    <tr style=\"text-align: right;\">\n",
       "      <th></th>\n",
       "      <th>name</th>\n",
       "      <th>reports</th>\n",
       "      <th>year</th>\n",
       "    </tr>\n",
       "  </thead>\n",
       "  <tbody>\n",
       "    <tr>\n",
       "      <th>Santa Cruz</th>\n",
       "      <td>Tina</td>\n",
       "      <td>31</td>\n",
       "      <td>2013</td>\n",
       "    </tr>\n",
       "    <tr>\n",
       "      <th>Maricopa</th>\n",
       "      <td>Jake</td>\n",
       "      <td>2</td>\n",
       "      <td>2014</td>\n",
       "    </tr>\n",
       "    <tr>\n",
       "      <th>Yuma</th>\n",
       "      <td>Amy</td>\n",
       "      <td>3</td>\n",
       "      <td>2014</td>\n",
       "    </tr>\n",
       "  </tbody>\n",
       "</table>\n",
       "</div>"
      ],
      "text/plain": [
       "            name  reports  year\n",
       "Santa Cruz  Tina       31  2013\n",
       "Maricopa    Jake        2  2014\n",
       "Yuma         Amy        3  2014"
      ]
     },
     "execution_count": 252,
     "metadata": {},
     "output_type": "execute_result"
    }
   ],
   "source": [
    "df.drop(df.index[[0,1]])"
   ]
  },
  {
   "cell_type": "code",
   "execution_count": 254,
   "metadata": {
    "collapsed": false
   },
   "outputs": [
    {
     "data": {
      "text/html": [
       "<div>\n",
       "<table border=\"1\" class=\"dataframe\">\n",
       "  <thead>\n",
       "    <tr style=\"text-align: right;\">\n",
       "      <th></th>\n",
       "      <th>name</th>\n",
       "      <th>reports</th>\n",
       "      <th>year</th>\n",
       "    </tr>\n",
       "  </thead>\n",
       "  <tbody>\n",
       "    <tr>\n",
       "      <th>Cochice</th>\n",
       "      <td>Jason</td>\n",
       "      <td>4</td>\n",
       "      <td>2012</td>\n",
       "    </tr>\n",
       "    <tr>\n",
       "      <th>Pima</th>\n",
       "      <td>Molly</td>\n",
       "      <td>24</td>\n",
       "      <td>2012</td>\n",
       "    </tr>\n",
       "    <tr>\n",
       "      <th>Santa Cruz</th>\n",
       "      <td>Tina</td>\n",
       "      <td>31</td>\n",
       "      <td>2013</td>\n",
       "    </tr>\n",
       "  </tbody>\n",
       "</table>\n",
       "</div>"
      ],
      "text/plain": [
       "             name  reports  year\n",
       "Cochice     Jason        4  2012\n",
       "Pima        Molly       24  2012\n",
       "Santa Cruz   Tina       31  2013"
      ]
     },
     "execution_count": 254,
     "metadata": {},
     "output_type": "execute_result"
    }
   ],
   "source": [
    "df.drop(['Maricopa', 'Yuma'])"
   ]
  },
  {
   "cell_type": "code",
   "execution_count": 281,
   "metadata": {
    "collapsed": true
   },
   "outputs": [],
   "source": [
    "df['new']=''"
   ]
  },
  {
   "cell_type": "code",
   "execution_count": 282,
   "metadata": {
    "collapsed": false
   },
   "outputs": [],
   "source": [
    "df.loc[\"Cochice\",'new']=1"
   ]
  },
  {
   "cell_type": "code",
   "execution_count": 283,
   "metadata": {
    "collapsed": false
   },
   "outputs": [
    {
     "data": {
      "text/html": [
       "<div>\n",
       "<table border=\"1\" class=\"dataframe\">\n",
       "  <thead>\n",
       "    <tr style=\"text-align: right;\">\n",
       "      <th></th>\n",
       "      <th>name</th>\n",
       "      <th>reports</th>\n",
       "      <th>year</th>\n",
       "      <th>new</th>\n",
       "    </tr>\n",
       "  </thead>\n",
       "  <tbody>\n",
       "    <tr>\n",
       "      <th>Cochice</th>\n",
       "      <td>Jason</td>\n",
       "      <td>4</td>\n",
       "      <td>2012</td>\n",
       "      <td>1</td>\n",
       "    </tr>\n",
       "    <tr>\n",
       "      <th>Pima</th>\n",
       "      <td>Molly</td>\n",
       "      <td>24</td>\n",
       "      <td>2012</td>\n",
       "      <td></td>\n",
       "    </tr>\n",
       "    <tr>\n",
       "      <th>Santa Cruz</th>\n",
       "      <td>Tina</td>\n",
       "      <td>31</td>\n",
       "      <td>2013</td>\n",
       "      <td></td>\n",
       "    </tr>\n",
       "    <tr>\n",
       "      <th>Maricopa</th>\n",
       "      <td>Jake</td>\n",
       "      <td>2</td>\n",
       "      <td>2014</td>\n",
       "      <td></td>\n",
       "    </tr>\n",
       "    <tr>\n",
       "      <th>Yuma</th>\n",
       "      <td>Amy</td>\n",
       "      <td>3</td>\n",
       "      <td>2014</td>\n",
       "      <td></td>\n",
       "    </tr>\n",
       "    <tr>\n",
       "      <th>new</th>\n",
       "      <td>1</td>\n",
       "      <td>1</td>\n",
       "      <td>1</td>\n",
       "      <td></td>\n",
       "    </tr>\n",
       "  </tbody>\n",
       "</table>\n",
       "</div>"
      ],
      "text/plain": [
       "             name  reports  year new\n",
       "Cochice     Jason        4  2012   1\n",
       "Pima        Molly       24  2012    \n",
       "Santa Cruz   Tina       31  2013    \n",
       "Maricopa     Jake        2  2014    \n",
       "Yuma          Amy        3  2014    \n",
       "new             1        1     1    "
      ]
     },
     "execution_count": 283,
     "metadata": {},
     "output_type": "execute_result"
    }
   ],
   "source": [
    "df"
   ]
  },
  {
   "cell_type": "code",
   "execution_count": 263,
   "metadata": {
    "collapsed": false
   },
   "outputs": [
    {
     "data": {
      "text/plain": [
       "',portrait_50,categories2,profile_type,title,skills,country,description,name,last_activity,rate,member_since,portfolio_items_count,id,test_passed_count,feedback\\n'"
      ]
     },
     "execution_count": 263,
     "metadata": {},
     "output_type": "execute_result"
    }
   ],
   "source": [
    "file=r\"C:\\Users\\amac\\Documents\\Development\\0117-DaiAnalysis\\Upwork\\2_25_sampele_10.csv\"\n",
    "readfile=open(file,'r')\n",
    "readfile.readline()"
   ]
  },
  {
   "cell_type": "code",
   "execution_count": 264,
   "metadata": {
    "collapsed": false
   },
   "outputs": [
    {
     "data": {
      "text/plain": [
       "'343,https://odesk-prod-portraits.s3.amazonaws.com/Users:writing_4_scrapz:PortraitUrl_50?AWSAccessKeyId=1XVAX3FNQZAFC9GJCFR2&Expires=2147483647&Signature=%2FqlFtGoPkrg299sAcugvZ3IoMec%3D&1459631229497367,Writing,Independent,Your ideas ... realized,academic-writing--copy-editing--content-writing--seo-keyword-research--creative-writing--research-papers--article-writing--ghostwriting--sports-writing--social-media-management,United States,\"Paper Cuts provides superior writing services at an affordable price.  A solo operation, I pride myself on giving my clients the personal attention that other larger service providers cannot.  I am dedicated to meeting deadlines and expectations, and always give my clients the type of service that I would expect to receive myself.\",Paper Cuts,2017-02-24,14.0,\"July 12, 2007\",19,https://www.upwork.com/freelancers/_~016326f4b433ba31ca,1,4.7476995938\\n'"
      ]
     },
     "execution_count": 264,
     "metadata": {},
     "output_type": "execute_result"
    }
   ],
   "source": [
    "readfile.readline()"
   ]
  },
  {
   "cell_type": "code",
   "execution_count": 265,
   "metadata": {
    "collapsed": true
   },
   "outputs": [],
   "source": [
    "import csv\n",
    "with open(file, mode='r') as infile:\n",
    "    reader = csv.reader(infile)\n",
    "    mydict = {rows[0]:rows[1] for rows in reader}"
   ]
  },
  {
   "cell_type": "code",
   "execution_count": 270,
   "metadata": {
    "collapsed": false
   },
   "outputs": [],
   "source": [
    "reader = csv.DictReader(open(file, 'rb'))\n",
    "dict_list = []\n",
    "for line in reader:\n",
    "    dict_list.append(line)"
   ]
  },
  {
   "cell_type": "code",
   "execution_count": 272,
   "metadata": {
    "collapsed": false
   },
   "outputs": [
    {
     "data": {
      "text/plain": [
       "{'': '343',\n",
       " 'categories2': 'Writing',\n",
       " 'country': 'United States',\n",
       " 'description': 'Paper Cuts provides superior writing services at an affordable price.  A solo operation, I pride myself on giving my clients the personal attention that other larger service providers cannot.  I am dedicated to meeting deadlines and expectations, and always give my clients the type of service that I would expect to receive myself.',\n",
       " 'feedback': '4.7476995938',\n",
       " 'id': 'https://www.upwork.com/freelancers/_~016326f4b433ba31ca',\n",
       " 'last_activity': '2017-02-24',\n",
       " 'member_since': 'July 12, 2007',\n",
       " 'name': 'Paper Cuts',\n",
       " 'portfolio_items_count': '19',\n",
       " 'portrait_50': 'https://odesk-prod-portraits.s3.amazonaws.com/Users:writing_4_scrapz:PortraitUrl_50?AWSAccessKeyId=1XVAX3FNQZAFC9GJCFR2&Expires=2147483647&Signature=%2FqlFtGoPkrg299sAcugvZ3IoMec%3D&1459631229497367',\n",
       " 'profile_type': 'Independent',\n",
       " 'rate': '14.0',\n",
       " 'skills': 'academic-writing--copy-editing--content-writing--seo-keyword-research--creative-writing--research-papers--article-writing--ghostwriting--sports-writing--social-media-management',\n",
       " 'test_passed_count': '1',\n",
       " 'title': 'Your ideas ... realized'}"
      ]
     },
     "execution_count": 272,
     "metadata": {},
     "output_type": "execute_result"
    }
   ],
   "source": [
    "dict_list[0]"
   ]
  },
  {
   "cell_type": "code",
   "execution_count": null,
   "metadata": {
    "collapsed": true
   },
   "outputs": [],
   "source": []
  }
 ],
 "metadata": {
  "anaconda-cloud": {},
  "kernelspec": {
   "display_name": "Python [conda env:py27]",
   "language": "python",
   "name": "conda-env-py27-py"
  },
  "language_info": {
   "codemirror_mode": {
    "name": "ipython",
    "version": 2
   },
   "file_extension": ".py",
   "mimetype": "text/x-python",
   "name": "python",
   "nbconvert_exporter": "python",
   "pygments_lexer": "ipython2",
   "version": "2.7.13"
  }
 },
 "nbformat": 4,
 "nbformat_minor": 1
}
